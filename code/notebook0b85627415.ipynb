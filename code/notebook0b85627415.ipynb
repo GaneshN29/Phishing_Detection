{
 "cells": [
  {
   "cell_type": "code",
   "execution_count": 1,
   "id": "8eb9e2c8",
   "metadata": {
    "execution": {
     "iopub.execute_input": "2024-03-28T18:49:10.676220Z",
     "iopub.status.busy": "2024-03-28T18:49:10.675494Z",
     "iopub.status.idle": "2024-03-28T18:49:28.782257Z",
     "shell.execute_reply": "2024-03-28T18:49:28.780573Z"
    },
    "executionInfo": {
     "elapsed": 393692,
     "status": "ok",
     "timestamp": 1711617572382,
     "user": {
      "displayName": "project h",
      "userId": "02799284407731197507"
     },
     "user_tz": -330
    },
    "id": "72sbrOFoYyhA",
    "outputId": "d6e76207-7699-45e4-848a-e3d1dac56e76",
    "papermill": {
     "duration": 18.115905,
     "end_time": "2024-03-28T18:49:28.784807",
     "exception": false,
     "start_time": "2024-03-28T18:49:10.668902",
     "status": "completed"
    },
    "tags": []
   },
   "outputs": [
    {
     "name": "stderr",
     "output_type": "stream",
     "text": [
      "2024-03-28 18:49:15.349782: E external/local_xla/xla/stream_executor/cuda/cuda_dnn.cc:9261] Unable to register cuDNN factory: Attempting to register factory for plugin cuDNN when one has already been registered\n",
      "2024-03-28 18:49:15.349986: E external/local_xla/xla/stream_executor/cuda/cuda_fft.cc:607] Unable to register cuFFT factory: Attempting to register factory for plugin cuFFT when one has already been registered\n",
      "2024-03-28 18:49:15.526592: E external/local_xla/xla/stream_executor/cuda/cuda_blas.cc:1515] Unable to register cuBLAS factory: Attempting to register factory for plugin cuBLAS when one has already been registered\n"
     ]
    }
   ],
   "source": [
    "import os\n",
    "import cv2\n",
    "import numpy as np\n",
    "from sklearn.model_selection import train_test_split\n",
    "\n",
    "from tensorflow.keras.models import Model\n",
    "\n",
    "import matplotlib.pyplot as plt\n",
    "import seaborn as sns\n",
    "import pandas as pd\n",
    "import numpy as np\n",
    "\n",
    "%matplotlib inline\n",
    "\n",
    "import pandas as pd\n",
    "dataset = pd.read_csv('/kaggle/input/fffffff/features_dataset.csv')"
   ]
  },
  {
   "cell_type": "code",
   "execution_count": 2,
   "id": "a210ff65",
   "metadata": {
    "execution": {
     "iopub.execute_input": "2024-03-28T18:49:28.793796Z",
     "iopub.status.busy": "2024-03-28T18:49:28.793332Z",
     "iopub.status.idle": "2024-03-28T18:49:28.802246Z",
     "shell.execute_reply": "2024-03-28T18:49:28.800962Z"
    },
    "id": "SW5v2La2ZFts",
    "papermill": {
     "duration": 0.016791,
     "end_time": "2024-03-28T18:49:28.805197",
     "exception": false,
     "start_time": "2024-03-28T18:49:28.788406",
     "status": "completed"
    },
    "tags": []
   },
   "outputs": [],
   "source": [
    "from tensorflow.keras.layers import Input, Dense, Concatenate\n",
    "from tensorflow.keras.models import Model\n",
    "from tensorflow.keras.models import Sequential\n",
    "# Model 1: Feedforward Neural Network (FNN)\n",
    "def create_feedforward_neural_network(input_dim):\n",
    "    model = Sequential()\n",
    "    model.add(Dense(128, input_dim=input_dim, activation='relu'))\n",
    "    model.add(Dense(64, activation='relu'))\n",
    "    model.add(Dense(1, activation='sigmoid'))\n",
    "    model.compile(optimizer='adam', loss='binary_crossentropy', metrics=['accuracy'])\n",
    "    return model"
   ]
  },
  {
   "cell_type": "code",
   "execution_count": 3,
   "id": "9d5e5dcd",
   "metadata": {
    "execution": {
     "iopub.execute_input": "2024-03-28T18:49:28.813854Z",
     "iopub.status.busy": "2024-03-28T18:49:28.813352Z",
     "iopub.status.idle": "2024-03-28T18:50:24.030510Z",
     "shell.execute_reply": "2024-03-28T18:50:24.028122Z"
    },
    "executionInfo": {
     "elapsed": 124823,
     "status": "ok",
     "timestamp": 1711617697200,
     "user": {
      "displayName": "project h",
      "userId": "02799284407731197507"
     },
     "user_tz": -330
    },
    "id": "mxcR6AKmZHoq",
    "outputId": "e9c88e9a-3b06-4da2-f108-7c45edce111f",
    "papermill": {
     "duration": 55.22511,
     "end_time": "2024-03-28T18:50:24.033725",
     "exception": false,
     "start_time": "2024-03-28T18:49:28.808615",
     "status": "completed"
    },
    "tags": []
   },
   "outputs": [
    {
     "name": "stderr",
     "output_type": "stream",
     "text": [
      "/opt/conda/lib/python3.10/pty.py:89: RuntimeWarning: os.fork() was called. os.fork() is incompatible with multithreaded code, and JAX is multithreaded, so this will likely lead to a deadlock.\n",
      "  pid, fd = os.forkpty()\n"
     ]
    },
    {
     "name": "stdout",
     "output_type": "stream",
     "text": [
      "Collecting pytorch-tabnet\r\n",
      "  Downloading pytorch_tabnet-4.1.0-py3-none-any.whl.metadata (15 kB)\r\n",
      "Requirement already satisfied: numpy>=1.17 in /opt/conda/lib/python3.10/site-packages (from pytorch-tabnet) (1.26.4)\r\n",
      "Requirement already satisfied: scikit_learn>0.21 in /opt/conda/lib/python3.10/site-packages (from pytorch-tabnet) (1.2.2)\r\n",
      "Requirement already satisfied: scipy>1.4 in /opt/conda/lib/python3.10/site-packages (from pytorch-tabnet) (1.11.4)\r\n",
      "Requirement already satisfied: torch>=1.3 in /opt/conda/lib/python3.10/site-packages (from pytorch-tabnet) (2.1.2+cpu)\r\n",
      "Requirement already satisfied: tqdm>=4.36 in /opt/conda/lib/python3.10/site-packages (from pytorch-tabnet) (4.66.1)\r\n",
      "Requirement already satisfied: joblib>=1.1.1 in /opt/conda/lib/python3.10/site-packages (from scikit_learn>0.21->pytorch-tabnet) (1.3.2)\r\n",
      "Requirement already satisfied: threadpoolctl>=2.0.0 in /opt/conda/lib/python3.10/site-packages (from scikit_learn>0.21->pytorch-tabnet) (3.2.0)\r\n",
      "Requirement already satisfied: filelock in /opt/conda/lib/python3.10/site-packages (from torch>=1.3->pytorch-tabnet) (3.13.1)\r\n",
      "Requirement already satisfied: typing-extensions in /opt/conda/lib/python3.10/site-packages (from torch>=1.3->pytorch-tabnet) (4.9.0)\r\n",
      "Requirement already satisfied: sympy in /opt/conda/lib/python3.10/site-packages (from torch>=1.3->pytorch-tabnet) (1.12)\r\n",
      "Requirement already satisfied: networkx in /opt/conda/lib/python3.10/site-packages (from torch>=1.3->pytorch-tabnet) (3.2.1)\r\n",
      "Requirement already satisfied: jinja2 in /opt/conda/lib/python3.10/site-packages (from torch>=1.3->pytorch-tabnet) (3.1.2)\r\n",
      "Requirement already satisfied: fsspec in /opt/conda/lib/python3.10/site-packages (from torch>=1.3->pytorch-tabnet) (2024.3.0)\r\n",
      "Requirement already satisfied: MarkupSafe>=2.0 in /opt/conda/lib/python3.10/site-packages (from jinja2->torch>=1.3->pytorch-tabnet) (2.1.3)\r\n",
      "Requirement already satisfied: mpmath>=0.19 in /opt/conda/lib/python3.10/site-packages (from sympy->torch>=1.3->pytorch-tabnet) (1.3.0)\r\n",
      "Downloading pytorch_tabnet-4.1.0-py3-none-any.whl (44 kB)\r\n",
      "\u001b[2K   \u001b[90m━━━━━━━━━━━━━━━━━━━━━━━━━━━━━━━━━━━━━━━━\u001b[0m \u001b[32m44.5/44.5 kB\u001b[0m \u001b[31m2.0 MB/s\u001b[0m eta \u001b[36m0:00:00\u001b[0m\r\n",
      "\u001b[?25hInstalling collected packages: pytorch-tabnet\r\n",
      "Successfully installed pytorch-tabnet-4.1.0\r\n",
      "Collecting python-whois\r\n",
      "  Downloading python_whois-0.9.3-py3-none-any.whl.metadata (3.2 kB)\r\n",
      "Requirement already satisfied: python-dateutil in /opt/conda/lib/python3.10/site-packages (from python-whois) (2.9.0.post0)\r\n",
      "Requirement already satisfied: six>=1.5 in /opt/conda/lib/python3.10/site-packages (from python-dateutil->python-whois) (1.16.0)\r\n",
      "Downloading python_whois-0.9.3-py3-none-any.whl (103 kB)\r\n",
      "\u001b[2K   \u001b[90m━━━━━━━━━━━━━━━━━━━━━━━━━━━━━━━━━━━━━━━━\u001b[0m \u001b[32m103.3/103.3 kB\u001b[0m \u001b[31m4.3 MB/s\u001b[0m eta \u001b[36m0:00:00\u001b[0m\r\n",
      "\u001b[?25hInstalling collected packages: python-whois\r\n",
      "Successfully installed python-whois-0.9.3\r\n",
      "Requirement already satisfied: requests in /opt/conda/lib/python3.10/site-packages (2.31.0)\r\n",
      "Requirement already satisfied: charset-normalizer<4,>=2 in /opt/conda/lib/python3.10/site-packages (from requests) (3.3.2)\r\n",
      "Requirement already satisfied: idna<4,>=2.5 in /opt/conda/lib/python3.10/site-packages (from requests) (3.6)\r\n",
      "Requirement already satisfied: urllib3<3,>=1.21.1 in /opt/conda/lib/python3.10/site-packages (from requests) (1.26.18)\r\n",
      "Requirement already satisfied: certifi>=2017.4.17 in /opt/conda/lib/python3.10/site-packages (from requests) (2024.2.2)\r\n",
      "Collecting dnspython\r\n",
      "  Downloading dnspython-2.6.1-py3-none-any.whl.metadata (5.8 kB)\r\n",
      "Downloading dnspython-2.6.1-py3-none-any.whl (307 kB)\r\n",
      "\u001b[2K   \u001b[90m━━━━━━━━━━━━━━━━━━━━━━━━━━━━━━━━━━━━━━━━\u001b[0m \u001b[32m307.7/307.7 kB\u001b[0m \u001b[31m8.3 MB/s\u001b[0m eta \u001b[36m0:00:00\u001b[0m\r\n",
      "\u001b[?25hInstalling collected packages: dnspython\r\n",
      "Successfully installed dnspython-2.6.1\r\n",
      "Collecting tldextract\r\n",
      "  Downloading tldextract-5.1.2-py3-none-any.whl.metadata (11 kB)\r\n",
      "Requirement already satisfied: idna in /opt/conda/lib/python3.10/site-packages (from tldextract) (3.6)\r\n",
      "Requirement already satisfied: requests>=2.1.0 in /opt/conda/lib/python3.10/site-packages (from tldextract) (2.31.0)\r\n",
      "Collecting requests-file>=1.4 (from tldextract)\r\n",
      "  Downloading requests_file-2.0.0-py2.py3-none-any.whl.metadata (1.7 kB)\r\n",
      "Requirement already satisfied: filelock>=3.0.8 in /opt/conda/lib/python3.10/site-packages (from tldextract) (3.13.1)\r\n",
      "Requirement already satisfied: charset-normalizer<4,>=2 in /opt/conda/lib/python3.10/site-packages (from requests>=2.1.0->tldextract) (3.3.2)\r\n",
      "Requirement already satisfied: urllib3<3,>=1.21.1 in /opt/conda/lib/python3.10/site-packages (from requests>=2.1.0->tldextract) (1.26.18)\r\n",
      "Requirement already satisfied: certifi>=2017.4.17 in /opt/conda/lib/python3.10/site-packages (from requests>=2.1.0->tldextract) (2024.2.2)\r\n",
      "Downloading tldextract-5.1.2-py3-none-any.whl (97 kB)\r\n",
      "\u001b[2K   \u001b[90m━━━━━━━━━━━━━━━━━━━━━━━━━━━━━━━━━━━━━━━━\u001b[0m \u001b[32m97.6/97.6 kB\u001b[0m \u001b[31m5.0 MB/s\u001b[0m eta \u001b[36m0:00:00\u001b[0m\r\n",
      "\u001b[?25hDownloading requests_file-2.0.0-py2.py3-none-any.whl (4.2 kB)\r\n",
      "Installing collected packages: requests-file, tldextract\r\n",
      "Successfully installed requests-file-2.0.0 tldextract-5.1.2\r\n"
     ]
    }
   ],
   "source": [
    "!pip install pytorch-tabnet\n",
    "!pip install python-whois\n",
    "!pip install requests\n",
    "!pip install dnspython\n",
    "!pip install tldextract"
   ]
  },
  {
   "cell_type": "code",
   "execution_count": 4,
   "id": "774e7245",
   "metadata": {
    "execution": {
     "iopub.execute_input": "2024-03-28T18:50:24.046341Z",
     "iopub.status.busy": "2024-03-28T18:50:24.045854Z",
     "iopub.status.idle": "2024-03-28T18:50:24.053033Z",
     "shell.execute_reply": "2024-03-28T18:50:24.051549Z"
    },
    "id": "jTzMzwNCZNsL",
    "papermill": {
     "duration": 0.017065,
     "end_time": "2024-03-28T18:50:24.056105",
     "exception": false,
     "start_time": "2024-03-28T18:50:24.039040",
     "status": "completed"
    },
    "tags": []
   },
   "outputs": [],
   "source": [
    "columns_of_interest = [\n",
    "    \"qty_slash_url\",\n",
    "    \"time_domain_activation\",\n",
    "    \"length_url\",\n",
    "    \"directory_length\",\n",
    "    \"file_length\",\n",
    "    \"qty_dot_domain\",\n",
    "    \"qty_at_params\",\n",
    "    \"qty_dot_directory\",\n",
    "    \"tls_ssl_certificate\",\n",
    "    \"qty_mx_servers\",\n",
    "    \"qty_at_url\",\n",
    "    \"url_shortened\",\n",
    "    \"qty_ip_resolved\",\n",
    "    \"tld_present_params\",\n",
    "    \"qty_nameservers\",\n",
    "    \"domain_spf\",\n",
    "    \"time_domain_expiration\",\n",
    "    \"qty_hyphen_url\",\n",
    "    \"qty_dot_file\",\n",
    "    \"qty_hyphen_domain\"\n",
    "]\n",
    "best_model='feed_forward'"
   ]
  },
  {
   "cell_type": "code",
   "execution_count": 5,
   "id": "c82e78fb",
   "metadata": {
    "execution": {
     "iopub.execute_input": "2024-03-28T18:50:24.069018Z",
     "iopub.status.busy": "2024-03-28T18:50:24.068547Z",
     "iopub.status.idle": "2024-03-28T18:50:24.074985Z",
     "shell.execute_reply": "2024-03-28T18:50:24.073828Z"
    },
    "id": "FWYpDVYilOY7",
    "papermill": {
     "duration": 0.015233,
     "end_time": "2024-03-28T18:50:24.077048",
     "exception": false,
     "start_time": "2024-03-28T18:50:24.061815",
     "status": "completed"
    },
    "tags": []
   },
   "outputs": [],
   "source": [
    "def calculate_accur(predictions, actual_results):\n",
    "    # Initialize a variable to count the number of correct predictions\n",
    "    correct_predictions = 0\n",
    "\n",
    "    # Iterate through each prediction and actual result\n",
    "    for pred, actual in zip(predictions, actual_results):\n",
    "        # Check if the prediction matches the actual result\n",
    "        if pred == actual:\n",
    "            # If so, increment the count of correct predictions\n",
    "            correct_predictions += 1\n",
    "\n",
    "    # Calculate accuracy by dividing the number of correct predictions by the total number of predictions\n",
    "    accuracy = (correct_predictions / len(predictions)) * 100\n",
    "    return accuracy\n"
   ]
  },
  {
   "cell_type": "code",
   "execution_count": 6,
   "id": "57f1799c",
   "metadata": {
    "execution": {
     "iopub.execute_input": "2024-03-28T18:50:24.089142Z",
     "iopub.status.busy": "2024-03-28T18:50:24.088747Z",
     "iopub.status.idle": "2024-03-28T22:58:24.452680Z",
     "shell.execute_reply": "2024-03-28T22:58:24.451014Z"
    },
    "id": "AOPBEIUpY448",
    "outputId": "26d0c9d6-d4b7-4630-a8e3-fe1c7e3c9eec",
    "papermill": {
     "duration": 14880.415752,
     "end_time": "2024-03-28T22:58:24.498164",
     "exception": false,
     "start_time": "2024-03-28T18:50:24.082412",
     "status": "completed"
    },
    "tags": []
   },
   "outputs": [
    {
     "name": "stderr",
     "output_type": "stream",
     "text": [
      "/opt/conda/lib/python3.10/site-packages/keras/src/layers/core/dense.py:85: UserWarning: Do not pass an `input_shape`/`input_dim` argument to a layer. When using Sequential models, prefer using an `Input(shape)` object as the first layer in the model instead.\n",
      "  super().__init__(activity_regularizer=activity_regularizer, **kwargs)\n"
     ]
    },
    {
     "name": "stdout",
     "output_type": "stream",
     "text": [
      "{'csv_path': '/kaggle/input/zzzzzz/mendeley_dataset_full.csv', 'columns_of_interest': 14, 'epochs': 10, 'test_size': 0.5, 'accuracy_on_validation_data': 0.9255256745781066, 'accuracy_on_new_data': 69.39632545931758}\n"
     ]
    },
    {
     "name": "stderr",
     "output_type": "stream",
     "text": [
      "/opt/conda/lib/python3.10/site-packages/keras/src/layers/core/dense.py:85: UserWarning: Do not pass an `input_shape`/`input_dim` argument to a layer. When using Sequential models, prefer using an `Input(shape)` object as the first layer in the model instead.\n",
      "  super().__init__(activity_regularizer=activity_regularizer, **kwargs)\n"
     ]
    },
    {
     "name": "stdout",
     "output_type": "stream",
     "text": [
      "{'csv_path': '/kaggle/input/zzzzzz/mendeley_dataset_full.csv', 'columns_of_interest': 14, 'epochs': 10, 'test_size': 0.4, 'accuracy_on_validation_data': 0.9285089822047999, 'accuracy_on_new_data': 71.31233595800525}\n"
     ]
    },
    {
     "name": "stderr",
     "output_type": "stream",
     "text": [
      "/opt/conda/lib/python3.10/site-packages/keras/src/layers/core/dense.py:85: UserWarning: Do not pass an `input_shape`/`input_dim` argument to a layer. When using Sequential models, prefer using an `Input(shape)` object as the first layer in the model instead.\n",
      "  super().__init__(activity_regularizer=activity_regularizer, **kwargs)\n"
     ]
    },
    {
     "name": "stdout",
     "output_type": "stream",
     "text": [
      "{'csv_path': '/kaggle/input/zzzzzz/mendeley_dataset_full.csv', 'columns_of_interest': 14, 'epochs': 10, 'test_size': 0.3, 'accuracy_on_validation_data': 0.9305884564767813, 'accuracy_on_new_data': 73.07961504811898}\n"
     ]
    },
    {
     "name": "stderr",
     "output_type": "stream",
     "text": [
      "/opt/conda/lib/python3.10/site-packages/keras/src/layers/core/dense.py:85: UserWarning: Do not pass an `input_shape`/`input_dim` argument to a layer. When using Sequential models, prefer using an `Input(shape)` object as the first layer in the model instead.\n",
      "  super().__init__(activity_regularizer=activity_regularizer, **kwargs)\n"
     ]
    },
    {
     "name": "stdout",
     "output_type": "stream",
     "text": [
      "{'csv_path': '/kaggle/input/zzzzzz/mendeley_dataset_full.csv', 'columns_of_interest': 14, 'epochs': 10, 'test_size': 0.2, 'accuracy_on_validation_data': 0.9331077270163565, 'accuracy_on_new_data': 70.64741907261592}\n"
     ]
    },
    {
     "name": "stderr",
     "output_type": "stream",
     "text": [
      "/opt/conda/lib/python3.10/site-packages/keras/src/layers/core/dense.py:85: UserWarning: Do not pass an `input_shape`/`input_dim` argument to a layer. When using Sequential models, prefer using an `Input(shape)` object as the first layer in the model instead.\n",
      "  super().__init__(activity_regularizer=activity_regularizer, **kwargs)\n"
     ]
    },
    {
     "name": "stdout",
     "output_type": "stream",
     "text": [
      "{'csv_path': '/kaggle/input/zzzzzz/mendeley_dataset_full.csv', 'columns_of_interest': 14, 'epochs': 20, 'test_size': 0.5, 'accuracy_on_validation_data': 0.931165959750925, 'accuracy_on_new_data': 74.93438320209974}\n"
     ]
    },
    {
     "name": "stderr",
     "output_type": "stream",
     "text": [
      "/opt/conda/lib/python3.10/site-packages/keras/src/layers/core/dense.py:85: UserWarning: Do not pass an `input_shape`/`input_dim` argument to a layer. When using Sequential models, prefer using an `Input(shape)` object as the first layer in the model instead.\n",
      "  super().__init__(activity_regularizer=activity_regularizer, **kwargs)\n"
     ]
    },
    {
     "name": "stdout",
     "output_type": "stream",
     "text": [
      "{'csv_path': '/kaggle/input/zzzzzz/mendeley_dataset_full.csv', 'columns_of_interest': 14, 'epochs': 20, 'test_size': 0.4, 'accuracy_on_validation_data': 0.9356439831918554, 'accuracy_on_new_data': 71.67979002624672}\n"
     ]
    },
    {
     "name": "stderr",
     "output_type": "stream",
     "text": [
      "/opt/conda/lib/python3.10/site-packages/keras/src/layers/core/dense.py:85: UserWarning: Do not pass an `input_shape`/`input_dim` argument to a layer. When using Sequential models, prefer using an `Input(shape)` object as the first layer in the model instead.\n",
      "  super().__init__(activity_regularizer=activity_regularizer, **kwargs)\n"
     ]
    },
    {
     "name": "stdout",
     "output_type": "stream",
     "text": [
      "{'csv_path': '/kaggle/input/zzzzzz/mendeley_dataset_full.csv', 'columns_of_interest': 14, 'epochs': 20, 'test_size': 0.3, 'accuracy_on_validation_data': 0.9391238954690732, 'accuracy_on_new_data': 73.6832895888014}\n"
     ]
    },
    {
     "name": "stderr",
     "output_type": "stream",
     "text": [
      "/opt/conda/lib/python3.10/site-packages/keras/src/layers/core/dense.py:85: UserWarning: Do not pass an `input_shape`/`input_dim` argument to a layer. When using Sequential models, prefer using an `Input(shape)` object as the first layer in the model instead.\n",
      "  super().__init__(activity_regularizer=activity_regularizer, **kwargs)\n"
     ]
    },
    {
     "name": "stdout",
     "output_type": "stream",
     "text": [
      "{'csv_path': '/kaggle/input/zzzzzz/mendeley_dataset_full.csv', 'columns_of_interest': 14, 'epochs': 20, 'test_size': 0.2, 'accuracy_on_validation_data': 0.9385222786238014, 'accuracy_on_new_data': 75.52055993000874}\n"
     ]
    },
    {
     "name": "stderr",
     "output_type": "stream",
     "text": [
      "/opt/conda/lib/python3.10/site-packages/keras/src/layers/core/dense.py:85: UserWarning: Do not pass an `input_shape`/`input_dim` argument to a layer. When using Sequential models, prefer using an `Input(shape)` object as the first layer in the model instead.\n",
      "  super().__init__(activity_regularizer=activity_regularizer, **kwargs)\n"
     ]
    },
    {
     "name": "stdout",
     "output_type": "stream",
     "text": [
      "{'csv_path': '/kaggle/input/zzzzzz/mendeley_dataset_full.csv', 'columns_of_interest': 14, 'epochs': 30, 'test_size': 0.5, 'accuracy_on_validation_data': 0.9380922299431459, 'accuracy_on_new_data': 75.31933508311461}\n"
     ]
    },
    {
     "name": "stderr",
     "output_type": "stream",
     "text": [
      "/opt/conda/lib/python3.10/site-packages/keras/src/layers/core/dense.py:85: UserWarning: Do not pass an `input_shape`/`input_dim` argument to a layer. When using Sequential models, prefer using an `Input(shape)` object as the first layer in the model instead.\n",
      "  super().__init__(activity_regularizer=activity_regularizer, **kwargs)\n"
     ]
    },
    {
     "name": "stdout",
     "output_type": "stream",
     "text": [
      "{'csv_path': '/kaggle/input/zzzzzz/mendeley_dataset_full.csv', 'columns_of_interest': 14, 'epochs': 30, 'test_size': 0.4, 'accuracy_on_validation_data': 0.9376180941368905, 'accuracy_on_new_data': 72.34470691163605}\n"
     ]
    },
    {
     "name": "stderr",
     "output_type": "stream",
     "text": [
      "/opt/conda/lib/python3.10/site-packages/keras/src/layers/core/dense.py:85: UserWarning: Do not pass an `input_shape`/`input_dim` argument to a layer. When using Sequential models, prefer using an `Input(shape)` object as the first layer in the model instead.\n",
      "  super().__init__(activity_regularizer=activity_regularizer, **kwargs)\n"
     ]
    },
    {
     "name": "stdout",
     "output_type": "stream",
     "text": [
      "{'csv_path': '/kaggle/input/zzzzzz/mendeley_dataset_full.csv', 'columns_of_interest': 14, 'epochs': 30, 'test_size': 0.3, 'accuracy_on_validation_data': 0.9380710659898477, 'accuracy_on_new_data': 76.67541557305337}\n"
     ]
    },
    {
     "name": "stderr",
     "output_type": "stream",
     "text": [
      "/opt/conda/lib/python3.10/site-packages/keras/src/layers/core/dense.py:85: UserWarning: Do not pass an `input_shape`/`input_dim` argument to a layer. When using Sequential models, prefer using an `Input(shape)` object as the first layer in the model instead.\n",
      "  super().__init__(activity_regularizer=activity_regularizer, **kwargs)\n"
     ]
    },
    {
     "name": "stdout",
     "output_type": "stream",
     "text": [
      "{'csv_path': '/kaggle/input/zzzzzz/mendeley_dataset_full.csv', 'columns_of_interest': 14, 'epochs': 30, 'test_size': 0.2, 'accuracy_on_validation_data': 0.9446700507614213, 'accuracy_on_new_data': 74.50568678915135}\n"
     ]
    },
    {
     "name": "stderr",
     "output_type": "stream",
     "text": [
      "/opt/conda/lib/python3.10/site-packages/keras/src/layers/core/dense.py:85: UserWarning: Do not pass an `input_shape`/`input_dim` argument to a layer. When using Sequential models, prefer using an `Input(shape)` object as the first layer in the model instead.\n",
      "  super().__init__(activity_regularizer=activity_regularizer, **kwargs)\n"
     ]
    },
    {
     "name": "stdout",
     "output_type": "stream",
     "text": [
      "{'csv_path': '/kaggle/input/zzzzzz/mendeley_dataset_full.csv', 'columns_of_interest': 14, 'epochs': 40, 'test_size': 0.5, 'accuracy_on_validation_data': 0.9447477664470716, 'accuracy_on_new_data': 72.77340332458444}\n"
     ]
    },
    {
     "name": "stderr",
     "output_type": "stream",
     "text": [
      "/opt/conda/lib/python3.10/site-packages/keras/src/layers/core/dense.py:85: UserWarning: Do not pass an `input_shape`/`input_dim` argument to a layer. When using Sequential models, prefer using an `Input(shape)` object as the first layer in the model instead.\n",
      "  super().__init__(activity_regularizer=activity_regularizer, **kwargs)\n"
     ]
    },
    {
     "name": "stdout",
     "output_type": "stream",
     "text": [
      "{'csv_path': '/kaggle/input/zzzzzz/mendeley_dataset_full.csv', 'columns_of_interest': 14, 'epochs': 40, 'test_size': 0.4, 'accuracy_on_validation_data': 0.9432866127076341, 'accuracy_on_new_data': 72.78215223097114}\n"
     ]
    },
    {
     "name": "stderr",
     "output_type": "stream",
     "text": [
      "/opt/conda/lib/python3.10/site-packages/keras/src/layers/core/dense.py:85: UserWarning: Do not pass an `input_shape`/`input_dim` argument to a layer. When using Sequential models, prefer using an `Input(shape)` object as the first layer in the model instead.\n",
      "  super().__init__(activity_regularizer=activity_regularizer, **kwargs)\n"
     ]
    },
    {
     "name": "stdout",
     "output_type": "stream",
     "text": [
      "{'csv_path': '/kaggle/input/zzzzzz/mendeley_dataset_full.csv', 'columns_of_interest': 14, 'epochs': 40, 'test_size': 0.3, 'accuracy_on_validation_data': 0.941079150216206, 'accuracy_on_new_data': 74.1819772528434}\n"
     ]
    },
    {
     "name": "stderr",
     "output_type": "stream",
     "text": [
      "/opt/conda/lib/python3.10/site-packages/keras/src/layers/core/dense.py:85: UserWarning: Do not pass an `input_shape`/`input_dim` argument to a layer. When using Sequential models, prefer using an `Input(shape)` object as the first layer in the model instead.\n",
      "  super().__init__(activity_regularizer=activity_regularizer, **kwargs)\n"
     ]
    },
    {
     "name": "stdout",
     "output_type": "stream",
     "text": [
      "{'csv_path': '/kaggle/input/zzzzzz/mendeley_dataset_full.csv', 'columns_of_interest': 14, 'epochs': 40, 'test_size': 0.2, 'accuracy_on_validation_data': 0.9429780033840948, 'accuracy_on_new_data': 76.26421697287839}\n"
     ]
    },
    {
     "name": "stderr",
     "output_type": "stream",
     "text": [
      "/opt/conda/lib/python3.10/site-packages/keras/src/layers/core/dense.py:85: UserWarning: Do not pass an `input_shape`/`input_dim` argument to a layer. When using Sequential models, prefer using an `Input(shape)` object as the first layer in the model instead.\n",
      "  super().__init__(activity_regularizer=activity_regularizer, **kwargs)\n"
     ]
    },
    {
     "name": "stdout",
     "output_type": "stream",
     "text": [
      "{'csv_path': '/kaggle/input/zzzzzz/mendeley_dataset_full.csv', 'columns_of_interest': 14, 'epochs': 50, 'test_size': 0.5, 'accuracy_on_validation_data': 0.943958126522877, 'accuracy_on_new_data': 72.85214348206475}\n"
     ]
    },
    {
     "name": "stderr",
     "output_type": "stream",
     "text": [
      "/opt/conda/lib/python3.10/site-packages/keras/src/layers/core/dense.py:85: UserWarning: Do not pass an `input_shape`/`input_dim` argument to a layer. When using Sequential models, prefer using an `Input(shape)` object as the first layer in the model instead.\n",
      "  super().__init__(activity_regularizer=activity_regularizer, **kwargs)\n"
     ]
    },
    {
     "name": "stdout",
     "output_type": "stream",
     "text": [
      "{'csv_path': '/kaggle/input/zzzzzz/mendeley_dataset_full.csv', 'columns_of_interest': 14, 'epochs': 50, 'test_size': 0.4, 'accuracy_on_validation_data': 0.9430045968583435, 'accuracy_on_new_data': 75.70428696412948}\n"
     ]
    },
    {
     "name": "stderr",
     "output_type": "stream",
     "text": [
      "/opt/conda/lib/python3.10/site-packages/keras/src/layers/core/dense.py:85: UserWarning: Do not pass an `input_shape`/`input_dim` argument to a layer. When using Sequential models, prefer using an `Input(shape)` object as the first layer in the model instead.\n",
      "  super().__init__(activity_regularizer=activity_regularizer, **kwargs)\n"
     ]
    },
    {
     "name": "stdout",
     "output_type": "stream",
     "text": [
      "{'csv_path': '/kaggle/input/zzzzzz/mendeley_dataset_full.csv', 'columns_of_interest': 14, 'epochs': 50, 'test_size': 0.3, 'accuracy_on_validation_data': 0.9442376386538823, 'accuracy_on_new_data': 74.750656167979}\n"
     ]
    },
    {
     "name": "stderr",
     "output_type": "stream",
     "text": [
      "/opt/conda/lib/python3.10/site-packages/keras/src/layers/core/dense.py:85: UserWarning: Do not pass an `input_shape`/`input_dim` argument to a layer. When using Sequential models, prefer using an `Input(shape)` object as the first layer in the model instead.\n",
      "  super().__init__(activity_regularizer=activity_regularizer, **kwargs)\n"
     ]
    },
    {
     "name": "stdout",
     "output_type": "stream",
     "text": [
      "{'csv_path': '/kaggle/input/zzzzzz/mendeley_dataset_full.csv', 'columns_of_interest': 14, 'epochs': 50, 'test_size': 0.2, 'accuracy_on_validation_data': 0.9429780033840948, 'accuracy_on_new_data': 76.78915135608048}\n"
     ]
    },
    {
     "name": "stderr",
     "output_type": "stream",
     "text": [
      "/opt/conda/lib/python3.10/site-packages/keras/src/layers/core/dense.py:85: UserWarning: Do not pass an `input_shape`/`input_dim` argument to a layer. When using Sequential models, prefer using an `Input(shape)` object as the first layer in the model instead.\n",
      "  super().__init__(activity_regularizer=activity_regularizer, **kwargs)\n"
     ]
    },
    {
     "name": "stdout",
     "output_type": "stream",
     "text": [
      "{'csv_path': '/kaggle/input/zzzzzz/mendeley_dataset_full.csv', 'columns_of_interest': 15, 'epochs': 10, 'test_size': 0.5, 'accuracy_on_validation_data': 0.9294287519176969, 'accuracy_on_new_data': 71.41732283464567}\n"
     ]
    },
    {
     "name": "stderr",
     "output_type": "stream",
     "text": [
      "/opt/conda/lib/python3.10/site-packages/keras/src/layers/core/dense.py:85: UserWarning: Do not pass an `input_shape`/`input_dim` argument to a layer. When using Sequential models, prefer using an `Input(shape)` object as the first layer in the model instead.\n",
      "  super().__init__(activity_regularizer=activity_regularizer, **kwargs)\n"
     ]
    },
    {
     "name": "stdout",
     "output_type": "stream",
     "text": [
      "{'csv_path': '/kaggle/input/zzzzzz/mendeley_dataset_full.csv', 'columns_of_interest': 15, 'epochs': 10, 'test_size': 0.4, 'accuracy_on_validation_data': 0.9311317296032037, 'accuracy_on_new_data': 73.60454943132109}\n"
     ]
    },
    {
     "name": "stderr",
     "output_type": "stream",
     "text": [
      "/opt/conda/lib/python3.10/site-packages/keras/src/layers/core/dense.py:85: UserWarning: Do not pass an `input_shape`/`input_dim` argument to a layer. When using Sequential models, prefer using an `Input(shape)` object as the first layer in the model instead.\n",
      "  super().__init__(activity_regularizer=activity_regularizer, **kwargs)\n"
     ]
    },
    {
     "name": "stdout",
     "output_type": "stream",
     "text": [
      "{'csv_path': '/kaggle/input/zzzzzz/mendeley_dataset_full.csv', 'columns_of_interest': 15, 'epochs': 10, 'test_size': 0.3, 'accuracy_on_validation_data': 0.9310772701635646, 'accuracy_on_new_data': 68.50393700787401}\n"
     ]
    },
    {
     "name": "stderr",
     "output_type": "stream",
     "text": [
      "/opt/conda/lib/python3.10/site-packages/keras/src/layers/core/dense.py:85: UserWarning: Do not pass an `input_shape`/`input_dim` argument to a layer. When using Sequential models, prefer using an `Input(shape)` object as the first layer in the model instead.\n",
      "  super().__init__(activity_regularizer=activity_regularizer, **kwargs)\n"
     ]
    },
    {
     "name": "stdout",
     "output_type": "stream",
     "text": [
      "{'csv_path': '/kaggle/input/zzzzzz/mendeley_dataset_full.csv', 'columns_of_interest': 15, 'epochs': 10, 'test_size': 0.2, 'accuracy_on_validation_data': 0.9368302312464749, 'accuracy_on_new_data': 72.75590551181102}\n"
     ]
    },
    {
     "name": "stderr",
     "output_type": "stream",
     "text": [
      "/opt/conda/lib/python3.10/site-packages/keras/src/layers/core/dense.py:85: UserWarning: Do not pass an `input_shape`/`input_dim` argument to a layer. When using Sequential models, prefer using an `Input(shape)` object as the first layer in the model instead.\n",
      "  super().__init__(activity_regularizer=activity_regularizer, **kwargs)\n"
     ]
    },
    {
     "name": "stdout",
     "output_type": "stream",
     "text": [
      "{'csv_path': '/kaggle/input/zzzzzz/mendeley_dataset_full.csv', 'columns_of_interest': 15, 'epochs': 20, 'test_size': 0.5, 'accuracy_on_validation_data': 0.9363324609692266, 'accuracy_on_new_data': 73.51706036745406}\n"
     ]
    },
    {
     "name": "stderr",
     "output_type": "stream",
     "text": [
      "/opt/conda/lib/python3.10/site-packages/keras/src/layers/core/dense.py:85: UserWarning: Do not pass an `input_shape`/`input_dim` argument to a layer. When using Sequential models, prefer using an `Input(shape)` object as the first layer in the model instead.\n",
      "  super().__init__(activity_regularizer=activity_regularizer, **kwargs)\n"
     ]
    },
    {
     "name": "stdout",
     "output_type": "stream",
     "text": [
      "{'csv_path': '/kaggle/input/zzzzzz/mendeley_dataset_full.csv', 'columns_of_interest': 15, 'epochs': 20, 'test_size': 0.4, 'accuracy_on_validation_data': 0.9346005245494797, 'accuracy_on_new_data': 75.98425196850394}\n"
     ]
    },
    {
     "name": "stderr",
     "output_type": "stream",
     "text": [
      "/opt/conda/lib/python3.10/site-packages/keras/src/layers/core/dense.py:85: UserWarning: Do not pass an `input_shape`/`input_dim` argument to a layer. When using Sequential models, prefer using an `Input(shape)` object as the first layer in the model instead.\n",
      "  super().__init__(activity_regularizer=activity_regularizer, **kwargs)\n"
     ]
    },
    {
     "name": "stdout",
     "output_type": "stream",
     "text": [
      "{'csv_path': '/kaggle/input/zzzzzz/mendeley_dataset_full.csv', 'columns_of_interest': 15, 'epochs': 20, 'test_size': 0.3, 'accuracy_on_validation_data': 0.9405903365294228, 'accuracy_on_new_data': 73.27209098862643}\n"
     ]
    },
    {
     "name": "stderr",
     "output_type": "stream",
     "text": [
      "/opt/conda/lib/python3.10/site-packages/keras/src/layers/core/dense.py:85: UserWarning: Do not pass an `input_shape`/`input_dim` argument to a layer. When using Sequential models, prefer using an `Input(shape)` object as the first layer in the model instead.\n",
      "  super().__init__(activity_regularizer=activity_regularizer, **kwargs)\n"
     ]
    },
    {
     "name": "stdout",
     "output_type": "stream",
     "text": [
      "{'csv_path': '/kaggle/input/zzzzzz/mendeley_dataset_full.csv', 'columns_of_interest': 15, 'epochs': 20, 'test_size': 0.2, 'accuracy_on_validation_data': 0.9434292160180485, 'accuracy_on_new_data': 75.01312335958005}\n"
     ]
    },
    {
     "name": "stderr",
     "output_type": "stream",
     "text": [
      "/opt/conda/lib/python3.10/site-packages/keras/src/layers/core/dense.py:85: UserWarning: Do not pass an `input_shape`/`input_dim` argument to a layer. When using Sequential models, prefer using an `Input(shape)` object as the first layer in the model instead.\n",
      "  super().__init__(activity_regularizer=activity_regularizer, **kwargs)\n"
     ]
    },
    {
     "name": "stdout",
     "output_type": "stream",
     "text": [
      "{'csv_path': '/kaggle/input/zzzzzz/mendeley_dataset_full.csv', 'columns_of_interest': 15, 'epochs': 30, 'test_size': 0.5, 'accuracy_on_validation_data': 0.9440934933670246, 'accuracy_on_new_data': 74.41819772528434}\n"
     ]
    },
    {
     "name": "stderr",
     "output_type": "stream",
     "text": [
      "/opt/conda/lib/python3.10/site-packages/keras/src/layers/core/dense.py:85: UserWarning: Do not pass an `input_shape`/`input_dim` argument to a layer. When using Sequential models, prefer using an `Input(shape)` object as the first layer in the model instead.\n",
      "  super().__init__(activity_regularizer=activity_regularizer, **kwargs)\n"
     ]
    },
    {
     "name": "stdout",
     "output_type": "stream",
     "text": [
      "{'csv_path': '/kaggle/input/zzzzzz/mendeley_dataset_full.csv', 'columns_of_interest': 15, 'epochs': 30, 'test_size': 0.4, 'accuracy_on_validation_data': 0.9426097746693364, 'accuracy_on_new_data': 71.89851268591426}\n"
     ]
    },
    {
     "name": "stderr",
     "output_type": "stream",
     "text": [
      "/opt/conda/lib/python3.10/site-packages/keras/src/layers/core/dense.py:85: UserWarning: Do not pass an `input_shape`/`input_dim` argument to a layer. When using Sequential models, prefer using an `Input(shape)` object as the first layer in the model instead.\n",
      "  super().__init__(activity_regularizer=activity_regularizer, **kwargs)\n"
     ]
    },
    {
     "name": "stdout",
     "output_type": "stream",
     "text": [
      "{'csv_path': '/kaggle/input/zzzzzz/mendeley_dataset_full.csv', 'columns_of_interest': 15, 'epochs': 30, 'test_size': 0.3, 'accuracy_on_validation_data': 0.94295920285768, 'accuracy_on_new_data': 74.36570428696413}\n"
     ]
    },
    {
     "name": "stderr",
     "output_type": "stream",
     "text": [
      "/opt/conda/lib/python3.10/site-packages/keras/src/layers/core/dense.py:85: UserWarning: Do not pass an `input_shape`/`input_dim` argument to a layer. When using Sequential models, prefer using an `Input(shape)` object as the first layer in the model instead.\n",
      "  super().__init__(activity_regularizer=activity_regularizer, **kwargs)\n"
     ]
    },
    {
     "name": "stdout",
     "output_type": "stream",
     "text": [
      "{'csv_path': '/kaggle/input/zzzzzz/mendeley_dataset_full.csv', 'columns_of_interest': 15, 'epochs': 30, 'test_size': 0.2, 'accuracy_on_validation_data': 0.9439932318104907, 'accuracy_on_new_data': 74.85564304461943}\n"
     ]
    },
    {
     "name": "stderr",
     "output_type": "stream",
     "text": [
      "/opt/conda/lib/python3.10/site-packages/keras/src/layers/core/dense.py:85: UserWarning: Do not pass an `input_shape`/`input_dim` argument to a layer. When using Sequential models, prefer using an `Input(shape)` object as the first layer in the model instead.\n",
      "  super().__init__(activity_regularizer=activity_regularizer, **kwargs)\n"
     ]
    },
    {
     "name": "stdout",
     "output_type": "stream",
     "text": [
      "{'csv_path': '/kaggle/input/zzzzzz/mendeley_dataset_full.csv', 'columns_of_interest': 15, 'epochs': 40, 'test_size': 0.5, 'accuracy_on_validation_data': 0.9431459254579911, 'accuracy_on_new_data': 74.89938757655294}\n"
     ]
    },
    {
     "name": "stderr",
     "output_type": "stream",
     "text": [
      "/opt/conda/lib/python3.10/site-packages/keras/src/layers/core/dense.py:85: UserWarning: Do not pass an `input_shape`/`input_dim` argument to a layer. When using Sequential models, prefer using an `Input(shape)` object as the first layer in the model instead.\n",
      "  super().__init__(activity_regularizer=activity_regularizer, **kwargs)\n"
     ]
    },
    {
     "name": "stdout",
     "output_type": "stream",
     "text": [
      "{'csv_path': '/kaggle/input/zzzzzz/mendeley_dataset_full.csv', 'columns_of_interest': 15, 'epochs': 40, 'test_size': 0.4, 'accuracy_on_validation_data': 0.9452325220677402, 'accuracy_on_new_data': 75.09186351706036}\n"
     ]
    },
    {
     "name": "stderr",
     "output_type": "stream",
     "text": [
      "/opt/conda/lib/python3.10/site-packages/keras/src/layers/core/dense.py:85: UserWarning: Do not pass an `input_shape`/`input_dim` argument to a layer. When using Sequential models, prefer using an `Input(shape)` object as the first layer in the model instead.\n",
      "  super().__init__(activity_regularizer=activity_regularizer, **kwargs)\n"
     ]
    },
    {
     "name": "stdout",
     "output_type": "stream",
     "text": [
      "{'csv_path': '/kaggle/input/zzzzzz/mendeley_dataset_full.csv', 'columns_of_interest': 15, 'epochs': 40, 'test_size': 0.3, 'accuracy_on_validation_data': 0.9471329197217522, 'accuracy_on_new_data': 73.87576552930884}\n"
     ]
    },
    {
     "name": "stderr",
     "output_type": "stream",
     "text": [
      "/opt/conda/lib/python3.10/site-packages/keras/src/layers/core/dense.py:85: UserWarning: Do not pass an `input_shape`/`input_dim` argument to a layer. When using Sequential models, prefer using an `Input(shape)` object as the first layer in the model instead.\n",
      "  super().__init__(activity_regularizer=activity_regularizer, **kwargs)\n"
     ]
    },
    {
     "name": "stdout",
     "output_type": "stream",
     "text": [
      "{'csv_path': '/kaggle/input/zzzzzz/mendeley_dataset_full.csv', 'columns_of_interest': 15, 'epochs': 40, 'test_size': 0.2, 'accuracy_on_validation_data': 0.9444444444444444, 'accuracy_on_new_data': 74.40069991251093}\n"
     ]
    },
    {
     "name": "stderr",
     "output_type": "stream",
     "text": [
      "/opt/conda/lib/python3.10/site-packages/keras/src/layers/core/dense.py:85: UserWarning: Do not pass an `input_shape`/`input_dim` argument to a layer. When using Sequential models, prefer using an `Input(shape)` object as the first layer in the model instead.\n",
      "  super().__init__(activity_regularizer=activity_regularizer, **kwargs)\n"
     ]
    },
    {
     "name": "stdout",
     "output_type": "stream",
     "text": [
      "{'csv_path': '/kaggle/input/zzzzzz/mendeley_dataset_full.csv', 'columns_of_interest': 15, 'epochs': 50, 'test_size': 0.5, 'accuracy_on_validation_data': 0.9461916794513131, 'accuracy_on_new_data': 76.40419947506561}\n"
     ]
    },
    {
     "name": "stderr",
     "output_type": "stream",
     "text": [
      "/opt/conda/lib/python3.10/site-packages/keras/src/layers/core/dense.py:85: UserWarning: Do not pass an `input_shape`/`input_dim` argument to a layer. When using Sequential models, prefer using an `Input(shape)` object as the first layer in the model instead.\n",
      "  super().__init__(activity_regularizer=activity_regularizer, **kwargs)\n"
     ]
    },
    {
     "name": "stdout",
     "output_type": "stream",
     "text": [
      "{'csv_path': '/kaggle/input/zzzzzz/mendeley_dataset_full.csv', 'columns_of_interest': 15, 'epochs': 50, 'test_size': 0.4, 'accuracy_on_validation_data': 0.9462195775402578, 'accuracy_on_new_data': 73.6482939632546}\n"
     ]
    },
    {
     "name": "stderr",
     "output_type": "stream",
     "text": [
      "/opt/conda/lib/python3.10/site-packages/keras/src/layers/core/dense.py:85: UserWarning: Do not pass an `input_shape`/`input_dim` argument to a layer. When using Sequential models, prefer using an `Input(shape)` object as the first layer in the model instead.\n",
      "  super().__init__(activity_regularizer=activity_regularizer, **kwargs)\n"
     ]
    },
    {
     "name": "stdout",
     "output_type": "stream",
     "text": [
      "{'csv_path': '/kaggle/input/zzzzzz/mendeley_dataset_full.csv', 'columns_of_interest': 15, 'epochs': 50, 'test_size': 0.3, 'accuracy_on_validation_data': 0.9471329197217522, 'accuracy_on_new_data': 76.28171478565179}\n"
     ]
    },
    {
     "name": "stderr",
     "output_type": "stream",
     "text": [
      "/opt/conda/lib/python3.10/site-packages/keras/src/layers/core/dense.py:85: UserWarning: Do not pass an `input_shape`/`input_dim` argument to a layer. When using Sequential models, prefer using an `Input(shape)` object as the first layer in the model instead.\n",
      "  super().__init__(activity_regularizer=activity_regularizer, **kwargs)\n"
     ]
    },
    {
     "name": "stdout",
     "output_type": "stream",
     "text": [
      "{'csv_path': '/kaggle/input/zzzzzz/mendeley_dataset_full.csv', 'columns_of_interest': 15, 'epochs': 50, 'test_size': 0.2, 'accuracy_on_validation_data': 0.9473773265651438, 'accuracy_on_new_data': 74.09448818897638}\n"
     ]
    },
    {
     "name": "stderr",
     "output_type": "stream",
     "text": [
      "/opt/conda/lib/python3.10/site-packages/keras/src/layers/core/dense.py:85: UserWarning: Do not pass an `input_shape`/`input_dim` argument to a layer. When using Sequential models, prefer using an `Input(shape)` object as the first layer in the model instead.\n",
      "  super().__init__(activity_regularizer=activity_regularizer, **kwargs)\n"
     ]
    },
    {
     "name": "stdout",
     "output_type": "stream",
     "text": [
      "{'csv_path': '/kaggle/input/zzzzzz/mendeley_dataset_full.csv', 'columns_of_interest': 16, 'epochs': 10, 'test_size': 0.5, 'accuracy_on_validation_data': 0.9307372980777908, 'accuracy_on_new_data': 73.06211723534558}\n"
     ]
    },
    {
     "name": "stderr",
     "output_type": "stream",
     "text": [
      "/opt/conda/lib/python3.10/site-packages/keras/src/layers/core/dense.py:85: UserWarning: Do not pass an `input_shape`/`input_dim` argument to a layer. When using Sequential models, prefer using an `Input(shape)` object as the first layer in the model instead.\n",
      "  super().__init__(activity_regularizer=activity_regularizer, **kwargs)\n"
     ]
    },
    {
     "name": "stdout",
     "output_type": "stream",
     "text": [
      "{'csv_path': '/kaggle/input/zzzzzz/mendeley_dataset_full.csv', 'columns_of_interest': 16, 'epochs': 10, 'test_size': 0.4, 'accuracy_on_validation_data': 0.9329930342085225, 'accuracy_on_new_data': 71.16360454943133}\n"
     ]
    },
    {
     "name": "stderr",
     "output_type": "stream",
     "text": [
      "/opt/conda/lib/python3.10/site-packages/keras/src/layers/core/dense.py:85: UserWarning: Do not pass an `input_shape`/`input_dim` argument to a layer. When using Sequential models, prefer using an `Input(shape)` object as the first layer in the model instead.\n",
      "  super().__init__(activity_regularizer=activity_regularizer, **kwargs)\n"
     ]
    },
    {
     "name": "stdout",
     "output_type": "stream",
     "text": [
      "{'csv_path': '/kaggle/input/zzzzzz/mendeley_dataset_full.csv', 'columns_of_interest': 16, 'epochs': 10, 'test_size': 0.3, 'accuracy_on_validation_data': 0.932054897537131, 'accuracy_on_new_data': 72.58092738407699}\n"
     ]
    },
    {
     "name": "stderr",
     "output_type": "stream",
     "text": [
      "/opt/conda/lib/python3.10/site-packages/keras/src/layers/core/dense.py:85: UserWarning: Do not pass an `input_shape`/`input_dim` argument to a layer. When using Sequential models, prefer using an `Input(shape)` object as the first layer in the model instead.\n",
      "  super().__init__(activity_regularizer=activity_regularizer, **kwargs)\n"
     ]
    },
    {
     "name": "stdout",
     "output_type": "stream",
     "text": [
      "{'csv_path': '/kaggle/input/zzzzzz/mendeley_dataset_full.csv', 'columns_of_interest': 16, 'epochs': 10, 'test_size': 0.2, 'accuracy_on_validation_data': 0.9328821206993796, 'accuracy_on_new_data': 70.62117235345582}\n"
     ]
    },
    {
     "name": "stderr",
     "output_type": "stream",
     "text": [
      "/opt/conda/lib/python3.10/site-packages/keras/src/layers/core/dense.py:85: UserWarning: Do not pass an `input_shape`/`input_dim` argument to a layer. When using Sequential models, prefer using an `Input(shape)` object as the first layer in the model instead.\n",
      "  super().__init__(activity_regularizer=activity_regularizer, **kwargs)\n"
     ]
    },
    {
     "name": "stdout",
     "output_type": "stream",
     "text": [
      "{'csv_path': '/kaggle/input/zzzzzz/mendeley_dataset_full.csv', 'columns_of_interest': 16, 'epochs': 20, 'test_size': 0.5, 'accuracy_on_validation_data': 0.9363324609692266, 'accuracy_on_new_data': 71.0673665791776}\n"
     ]
    },
    {
     "name": "stderr",
     "output_type": "stream",
     "text": [
      "/opt/conda/lib/python3.10/site-packages/keras/src/layers/core/dense.py:85: UserWarning: Do not pass an `input_shape`/`input_dim` argument to a layer. When using Sequential models, prefer using an `Input(shape)` object as the first layer in the model instead.\n",
      "  super().__init__(activity_regularizer=activity_regularizer, **kwargs)\n"
     ]
    },
    {
     "name": "stdout",
     "output_type": "stream",
     "text": [
      "{'csv_path': '/kaggle/input/zzzzzz/mendeley_dataset_full.csv', 'columns_of_interest': 16, 'epochs': 20, 'test_size': 0.4, 'accuracy_on_validation_data': 0.9351081530782029, 'accuracy_on_new_data': 71.15485564304463}\n"
     ]
    },
    {
     "name": "stderr",
     "output_type": "stream",
     "text": [
      "/opt/conda/lib/python3.10/site-packages/keras/src/layers/core/dense.py:85: UserWarning: Do not pass an `input_shape`/`input_dim` argument to a layer. When using Sequential models, prefer using an `Input(shape)` object as the first layer in the model instead.\n",
      "  super().__init__(activity_regularizer=activity_regularizer, **kwargs)\n"
     ]
    },
    {
     "name": "stdout",
     "output_type": "stream",
     "text": [
      "{'csv_path': '/kaggle/input/zzzzzz/mendeley_dataset_full.csv', 'columns_of_interest': 16, 'epochs': 20, 'test_size': 0.3, 'accuracy_on_validation_data': 0.9434104154916337, 'accuracy_on_new_data': 73.41207349081364}\n"
     ]
    },
    {
     "name": "stderr",
     "output_type": "stream",
     "text": [
      "/opt/conda/lib/python3.10/site-packages/keras/src/layers/core/dense.py:85: UserWarning: Do not pass an `input_shape`/`input_dim` argument to a layer. When using Sequential models, prefer using an `Input(shape)` object as the first layer in the model instead.\n",
      "  super().__init__(activity_regularizer=activity_regularizer, **kwargs)\n"
     ]
    },
    {
     "name": "stdout",
     "output_type": "stream",
     "text": [
      "{'csv_path': '/kaggle/input/zzzzzz/mendeley_dataset_full.csv', 'columns_of_interest': 16, 'epochs': 20, 'test_size': 0.2, 'accuracy_on_validation_data': 0.9407783417935702, 'accuracy_on_new_data': 75.60804899387577}\n"
     ]
    },
    {
     "name": "stderr",
     "output_type": "stream",
     "text": [
      "/opt/conda/lib/python3.10/site-packages/keras/src/layers/core/dense.py:85: UserWarning: Do not pass an `input_shape`/`input_dim` argument to a layer. When using Sequential models, prefer using an `Input(shape)` object as the first layer in the model instead.\n",
      "  super().__init__(activity_regularizer=activity_regularizer, **kwargs)\n"
     ]
    },
    {
     "name": "stdout",
     "output_type": "stream",
     "text": [
      "{'csv_path': '/kaggle/input/zzzzzz/mendeley_dataset_full.csv', 'columns_of_interest': 16, 'epochs': 30, 'test_size': 0.5, 'accuracy_on_validation_data': 0.9378440573955419, 'accuracy_on_new_data': 75.02187226596675}\n"
     ]
    },
    {
     "name": "stderr",
     "output_type": "stream",
     "text": [
      "/opt/conda/lib/python3.10/site-packages/keras/src/layers/core/dense.py:85: UserWarning: Do not pass an `input_shape`/`input_dim` argument to a layer. When using Sequential models, prefer using an `Input(shape)` object as the first layer in the model instead.\n",
      "  super().__init__(activity_regularizer=activity_regularizer, **kwargs)\n"
     ]
    },
    {
     "name": "stdout",
     "output_type": "stream",
     "text": [
      "{'csv_path': '/kaggle/input/zzzzzz/mendeley_dataset_full.csv', 'columns_of_interest': 16, 'epochs': 30, 'test_size': 0.4, 'accuracy_on_validation_data': 0.944386474519868, 'accuracy_on_new_data': 72.59842519685039}\n"
     ]
    },
    {
     "name": "stderr",
     "output_type": "stream",
     "text": [
      "/opt/conda/lib/python3.10/site-packages/keras/src/layers/core/dense.py:85: UserWarning: Do not pass an `input_shape`/`input_dim` argument to a layer. When using Sequential models, prefer using an `Input(shape)` object as the first layer in the model instead.\n",
      "  super().__init__(activity_regularizer=activity_regularizer, **kwargs)\n"
     ]
    },
    {
     "name": "stdout",
     "output_type": "stream",
     "text": [
      "{'csv_path': '/kaggle/input/zzzzzz/mendeley_dataset_full.csv', 'columns_of_interest': 16, 'epochs': 30, 'test_size': 0.3, 'accuracy_on_validation_data': 0.9447264523406655, 'accuracy_on_new_data': 75.41557305336833}\n"
     ]
    },
    {
     "name": "stderr",
     "output_type": "stream",
     "text": [
      "/opt/conda/lib/python3.10/site-packages/keras/src/layers/core/dense.py:85: UserWarning: Do not pass an `input_shape`/`input_dim` argument to a layer. When using Sequential models, prefer using an `Input(shape)` object as the first layer in the model instead.\n",
      "  super().__init__(activity_regularizer=activity_regularizer, **kwargs)\n"
     ]
    },
    {
     "name": "stdout",
     "output_type": "stream",
     "text": [
      "{'csv_path': '/kaggle/input/zzzzzz/mendeley_dataset_full.csv', 'columns_of_interest': 16, 'epochs': 30, 'test_size': 0.2, 'accuracy_on_validation_data': 0.9473209249858996, 'accuracy_on_new_data': 75.74803149606299}\n"
     ]
    },
    {
     "name": "stderr",
     "output_type": "stream",
     "text": [
      "/opt/conda/lib/python3.10/site-packages/keras/src/layers/core/dense.py:85: UserWarning: Do not pass an `input_shape`/`input_dim` argument to a layer. When using Sequential models, prefer using an `Input(shape)` object as the first layer in the model instead.\n",
      "  super().__init__(activity_regularizer=activity_regularizer, **kwargs)\n"
     ]
    },
    {
     "name": "stdout",
     "output_type": "stream",
     "text": [
      "{'csv_path': '/kaggle/input/zzzzzz/mendeley_dataset_full.csv', 'columns_of_interest': 16, 'epochs': 40, 'test_size': 0.5, 'accuracy_on_validation_data': 0.9428300694883134, 'accuracy_on_new_data': 76.71041119860017}\n"
     ]
    },
    {
     "name": "stderr",
     "output_type": "stream",
     "text": [
      "/opt/conda/lib/python3.10/site-packages/keras/src/layers/core/dense.py:85: UserWarning: Do not pass an `input_shape`/`input_dim` argument to a layer. When using Sequential models, prefer using an `Input(shape)` object as the first layer in the model instead.\n",
      "  super().__init__(activity_regularizer=activity_regularizer, **kwargs)\n"
     ]
    },
    {
     "name": "stdout",
     "output_type": "stream",
     "text": [
      "{'csv_path': '/kaggle/input/zzzzzz/mendeley_dataset_full.csv', 'columns_of_interest': 16, 'epochs': 40, 'test_size': 0.4, 'accuracy_on_validation_data': 0.9463323838799741, 'accuracy_on_new_data': 76.91163604549432}\n"
     ]
    },
    {
     "name": "stderr",
     "output_type": "stream",
     "text": [
      "/opt/conda/lib/python3.10/site-packages/keras/src/layers/core/dense.py:85: UserWarning: Do not pass an `input_shape`/`input_dim` argument to a layer. When using Sequential models, prefer using an `Input(shape)` object as the first layer in the model instead.\n",
      "  super().__init__(activity_regularizer=activity_regularizer, **kwargs)\n"
     ]
    },
    {
     "name": "stdout",
     "output_type": "stream",
     "text": [
      "{'csv_path': '/kaggle/input/zzzzzz/mendeley_dataset_full.csv', 'columns_of_interest': 16, 'epochs': 40, 'test_size': 0.3, 'accuracy_on_validation_data': 0.9473961270915585, 'accuracy_on_new_data': 75.52055993000874}\n"
     ]
    },
    {
     "name": "stderr",
     "output_type": "stream",
     "text": [
      "/opt/conda/lib/python3.10/site-packages/keras/src/layers/core/dense.py:85: UserWarning: Do not pass an `input_shape`/`input_dim` argument to a layer. When using Sequential models, prefer using an `Input(shape)` object as the first layer in the model instead.\n",
      "  super().__init__(activity_regularizer=activity_regularizer, **kwargs)\n"
     ]
    },
    {
     "name": "stdout",
     "output_type": "stream",
     "text": [
      "{'csv_path': '/kaggle/input/zzzzzz/mendeley_dataset_full.csv', 'columns_of_interest': 16, 'epochs': 40, 'test_size': 0.2, 'accuracy_on_validation_data': 0.9477157360406091, 'accuracy_on_new_data': 76.60542432195976}\n"
     ]
    },
    {
     "name": "stderr",
     "output_type": "stream",
     "text": [
      "/opt/conda/lib/python3.10/site-packages/keras/src/layers/core/dense.py:85: UserWarning: Do not pass an `input_shape`/`input_dim` argument to a layer. When using Sequential models, prefer using an `Input(shape)` object as the first layer in the model instead.\n",
      "  super().__init__(activity_regularizer=activity_regularizer, **kwargs)\n"
     ]
    },
    {
     "name": "stdout",
     "output_type": "stream",
     "text": [
      "{'csv_path': '/kaggle/input/zzzzzz/mendeley_dataset_full.csv', 'columns_of_interest': 16, 'epochs': 50, 'test_size': 0.5, 'accuracy_on_validation_data': 0.9465075354209909, 'accuracy_on_new_data': 72.30096237970254}\n"
     ]
    },
    {
     "name": "stderr",
     "output_type": "stream",
     "text": [
      "/opt/conda/lib/python3.10/site-packages/keras/src/layers/core/dense.py:85: UserWarning: Do not pass an `input_shape`/`input_dim` argument to a layer. When using Sequential models, prefer using an `Input(shape)` object as the first layer in the model instead.\n",
      "  super().__init__(activity_regularizer=activity_regularizer, **kwargs)\n"
     ]
    },
    {
     "name": "stdout",
     "output_type": "stream",
     "text": [
      "{'csv_path': '/kaggle/input/zzzzzz/mendeley_dataset_full.csv', 'columns_of_interest': 16, 'epochs': 50, 'test_size': 0.4, 'accuracy_on_validation_data': 0.9391127781381313, 'accuracy_on_new_data': 70.498687664042}\n"
     ]
    },
    {
     "name": "stderr",
     "output_type": "stream",
     "text": [
      "/opt/conda/lib/python3.10/site-packages/keras/src/layers/core/dense.py:85: UserWarning: Do not pass an `input_shape`/`input_dim` argument to a layer. When using Sequential models, prefer using an `Input(shape)` object as the first layer in the model instead.\n",
      "  super().__init__(activity_regularizer=activity_regularizer, **kwargs)\n"
     ]
    },
    {
     "name": "stdout",
     "output_type": "stream",
     "text": [
      "{'csv_path': '/kaggle/input/zzzzzz/mendeley_dataset_full.csv', 'columns_of_interest': 16, 'epochs': 50, 'test_size': 0.3, 'accuracy_on_validation_data': 0.9442000376010529, 'accuracy_on_new_data': 76.59667541557306}\n"
     ]
    },
    {
     "name": "stderr",
     "output_type": "stream",
     "text": [
      "/opt/conda/lib/python3.10/site-packages/keras/src/layers/core/dense.py:85: UserWarning: Do not pass an `input_shape`/`input_dim` argument to a layer. When using Sequential models, prefer using an `Input(shape)` object as the first layer in the model instead.\n",
      "  super().__init__(activity_regularizer=activity_regularizer, **kwargs)\n"
     ]
    },
    {
     "name": "stdout",
     "output_type": "stream",
     "text": [
      "{'csv_path': '/kaggle/input/zzzzzz/mendeley_dataset_full.csv', 'columns_of_interest': 16, 'epochs': 50, 'test_size': 0.2, 'accuracy_on_validation_data': 0.9491257755217146, 'accuracy_on_new_data': 76.22047244094489}\n"
     ]
    },
    {
     "name": "stderr",
     "output_type": "stream",
     "text": [
      "/opt/conda/lib/python3.10/site-packages/keras/src/layers/core/dense.py:85: UserWarning: Do not pass an `input_shape`/`input_dim` argument to a layer. When using Sequential models, prefer using an `Input(shape)` object as the first layer in the model instead.\n",
      "  super().__init__(activity_regularizer=activity_regularizer, **kwargs)\n"
     ]
    },
    {
     "name": "stdout",
     "output_type": "stream",
     "text": [
      "{'csv_path': '/kaggle/input/zzzzzz/mendeley_dataset_full.csv', 'columns_of_interest': 17, 'epochs': 10, 'test_size': 0.5, 'accuracy_on_validation_data': 0.9292257016514754, 'accuracy_on_new_data': 72.33595800524935}\n"
     ]
    },
    {
     "name": "stderr",
     "output_type": "stream",
     "text": [
      "/opt/conda/lib/python3.10/site-packages/keras/src/layers/core/dense.py:85: UserWarning: Do not pass an `input_shape`/`input_dim` argument to a layer. When using Sequential models, prefer using an `Input(shape)` object as the first layer in the model instead.\n",
      "  super().__init__(activity_regularizer=activity_regularizer, **kwargs)\n"
     ]
    },
    {
     "name": "stdout",
     "output_type": "stream",
     "text": [
      "{'csv_path': '/kaggle/input/zzzzzz/mendeley_dataset_full.csv', 'columns_of_interest': 17, 'epochs': 10, 'test_size': 0.4, 'accuracy_on_validation_data': 0.9325982120195155, 'accuracy_on_new_data': 72.09973753280839}\n"
     ]
    },
    {
     "name": "stderr",
     "output_type": "stream",
     "text": [
      "/opt/conda/lib/python3.10/site-packages/keras/src/layers/core/dense.py:85: UserWarning: Do not pass an `input_shape`/`input_dim` argument to a layer. When using Sequential models, prefer using an `Input(shape)` object as the first layer in the model instead.\n",
      "  super().__init__(activity_regularizer=activity_regularizer, **kwargs)\n"
     ]
    },
    {
     "name": "stdout",
     "output_type": "stream",
     "text": [
      "{'csv_path': '/kaggle/input/zzzzzz/mendeley_dataset_full.csv', 'columns_of_interest': 17, 'epochs': 10, 'test_size': 0.3, 'accuracy_on_validation_data': 0.9315284827975183, 'accuracy_on_new_data': 71.67979002624672}\n"
     ]
    },
    {
     "name": "stderr",
     "output_type": "stream",
     "text": [
      "/opt/conda/lib/python3.10/site-packages/keras/src/layers/core/dense.py:85: UserWarning: Do not pass an `input_shape`/`input_dim` argument to a layer. When using Sequential models, prefer using an `Input(shape)` object as the first layer in the model instead.\n",
      "  super().__init__(activity_regularizer=activity_regularizer, **kwargs)\n"
     ]
    },
    {
     "name": "stdout",
     "output_type": "stream",
     "text": [
      "{'csv_path': '/kaggle/input/zzzzzz/mendeley_dataset_full.csv', 'columns_of_interest': 17, 'epochs': 10, 'test_size': 0.2, 'accuracy_on_validation_data': 0.9362662154540327, 'accuracy_on_new_data': 72.31846019247594}\n"
     ]
    },
    {
     "name": "stderr",
     "output_type": "stream",
     "text": [
      "/opt/conda/lib/python3.10/site-packages/keras/src/layers/core/dense.py:85: UserWarning: Do not pass an `input_shape`/`input_dim` argument to a layer. When using Sequential models, prefer using an `Input(shape)` object as the first layer in the model instead.\n",
      "  super().__init__(activity_regularizer=activity_regularizer, **kwargs)\n"
     ]
    },
    {
     "name": "stdout",
     "output_type": "stream",
     "text": [
      "{'csv_path': '/kaggle/input/zzzzzz/mendeley_dataset_full.csv', 'columns_of_interest': 17, 'epochs': 20, 'test_size': 0.5, 'accuracy_on_validation_data': 0.9362873386878441, 'accuracy_on_new_data': 71.84601924759406}\n"
     ]
    },
    {
     "name": "stderr",
     "output_type": "stream",
     "text": [
      "/opt/conda/lib/python3.10/site-packages/keras/src/layers/core/dense.py:85: UserWarning: Do not pass an `input_shape`/`input_dim` argument to a layer. When using Sequential models, prefer using an `Input(shape)` object as the first layer in the model instead.\n",
      "  super().__init__(activity_regularizer=activity_regularizer, **kwargs)\n"
     ]
    },
    {
     "name": "stdout",
     "output_type": "stream",
     "text": [
      "{'csv_path': '/kaggle/input/zzzzzz/mendeley_dataset_full.csv', 'columns_of_interest': 17, 'epochs': 20, 'test_size': 0.4, 'accuracy_on_validation_data': 0.9433994190473505, 'accuracy_on_new_data': 72.30971128608924}\n"
     ]
    },
    {
     "name": "stderr",
     "output_type": "stream",
     "text": [
      "/opt/conda/lib/python3.10/site-packages/keras/src/layers/core/dense.py:85: UserWarning: Do not pass an `input_shape`/`input_dim` argument to a layer. When using Sequential models, prefer using an `Input(shape)` object as the first layer in the model instead.\n",
      "  super().__init__(activity_regularizer=activity_regularizer, **kwargs)\n"
     ]
    },
    {
     "name": "stdout",
     "output_type": "stream",
     "text": [
      "{'csv_path': '/kaggle/input/zzzzzz/mendeley_dataset_full.csv', 'columns_of_interest': 17, 'epochs': 20, 'test_size': 0.3, 'accuracy_on_validation_data': 0.9380334649370182, 'accuracy_on_new_data': 74.23447069116361}\n"
     ]
    },
    {
     "name": "stderr",
     "output_type": "stream",
     "text": [
      "/opt/conda/lib/python3.10/site-packages/keras/src/layers/core/dense.py:85: UserWarning: Do not pass an `input_shape`/`input_dim` argument to a layer. When using Sequential models, prefer using an `Input(shape)` object as the first layer in the model instead.\n",
      "  super().__init__(activity_regularizer=activity_regularizer, **kwargs)\n"
     ]
    },
    {
     "name": "stdout",
     "output_type": "stream",
     "text": [
      "{'csv_path': '/kaggle/input/zzzzzz/mendeley_dataset_full.csv', 'columns_of_interest': 17, 'epochs': 20, 'test_size': 0.2, 'accuracy_on_validation_data': 0.9434292160180485, 'accuracy_on_new_data': 72.29221347331584}\n"
     ]
    },
    {
     "name": "stderr",
     "output_type": "stream",
     "text": [
      "/opt/conda/lib/python3.10/site-packages/keras/src/layers/core/dense.py:85: UserWarning: Do not pass an `input_shape`/`input_dim` argument to a layer. When using Sequential models, prefer using an `Input(shape)` object as the first layer in the model instead.\n",
      "  super().__init__(activity_regularizer=activity_regularizer, **kwargs)\n"
     ]
    },
    {
     "name": "stdout",
     "output_type": "stream",
     "text": [
      "{'csv_path': '/kaggle/input/zzzzzz/mendeley_dataset_full.csv', 'columns_of_interest': 17, 'epochs': 30, 'test_size': 0.5, 'accuracy_on_validation_data': 0.9411831062178504, 'accuracy_on_new_data': 76.00174978127734}\n"
     ]
    },
    {
     "name": "stderr",
     "output_type": "stream",
     "text": [
      "/opt/conda/lib/python3.10/site-packages/keras/src/layers/core/dense.py:85: UserWarning: Do not pass an `input_shape`/`input_dim` argument to a layer. When using Sequential models, prefer using an `Input(shape)` object as the first layer in the model instead.\n",
      "  super().__init__(activity_regularizer=activity_regularizer, **kwargs)\n"
     ]
    },
    {
     "name": "stdout",
     "output_type": "stream",
     "text": [
      "{'csv_path': '/kaggle/input/zzzzzz/mendeley_dataset_full.csv', 'columns_of_interest': 17, 'epochs': 30, 'test_size': 0.4, 'accuracy_on_validation_data': 0.9449505062184494, 'accuracy_on_new_data': 75.2405949256343}\n"
     ]
    },
    {
     "name": "stderr",
     "output_type": "stream",
     "text": [
      "/opt/conda/lib/python3.10/site-packages/keras/src/layers/core/dense.py:85: UserWarning: Do not pass an `input_shape`/`input_dim` argument to a layer. When using Sequential models, prefer using an `Input(shape)` object as the first layer in the model instead.\n",
      "  super().__init__(activity_regularizer=activity_regularizer, **kwargs)\n"
     ]
    },
    {
     "name": "stdout",
     "output_type": "stream",
     "text": [
      "{'csv_path': '/kaggle/input/zzzzzz/mendeley_dataset_full.csv', 'columns_of_interest': 17, 'epochs': 30, 'test_size': 0.3, 'accuracy_on_validation_data': 0.9464937018236511, 'accuracy_on_new_data': 73.1408573928259}\n"
     ]
    },
    {
     "name": "stderr",
     "output_type": "stream",
     "text": [
      "/opt/conda/lib/python3.10/site-packages/keras/src/layers/core/dense.py:85: UserWarning: Do not pass an `input_shape`/`input_dim` argument to a layer. When using Sequential models, prefer using an `Input(shape)` object as the first layer in the model instead.\n",
      "  super().__init__(activity_regularizer=activity_regularizer, **kwargs)\n"
     ]
    },
    {
     "name": "stdout",
     "output_type": "stream",
     "text": [
      "{'csv_path': '/kaggle/input/zzzzzz/mendeley_dataset_full.csv', 'columns_of_interest': 17, 'epochs': 30, 'test_size': 0.2, 'accuracy_on_validation_data': 0.941737168640722, 'accuracy_on_new_data': 77.48906386701663}\n"
     ]
    },
    {
     "name": "stderr",
     "output_type": "stream",
     "text": [
      "/opt/conda/lib/python3.10/site-packages/keras/src/layers/core/dense.py:85: UserWarning: Do not pass an `input_shape`/`input_dim` argument to a layer. When using Sequential models, prefer using an `Input(shape)` object as the first layer in the model instead.\n",
      "  super().__init__(activity_regularizer=activity_regularizer, **kwargs)\n"
     ]
    },
    {
     "name": "stdout",
     "output_type": "stream",
     "text": [
      "{'csv_path': '/kaggle/input/zzzzzz/mendeley_dataset_full.csv', 'columns_of_interest': 17, 'epochs': 40, 'test_size': 0.5, 'accuracy_on_validation_data': 0.9448605721505279, 'accuracy_on_new_data': 75.92300962379703}\n"
     ]
    },
    {
     "name": "stderr",
     "output_type": "stream",
     "text": [
      "/opt/conda/lib/python3.10/site-packages/keras/src/layers/core/dense.py:85: UserWarning: Do not pass an `input_shape`/`input_dim` argument to a layer. When using Sequential models, prefer using an `Input(shape)` object as the first layer in the model instead.\n",
      "  super().__init__(activity_regularizer=activity_regularizer, **kwargs)\n"
     ]
    },
    {
     "name": "stdout",
     "output_type": "stream",
     "text": [
      "{'csv_path': '/kaggle/input/zzzzzz/mendeley_dataset_full.csv', 'columns_of_interest': 17, 'epochs': 40, 'test_size': 0.4, 'accuracy_on_validation_data': 0.9445838856143716, 'accuracy_on_new_data': 75.66054243219598}\n"
     ]
    },
    {
     "name": "stderr",
     "output_type": "stream",
     "text": [
      "/opt/conda/lib/python3.10/site-packages/keras/src/layers/core/dense.py:85: UserWarning: Do not pass an `input_shape`/`input_dim` argument to a layer. When using Sequential models, prefer using an `Input(shape)` object as the first layer in the model instead.\n",
      "  super().__init__(activity_regularizer=activity_regularizer, **kwargs)\n"
     ]
    },
    {
     "name": "stdout",
     "output_type": "stream",
     "text": [
      "{'csv_path': '/kaggle/input/zzzzzz/mendeley_dataset_full.csv', 'columns_of_interest': 17, 'epochs': 40, 'test_size': 0.3, 'accuracy_on_validation_data': 0.9448016544463245, 'accuracy_on_new_data': 70.81364829396325}\n"
     ]
    },
    {
     "name": "stderr",
     "output_type": "stream",
     "text": [
      "/opt/conda/lib/python3.10/site-packages/keras/src/layers/core/dense.py:85: UserWarning: Do not pass an `input_shape`/`input_dim` argument to a layer. When using Sequential models, prefer using an `Input(shape)` object as the first layer in the model instead.\n",
      "  super().__init__(activity_regularizer=activity_regularizer, **kwargs)\n"
     ]
    },
    {
     "name": "stdout",
     "output_type": "stream",
     "text": [
      "{'csv_path': '/kaggle/input/zzzzzz/mendeley_dataset_full.csv', 'columns_of_interest': 17, 'epochs': 40, 'test_size': 0.2, 'accuracy_on_validation_data': 0.9455724760293288, 'accuracy_on_new_data': 72.85214348206475}\n"
     ]
    },
    {
     "name": "stderr",
     "output_type": "stream",
     "text": [
      "/opt/conda/lib/python3.10/site-packages/keras/src/layers/core/dense.py:85: UserWarning: Do not pass an `input_shape`/`input_dim` argument to a layer. When using Sequential models, prefer using an `Input(shape)` object as the first layer in the model instead.\n",
      "  super().__init__(activity_regularizer=activity_regularizer, **kwargs)\n"
     ]
    },
    {
     "name": "stdout",
     "output_type": "stream",
     "text": [
      "{'csv_path': '/kaggle/input/zzzzzz/mendeley_dataset_full.csv', 'columns_of_interest': 17, 'epochs': 50, 'test_size': 0.5, 'accuracy_on_validation_data': 0.9441611767890985, 'accuracy_on_new_data': 71.96850393700788}\n"
     ]
    },
    {
     "name": "stderr",
     "output_type": "stream",
     "text": [
      "/opt/conda/lib/python3.10/site-packages/keras/src/layers/core/dense.py:85: UserWarning: Do not pass an `input_shape`/`input_dim` argument to a layer. When using Sequential models, prefer using an `Input(shape)` object as the first layer in the model instead.\n",
      "  super().__init__(activity_regularizer=activity_regularizer, **kwargs)\n"
     ]
    },
    {
     "name": "stdout",
     "output_type": "stream",
     "text": [
      "{'csv_path': '/kaggle/input/zzzzzz/mendeley_dataset_full.csv', 'columns_of_interest': 17, 'epochs': 50, 'test_size': 0.4, 'accuracy_on_validation_data': 0.9485321075044417, 'accuracy_on_new_data': 74.03324584426947}\n"
     ]
    },
    {
     "name": "stderr",
     "output_type": "stream",
     "text": [
      "/opt/conda/lib/python3.10/site-packages/keras/src/layers/core/dense.py:85: UserWarning: Do not pass an `input_shape`/`input_dim` argument to a layer. When using Sequential models, prefer using an `Input(shape)` object as the first layer in the model instead.\n",
      "  super().__init__(activity_regularizer=activity_regularizer, **kwargs)\n"
     ]
    },
    {
     "name": "stdout",
     "output_type": "stream",
     "text": [
      "{'csv_path': '/kaggle/input/zzzzzz/mendeley_dataset_full.csv', 'columns_of_interest': 17, 'epochs': 50, 'test_size': 0.3, 'accuracy_on_validation_data': 0.9505170144764054, 'accuracy_on_new_data': 73.43832020997375}\n"
     ]
    },
    {
     "name": "stderr",
     "output_type": "stream",
     "text": [
      "/opt/conda/lib/python3.10/site-packages/keras/src/layers/core/dense.py:85: UserWarning: Do not pass an `input_shape`/`input_dim` argument to a layer. When using Sequential models, prefer using an `Input(shape)` object as the first layer in the model instead.\n",
      "  super().__init__(activity_regularizer=activity_regularizer, **kwargs)\n"
     ]
    },
    {
     "name": "stdout",
     "output_type": "stream",
     "text": [
      "{'csv_path': '/kaggle/input/zzzzzz/mendeley_dataset_full.csv', 'columns_of_interest': 17, 'epochs': 50, 'test_size': 0.2, 'accuracy_on_validation_data': 0.9491821771009589, 'accuracy_on_new_data': 71.76727909011373}\n"
     ]
    },
    {
     "name": "stderr",
     "output_type": "stream",
     "text": [
      "/opt/conda/lib/python3.10/site-packages/keras/src/layers/core/dense.py:85: UserWarning: Do not pass an `input_shape`/`input_dim` argument to a layer. When using Sequential models, prefer using an `Input(shape)` object as the first layer in the model instead.\n",
      "  super().__init__(activity_regularizer=activity_regularizer, **kwargs)\n"
     ]
    },
    {
     "name": "stdout",
     "output_type": "stream",
     "text": [
      "{'csv_path': '/kaggle/input/zzzzzz/mendeley_dataset_full.csv', 'columns_of_interest': 18, 'epochs': 10, 'test_size': 0.5, 'accuracy_on_validation_data': 0.9262025087988449, 'accuracy_on_new_data': 72.90463692038495}\n"
     ]
    },
    {
     "name": "stderr",
     "output_type": "stream",
     "text": [
      "/opt/conda/lib/python3.10/site-packages/keras/src/layers/core/dense.py:85: UserWarning: Do not pass an `input_shape`/`input_dim` argument to a layer. When using Sequential models, prefer using an `Input(shape)` object as the first layer in the model instead.\n",
      "  super().__init__(activity_regularizer=activity_regularizer, **kwargs)\n"
     ]
    },
    {
     "name": "stdout",
     "output_type": "stream",
     "text": [
      "{'csv_path': '/kaggle/input/zzzzzz/mendeley_dataset_full.csv', 'columns_of_interest': 18, 'epochs': 10, 'test_size': 0.4, 'accuracy_on_validation_data': 0.9322315914154375, 'accuracy_on_new_data': 75.50306211723534}\n"
     ]
    },
    {
     "name": "stderr",
     "output_type": "stream",
     "text": [
      "/opt/conda/lib/python3.10/site-packages/keras/src/layers/core/dense.py:85: UserWarning: Do not pass an `input_shape`/`input_dim` argument to a layer. When using Sequential models, prefer using an `Input(shape)` object as the first layer in the model instead.\n",
      "  super().__init__(activity_regularizer=activity_regularizer, **kwargs)\n"
     ]
    },
    {
     "name": "stdout",
     "output_type": "stream",
     "text": [
      "{'csv_path': '/kaggle/input/zzzzzz/mendeley_dataset_full.csv', 'columns_of_interest': 18, 'epochs': 10, 'test_size': 0.3, 'accuracy_on_validation_data': 0.9369430344049633, 'accuracy_on_new_data': 73.56080489938758}\n"
     ]
    },
    {
     "name": "stderr",
     "output_type": "stream",
     "text": [
      "/opt/conda/lib/python3.10/site-packages/keras/src/layers/core/dense.py:85: UserWarning: Do not pass an `input_shape`/`input_dim` argument to a layer. When using Sequential models, prefer using an `Input(shape)` object as the first layer in the model instead.\n",
      "  super().__init__(activity_regularizer=activity_regularizer, **kwargs)\n"
     ]
    },
    {
     "name": "stdout",
     "output_type": "stream",
     "text": [
      "{'csv_path': '/kaggle/input/zzzzzz/mendeley_dataset_full.csv', 'columns_of_interest': 18, 'epochs': 10, 'test_size': 0.2, 'accuracy_on_validation_data': 0.9358714043993231, 'accuracy_on_new_data': 73.1321084864392}\n"
     ]
    },
    {
     "name": "stderr",
     "output_type": "stream",
     "text": [
      "/opt/conda/lib/python3.10/site-packages/keras/src/layers/core/dense.py:85: UserWarning: Do not pass an `input_shape`/`input_dim` argument to a layer. When using Sequential models, prefer using an `Input(shape)` object as the first layer in the model instead.\n",
      "  super().__init__(activity_regularizer=activity_regularizer, **kwargs)\n"
     ]
    },
    {
     "name": "stdout",
     "output_type": "stream",
     "text": [
      "{'csv_path': '/kaggle/input/zzzzzz/mendeley_dataset_full.csv', 'columns_of_interest': 18, 'epochs': 20, 'test_size': 0.5, 'accuracy_on_validation_data': 0.9409123725295551, 'accuracy_on_new_data': 75.8442694663167}\n"
     ]
    },
    {
     "name": "stderr",
     "output_type": "stream",
     "text": [
      "/opt/conda/lib/python3.10/site-packages/keras/src/layers/core/dense.py:85: UserWarning: Do not pass an `input_shape`/`input_dim` argument to a layer. When using Sequential models, prefer using an `Input(shape)` object as the first layer in the model instead.\n",
      "  super().__init__(activity_regularizer=activity_regularizer, **kwargs)\n"
     ]
    },
    {
     "name": "stdout",
     "output_type": "stream",
     "text": [
      "{'csv_path': '/kaggle/input/zzzzzz/mendeley_dataset_full.csv', 'columns_of_interest': 18, 'epochs': 20, 'test_size': 0.4, 'accuracy_on_validation_data': 0.9439634507459319, 'accuracy_on_new_data': 75.61679790026247}\n"
     ]
    },
    {
     "name": "stderr",
     "output_type": "stream",
     "text": [
      "/opt/conda/lib/python3.10/site-packages/keras/src/layers/core/dense.py:85: UserWarning: Do not pass an `input_shape`/`input_dim` argument to a layer. When using Sequential models, prefer using an `Input(shape)` object as the first layer in the model instead.\n",
      "  super().__init__(activity_regularizer=activity_regularizer, **kwargs)\n"
     ]
    },
    {
     "name": "stdout",
     "output_type": "stream",
     "text": [
      "{'csv_path': '/kaggle/input/zzzzzz/mendeley_dataset_full.csv', 'columns_of_interest': 18, 'epochs': 20, 'test_size': 0.3, 'accuracy_on_validation_data': 0.9445760481293476, 'accuracy_on_new_data': 75.76552930883639}\n"
     ]
    },
    {
     "name": "stderr",
     "output_type": "stream",
     "text": [
      "/opt/conda/lib/python3.10/site-packages/keras/src/layers/core/dense.py:85: UserWarning: Do not pass an `input_shape`/`input_dim` argument to a layer. When using Sequential models, prefer using an `Input(shape)` object as the first layer in the model instead.\n",
      "  super().__init__(activity_regularizer=activity_regularizer, **kwargs)\n"
     ]
    },
    {
     "name": "stdout",
     "output_type": "stream",
     "text": [
      "{'csv_path': '/kaggle/input/zzzzzz/mendeley_dataset_full.csv', 'columns_of_interest': 18, 'epochs': 20, 'test_size': 0.2, 'accuracy_on_validation_data': 0.9463620981387478, 'accuracy_on_new_data': 75.8092738407699}\n"
     ]
    },
    {
     "name": "stderr",
     "output_type": "stream",
     "text": [
      "/opt/conda/lib/python3.10/site-packages/keras/src/layers/core/dense.py:85: UserWarning: Do not pass an `input_shape`/`input_dim` argument to a layer. When using Sequential models, prefer using an `Input(shape)` object as the first layer in the model instead.\n",
      "  super().__init__(activity_regularizer=activity_regularizer, **kwargs)\n"
     ]
    },
    {
     "name": "stdout",
     "output_type": "stream",
     "text": [
      "{'csv_path': '/kaggle/input/zzzzzz/mendeley_dataset_full.csv', 'columns_of_interest': 18, 'epochs': 30, 'test_size': 0.5, 'accuracy_on_validation_data': 0.9426044580814006, 'accuracy_on_new_data': 74.41819772528434}\n"
     ]
    },
    {
     "name": "stderr",
     "output_type": "stream",
     "text": [
      "/opt/conda/lib/python3.10/site-packages/keras/src/layers/core/dense.py:85: UserWarning: Do not pass an `input_shape`/`input_dim` argument to a layer. When using Sequential models, prefer using an `Input(shape)` object as the first layer in the model instead.\n",
      "  super().__init__(activity_regularizer=activity_regularizer, **kwargs)\n"
     ]
    },
    {
     "name": "stdout",
     "output_type": "stream",
     "text": [
      "{'csv_path': '/kaggle/input/zzzzzz/mendeley_dataset_full.csv', 'columns_of_interest': 18, 'epochs': 30, 'test_size': 0.4, 'accuracy_on_validation_data': 0.9470374235032009, 'accuracy_on_new_data': 74.12073490813648}\n"
     ]
    },
    {
     "name": "stderr",
     "output_type": "stream",
     "text": [
      "/opt/conda/lib/python3.10/site-packages/keras/src/layers/core/dense.py:85: UserWarning: Do not pass an `input_shape`/`input_dim` argument to a layer. When using Sequential models, prefer using an `Input(shape)` object as the first layer in the model instead.\n",
      "  super().__init__(activity_regularizer=activity_regularizer, **kwargs)\n"
     ]
    },
    {
     "name": "stdout",
     "output_type": "stream",
     "text": [
      "{'csv_path': '/kaggle/input/zzzzzz/mendeley_dataset_full.csv', 'columns_of_interest': 18, 'epochs': 30, 'test_size': 0.3, 'accuracy_on_validation_data': 0.9482609513066366, 'accuracy_on_new_data': 76.20297462817149}\n"
     ]
    },
    {
     "name": "stderr",
     "output_type": "stream",
     "text": [
      "/opt/conda/lib/python3.10/site-packages/keras/src/layers/core/dense.py:85: UserWarning: Do not pass an `input_shape`/`input_dim` argument to a layer. When using Sequential models, prefer using an `Input(shape)` object as the first layer in the model instead.\n",
      "  super().__init__(activity_regularizer=activity_regularizer, **kwargs)\n"
     ]
    },
    {
     "name": "stdout",
     "output_type": "stream",
     "text": [
      "{'csv_path': '/kaggle/input/zzzzzz/mendeley_dataset_full.csv', 'columns_of_interest': 18, 'epochs': 30, 'test_size': 0.2, 'accuracy_on_validation_data': 0.950253807106599, 'accuracy_on_new_data': 76.47419072615924}\n"
     ]
    },
    {
     "name": "stderr",
     "output_type": "stream",
     "text": [
      "/opt/conda/lib/python3.10/site-packages/keras/src/layers/core/dense.py:85: UserWarning: Do not pass an `input_shape`/`input_dim` argument to a layer. When using Sequential models, prefer using an `Input(shape)` object as the first layer in the model instead.\n",
      "  super().__init__(activity_regularizer=activity_regularizer, **kwargs)\n"
     ]
    },
    {
     "name": "stdout",
     "output_type": "stream",
     "text": [
      "{'csv_path': '/kaggle/input/zzzzzz/mendeley_dataset_full.csv', 'columns_of_interest': 18, 'epochs': 40, 'test_size': 0.5, 'accuracy_on_validation_data': 0.9472069307824204, 'accuracy_on_new_data': 76.40419947506561}\n"
     ]
    },
    {
     "name": "stderr",
     "output_type": "stream",
     "text": [
      "/opt/conda/lib/python3.10/site-packages/keras/src/layers/core/dense.py:85: UserWarning: Do not pass an `input_shape`/`input_dim` argument to a layer. When using Sequential models, prefer using an `Input(shape)` object as the first layer in the model instead.\n",
      "  super().__init__(activity_regularizer=activity_regularizer, **kwargs)\n"
     ]
    },
    {
     "name": "stdout",
     "output_type": "stream",
     "text": [
      "{'csv_path': '/kaggle/input/zzzzzz/mendeley_dataset_full.csv', 'columns_of_interest': 18, 'epochs': 40, 'test_size': 0.4, 'accuracy_on_validation_data': 0.9469246171634846, 'accuracy_on_new_data': 76.18547681539808}\n"
     ]
    },
    {
     "name": "stderr",
     "output_type": "stream",
     "text": [
      "/opt/conda/lib/python3.10/site-packages/keras/src/layers/core/dense.py:85: UserWarning: Do not pass an `input_shape`/`input_dim` argument to a layer. When using Sequential models, prefer using an `Input(shape)` object as the first layer in the model instead.\n",
      "  super().__init__(activity_regularizer=activity_regularizer, **kwargs)\n"
     ]
    },
    {
     "name": "stdout",
     "output_type": "stream",
     "text": [
      "{'csv_path': '/kaggle/input/zzzzzz/mendeley_dataset_full.csv', 'columns_of_interest': 18, 'epochs': 40, 'test_size': 0.3, 'accuracy_on_validation_data': 0.9456664786614025, 'accuracy_on_new_data': 77.3403324584427}\n"
     ]
    },
    {
     "name": "stderr",
     "output_type": "stream",
     "text": [
      "/opt/conda/lib/python3.10/site-packages/keras/src/layers/core/dense.py:85: UserWarning: Do not pass an `input_shape`/`input_dim` argument to a layer. When using Sequential models, prefer using an `Input(shape)` object as the first layer in the model instead.\n",
      "  super().__init__(activity_regularizer=activity_regularizer, **kwargs)\n"
     ]
    },
    {
     "name": "stdout",
     "output_type": "stream",
     "text": [
      "{'csv_path': '/kaggle/input/zzzzzz/mendeley_dataset_full.csv', 'columns_of_interest': 18, 'epochs': 40, 'test_size': 0.2, 'accuracy_on_validation_data': 0.952058657642414, 'accuracy_on_new_data': 77.8740157480315}\n"
     ]
    },
    {
     "name": "stderr",
     "output_type": "stream",
     "text": [
      "/opt/conda/lib/python3.10/site-packages/keras/src/layers/core/dense.py:85: UserWarning: Do not pass an `input_shape`/`input_dim` argument to a layer. When using Sequential models, prefer using an `Input(shape)` object as the first layer in the model instead.\n",
      "  super().__init__(activity_regularizer=activity_regularizer, **kwargs)\n"
     ]
    },
    {
     "name": "stdout",
     "output_type": "stream",
     "text": [
      "{'csv_path': '/kaggle/input/zzzzzz/mendeley_dataset_full.csv', 'columns_of_interest': 18, 'epochs': 50, 'test_size': 0.5, 'accuracy_on_validation_data': 0.9488764551935746, 'accuracy_on_new_data': 78.05774278215223}\n"
     ]
    },
    {
     "name": "stderr",
     "output_type": "stream",
     "text": [
      "/opt/conda/lib/python3.10/site-packages/keras/src/layers/core/dense.py:85: UserWarning: Do not pass an `input_shape`/`input_dim` argument to a layer. When using Sequential models, prefer using an `Input(shape)` object as the first layer in the model instead.\n",
      "  super().__init__(activity_regularizer=activity_regularizer, **kwargs)\n"
     ]
    },
    {
     "name": "stdout",
     "output_type": "stream",
     "text": [
      "{'csv_path': '/kaggle/input/zzzzzz/mendeley_dataset_full.csv', 'columns_of_interest': 18, 'epochs': 50, 'test_size': 0.4, 'accuracy_on_validation_data': 0.9480808821455766, 'accuracy_on_new_data': 76.54418197725285}\n"
     ]
    },
    {
     "name": "stderr",
     "output_type": "stream",
     "text": [
      "/opt/conda/lib/python3.10/site-packages/keras/src/layers/core/dense.py:85: UserWarning: Do not pass an `input_shape`/`input_dim` argument to a layer. When using Sequential models, prefer using an `Input(shape)` object as the first layer in the model instead.\n",
      "  super().__init__(activity_regularizer=activity_regularizer, **kwargs)\n"
     ]
    },
    {
     "name": "stdout",
     "output_type": "stream",
     "text": [
      "{'csv_path': '/kaggle/input/zzzzzz/mendeley_dataset_full.csv', 'columns_of_interest': 18, 'epochs': 50, 'test_size': 0.3, 'accuracy_on_validation_data': 0.9501034028952811, 'accuracy_on_new_data': 77.46281714785653}\n"
     ]
    },
    {
     "name": "stderr",
     "output_type": "stream",
     "text": [
      "/opt/conda/lib/python3.10/site-packages/keras/src/layers/core/dense.py:85: UserWarning: Do not pass an `input_shape`/`input_dim` argument to a layer. When using Sequential models, prefer using an `Input(shape)` object as the first layer in the model instead.\n",
      "  super().__init__(activity_regularizer=activity_regularizer, **kwargs)\n"
     ]
    },
    {
     "name": "stdout",
     "output_type": "stream",
     "text": [
      "{'csv_path': '/kaggle/input/zzzzzz/mendeley_dataset_full.csv', 'columns_of_interest': 18, 'epochs': 50, 'test_size': 0.2, 'accuracy_on_validation_data': 0.9529046813310773, 'accuracy_on_new_data': 75.2668416447944}\n"
     ]
    },
    {
     "name": "stderr",
     "output_type": "stream",
     "text": [
      "/opt/conda/lib/python3.10/site-packages/keras/src/layers/core/dense.py:85: UserWarning: Do not pass an `input_shape`/`input_dim` argument to a layer. When using Sequential models, prefer using an `Input(shape)` object as the first layer in the model instead.\n",
      "  super().__init__(activity_regularizer=activity_regularizer, **kwargs)\n"
     ]
    },
    {
     "name": "stdout",
     "output_type": "stream",
     "text": [
      "{'csv_path': '/kaggle/input/zzzzzz/mendeley_dataset_full.csv', 'columns_of_interest': 19, 'epochs': 10, 'test_size': 0.5, 'accuracy_on_validation_data': 0.9313013265950727, 'accuracy_on_new_data': 71.44356955380577}\n"
     ]
    },
    {
     "name": "stderr",
     "output_type": "stream",
     "text": [
      "/opt/conda/lib/python3.10/site-packages/keras/src/layers/core/dense.py:85: UserWarning: Do not pass an `input_shape`/`input_dim` argument to a layer. When using Sequential models, prefer using an `Input(shape)` object as the first layer in the model instead.\n",
      "  super().__init__(activity_regularizer=activity_regularizer, **kwargs)\n"
     ]
    },
    {
     "name": "stdout",
     "output_type": "stream",
     "text": [
      "{'csv_path': '/kaggle/input/zzzzzz/mendeley_dataset_full.csv', 'columns_of_interest': 19, 'epochs': 10, 'test_size': 0.4, 'accuracy_on_validation_data': 0.9344313150399053, 'accuracy_on_new_data': 75.38932633420823}\n"
     ]
    },
    {
     "name": "stderr",
     "output_type": "stream",
     "text": [
      "/opt/conda/lib/python3.10/site-packages/keras/src/layers/core/dense.py:85: UserWarning: Do not pass an `input_shape`/`input_dim` argument to a layer. When using Sequential models, prefer using an `Input(shape)` object as the first layer in the model instead.\n",
      "  super().__init__(activity_regularizer=activity_regularizer, **kwargs)\n"
     ]
    },
    {
     "name": "stdout",
     "output_type": "stream",
     "text": [
      "{'csv_path': '/kaggle/input/zzzzzz/mendeley_dataset_full.csv', 'columns_of_interest': 19, 'epochs': 10, 'test_size': 0.3, 'accuracy_on_validation_data': 0.9358902049257379, 'accuracy_on_new_data': 73.63079615048119}\n"
     ]
    },
    {
     "name": "stderr",
     "output_type": "stream",
     "text": [
      "/opt/conda/lib/python3.10/site-packages/keras/src/layers/core/dense.py:85: UserWarning: Do not pass an `input_shape`/`input_dim` argument to a layer. When using Sequential models, prefer using an `Input(shape)` object as the first layer in the model instead.\n",
      "  super().__init__(activity_regularizer=activity_regularizer, **kwargs)\n"
     ]
    },
    {
     "name": "stdout",
     "output_type": "stream",
     "text": [
      "{'csv_path': '/kaggle/input/zzzzzz/mendeley_dataset_full.csv', 'columns_of_interest': 19, 'epochs': 10, 'test_size': 0.2, 'accuracy_on_validation_data': 0.9383530738860688, 'accuracy_on_new_data': 75.53805774278214}\n"
     ]
    },
    {
     "name": "stderr",
     "output_type": "stream",
     "text": [
      "/opt/conda/lib/python3.10/site-packages/keras/src/layers/core/dense.py:85: UserWarning: Do not pass an `input_shape`/`input_dim` argument to a layer. When using Sequential models, prefer using an `Input(shape)` object as the first layer in the model instead.\n",
      "  super().__init__(activity_regularizer=activity_regularizer, **kwargs)\n"
     ]
    },
    {
     "name": "stdout",
     "output_type": "stream",
     "text": [
      "{'csv_path': '/kaggle/input/zzzzzz/mendeley_dataset_full.csv', 'columns_of_interest': 19, 'epochs': 20, 'test_size': 0.5, 'accuracy_on_validation_data': 0.9391526035556358, 'accuracy_on_new_data': 74.84689413823273}\n"
     ]
    },
    {
     "name": "stderr",
     "output_type": "stream",
     "text": [
      "/opt/conda/lib/python3.10/site-packages/keras/src/layers/core/dense.py:85: UserWarning: Do not pass an `input_shape`/`input_dim` argument to a layer. When using Sequential models, prefer using an `Input(shape)` object as the first layer in the model instead.\n",
      "  super().__init__(activity_regularizer=activity_regularizer, **kwargs)\n"
     ]
    },
    {
     "name": "stdout",
     "output_type": "stream",
     "text": [
      "{'csv_path': '/kaggle/input/zzzzzz/mendeley_dataset_full.csv', 'columns_of_interest': 19, 'epochs': 20, 'test_size': 0.4, 'accuracy_on_validation_data': 0.94128430017767, 'accuracy_on_new_data': 76.43044619422572}\n"
     ]
    },
    {
     "name": "stderr",
     "output_type": "stream",
     "text": [
      "/opt/conda/lib/python3.10/site-packages/keras/src/layers/core/dense.py:85: UserWarning: Do not pass an `input_shape`/`input_dim` argument to a layer. When using Sequential models, prefer using an `Input(shape)` object as the first layer in the model instead.\n",
      "  super().__init__(activity_regularizer=activity_regularizer, **kwargs)\n"
     ]
    },
    {
     "name": "stdout",
     "output_type": "stream",
     "text": [
      "{'csv_path': '/kaggle/input/zzzzzz/mendeley_dataset_full.csv', 'columns_of_interest': 19, 'epochs': 20, 'test_size': 0.3, 'accuracy_on_validation_data': 0.9453280691859373, 'accuracy_on_new_data': 74.62817147856518}\n"
     ]
    },
    {
     "name": "stderr",
     "output_type": "stream",
     "text": [
      "/opt/conda/lib/python3.10/site-packages/keras/src/layers/core/dense.py:85: UserWarning: Do not pass an `input_shape`/`input_dim` argument to a layer. When using Sequential models, prefer using an `Input(shape)` object as the first layer in the model instead.\n",
      "  super().__init__(activity_regularizer=activity_regularizer, **kwargs)\n"
     ]
    },
    {
     "name": "stdout",
     "output_type": "stream",
     "text": [
      "{'csv_path': '/kaggle/input/zzzzzz/mendeley_dataset_full.csv', 'columns_of_interest': 19, 'epochs': 20, 'test_size': 0.2, 'accuracy_on_validation_data': 0.9418499717992104, 'accuracy_on_new_data': 76.06299212598425}\n"
     ]
    },
    {
     "name": "stderr",
     "output_type": "stream",
     "text": [
      "/opt/conda/lib/python3.10/site-packages/keras/src/layers/core/dense.py:85: UserWarning: Do not pass an `input_shape`/`input_dim` argument to a layer. When using Sequential models, prefer using an `Input(shape)` object as the first layer in the model instead.\n",
      "  super().__init__(activity_regularizer=activity_regularizer, **kwargs)\n"
     ]
    },
    {
     "name": "stdout",
     "output_type": "stream",
     "text": [
      "{'csv_path': '/kaggle/input/zzzzzz/mendeley_dataset_full.csv', 'columns_of_interest': 19, 'epochs': 30, 'test_size': 0.5, 'accuracy_on_validation_data': 0.9451538669795145, 'accuracy_on_new_data': 77.65529308836395}\n"
     ]
    },
    {
     "name": "stderr",
     "output_type": "stream",
     "text": [
      "/opt/conda/lib/python3.10/site-packages/keras/src/layers/core/dense.py:85: UserWarning: Do not pass an `input_shape`/`input_dim` argument to a layer. When using Sequential models, prefer using an `Input(shape)` object as the first layer in the model instead.\n",
      "  super().__init__(activity_regularizer=activity_regularizer, **kwargs)\n"
     ]
    },
    {
     "name": "stdout",
     "output_type": "stream",
     "text": [
      "{'csv_path': '/kaggle/input/zzzzzz/mendeley_dataset_full.csv', 'columns_of_interest': 19, 'epochs': 30, 'test_size': 0.4, 'accuracy_on_validation_data': 0.9447248935390169, 'accuracy_on_new_data': 75.99300087489064}\n"
     ]
    },
    {
     "name": "stderr",
     "output_type": "stream",
     "text": [
      "/opt/conda/lib/python3.10/site-packages/keras/src/layers/core/dense.py:85: UserWarning: Do not pass an `input_shape`/`input_dim` argument to a layer. When using Sequential models, prefer using an `Input(shape)` object as the first layer in the model instead.\n",
      "  super().__init__(activity_regularizer=activity_regularizer, **kwargs)\n"
     ]
    },
    {
     "name": "stdout",
     "output_type": "stream",
     "text": [
      "{'csv_path': '/kaggle/input/zzzzzz/mendeley_dataset_full.csv', 'columns_of_interest': 19, 'epochs': 30, 'test_size': 0.3, 'accuracy_on_validation_data': 0.9458544839255499, 'accuracy_on_new_data': 78.73140857392826}\n"
     ]
    },
    {
     "name": "stderr",
     "output_type": "stream",
     "text": [
      "/opt/conda/lib/python3.10/site-packages/keras/src/layers/core/dense.py:85: UserWarning: Do not pass an `input_shape`/`input_dim` argument to a layer. When using Sequential models, prefer using an `Input(shape)` object as the first layer in the model instead.\n",
      "  super().__init__(activity_regularizer=activity_regularizer, **kwargs)\n"
     ]
    },
    {
     "name": "stdout",
     "output_type": "stream",
     "text": [
      "{'csv_path': '/kaggle/input/zzzzzz/mendeley_dataset_full.csv', 'columns_of_interest': 19, 'epochs': 30, 'test_size': 0.2, 'accuracy_on_validation_data': 0.9494641849971799, 'accuracy_on_new_data': 75.20559930008748}\n"
     ]
    },
    {
     "name": "stderr",
     "output_type": "stream",
     "text": [
      "/opt/conda/lib/python3.10/site-packages/keras/src/layers/core/dense.py:85: UserWarning: Do not pass an `input_shape`/`input_dim` argument to a layer. When using Sequential models, prefer using an `Input(shape)` object as the first layer in the model instead.\n",
      "  super().__init__(activity_regularizer=activity_regularizer, **kwargs)\n"
     ]
    },
    {
     "name": "stdout",
     "output_type": "stream",
     "text": [
      "{'csv_path': '/kaggle/input/zzzzzz/mendeley_dataset_full.csv', 'columns_of_interest': 19, 'epochs': 40, 'test_size': 0.5, 'accuracy_on_validation_data': 0.9468685136720513, 'accuracy_on_new_data': 76.69291338582677}\n"
     ]
    },
    {
     "name": "stderr",
     "output_type": "stream",
     "text": [
      "/opt/conda/lib/python3.10/site-packages/keras/src/layers/core/dense.py:85: UserWarning: Do not pass an `input_shape`/`input_dim` argument to a layer. When using Sequential models, prefer using an `Input(shape)` object as the first layer in the model instead.\n",
      "  super().__init__(activity_regularizer=activity_regularizer, **kwargs)\n"
     ]
    },
    {
     "name": "stdout",
     "output_type": "stream",
     "text": [
      "{'csv_path': '/kaggle/input/zzzzzz/mendeley_dataset_full.csv', 'columns_of_interest': 19, 'epochs': 40, 'test_size': 0.4, 'accuracy_on_validation_data': 0.9437660396514284, 'accuracy_on_new_data': 75.03937007874015}\n"
     ]
    },
    {
     "name": "stderr",
     "output_type": "stream",
     "text": [
      "/opt/conda/lib/python3.10/site-packages/keras/src/layers/core/dense.py:85: UserWarning: Do not pass an `input_shape`/`input_dim` argument to a layer. When using Sequential models, prefer using an `Input(shape)` object as the first layer in the model instead.\n",
      "  super().__init__(activity_regularizer=activity_regularizer, **kwargs)\n"
     ]
    },
    {
     "name": "stdout",
     "output_type": "stream",
     "text": [
      "{'csv_path': '/kaggle/input/zzzzzz/mendeley_dataset_full.csv', 'columns_of_interest': 19, 'epochs': 40, 'test_size': 0.3, 'accuracy_on_validation_data': 0.9486369618349314, 'accuracy_on_new_data': 74.82939632545931}\n"
     ]
    },
    {
     "name": "stderr",
     "output_type": "stream",
     "text": [
      "/opt/conda/lib/python3.10/site-packages/keras/src/layers/core/dense.py:85: UserWarning: Do not pass an `input_shape`/`input_dim` argument to a layer. When using Sequential models, prefer using an `Input(shape)` object as the first layer in the model instead.\n",
      "  super().__init__(activity_regularizer=activity_regularizer, **kwargs)\n"
     ]
    },
    {
     "name": "stdout",
     "output_type": "stream",
     "text": [
      "{'csv_path': '/kaggle/input/zzzzzz/mendeley_dataset_full.csv', 'columns_of_interest': 19, 'epochs': 40, 'test_size': 0.2, 'accuracy_on_validation_data': 0.9508178228990412, 'accuracy_on_new_data': 75.52930883639544}\n"
     ]
    },
    {
     "name": "stderr",
     "output_type": "stream",
     "text": [
      "/opt/conda/lib/python3.10/site-packages/keras/src/layers/core/dense.py:85: UserWarning: Do not pass an `input_shape`/`input_dim` argument to a layer. When using Sequential models, prefer using an `Input(shape)` object as the first layer in the model instead.\n",
      "  super().__init__(activity_regularizer=activity_regularizer, **kwargs)\n"
     ]
    },
    {
     "name": "stdout",
     "output_type": "stream",
     "text": [
      "{'csv_path': '/kaggle/input/zzzzzz/mendeley_dataset_full.csv', 'columns_of_interest': 19, 'epochs': 50, 'test_size': 0.5, 'accuracy_on_validation_data': 0.9477032758776284, 'accuracy_on_new_data': 76.8853893263342}\n"
     ]
    },
    {
     "name": "stderr",
     "output_type": "stream",
     "text": [
      "/opt/conda/lib/python3.10/site-packages/keras/src/layers/core/dense.py:85: UserWarning: Do not pass an `input_shape`/`input_dim` argument to a layer. When using Sequential models, prefer using an `Input(shape)` object as the first layer in the model instead.\n",
      "  super().__init__(activity_regularizer=activity_regularizer, **kwargs)\n"
     ]
    },
    {
     "name": "stdout",
     "output_type": "stream",
     "text": [
      "{'csv_path': '/kaggle/input/zzzzzz/mendeley_dataset_full.csv', 'columns_of_interest': 19, 'epochs': 50, 'test_size': 0.4, 'accuracy_on_validation_data': 0.9498293804111791, 'accuracy_on_new_data': 72.44094488188976}\n"
     ]
    },
    {
     "name": "stderr",
     "output_type": "stream",
     "text": [
      "/opt/conda/lib/python3.10/site-packages/keras/src/layers/core/dense.py:85: UserWarning: Do not pass an `input_shape`/`input_dim` argument to a layer. When using Sequential models, prefer using an `Input(shape)` object as the first layer in the model instead.\n",
      "  super().__init__(activity_regularizer=activity_regularizer, **kwargs)\n"
     ]
    },
    {
     "name": "stdout",
     "output_type": "stream",
     "text": [
      "{'csv_path': '/kaggle/input/zzzzzz/mendeley_dataset_full.csv', 'columns_of_interest': 19, 'epochs': 50, 'test_size': 0.3, 'accuracy_on_validation_data': 0.9492009776273735, 'accuracy_on_new_data': 74.40944881889764}\n"
     ]
    },
    {
     "name": "stderr",
     "output_type": "stream",
     "text": [
      "/opt/conda/lib/python3.10/site-packages/keras/src/layers/core/dense.py:85: UserWarning: Do not pass an `input_shape`/`input_dim` argument to a layer. When using Sequential models, prefer using an `Input(shape)` object as the first layer in the model instead.\n",
      "  super().__init__(activity_regularizer=activity_regularizer, **kwargs)\n"
     ]
    },
    {
     "name": "stdout",
     "output_type": "stream",
     "text": [
      "{'csv_path': '/kaggle/input/zzzzzz/mendeley_dataset_full.csv', 'columns_of_interest': 19, 'epochs': 50, 'test_size': 0.2, 'accuracy_on_validation_data': 0.9510998307952623, 'accuracy_on_new_data': 76.8678915135608}\n"
     ]
    },
    {
     "name": "stderr",
     "output_type": "stream",
     "text": [
      "/opt/conda/lib/python3.10/site-packages/keras/src/layers/core/dense.py:85: UserWarning: Do not pass an `input_shape`/`input_dim` argument to a layer. When using Sequential models, prefer using an `Input(shape)` object as the first layer in the model instead.\n",
      "  super().__init__(activity_regularizer=activity_regularizer, **kwargs)\n"
     ]
    },
    {
     "name": "stdout",
     "output_type": "stream",
     "text": [
      "{'csv_path': '/kaggle/input/zzzzzz/mendeley_dataset_full.csv', 'columns_of_interest': 20, 'epochs': 10, 'test_size': 0.5, 'accuracy_on_validation_data': 0.9304665643894955, 'accuracy_on_new_data': 71.44356955380577}\n"
     ]
    },
    {
     "name": "stderr",
     "output_type": "stream",
     "text": [
      "/opt/conda/lib/python3.10/site-packages/keras/src/layers/core/dense.py:85: UserWarning: Do not pass an `input_shape`/`input_dim` argument to a layer. When using Sequential models, prefer using an `Input(shape)` object as the first layer in the model instead.\n",
      "  super().__init__(activity_regularizer=activity_regularizer, **kwargs)\n"
     ]
    },
    {
     "name": "stdout",
     "output_type": "stream",
     "text": [
      "{'csv_path': '/kaggle/input/zzzzzz/mendeley_dataset_full.csv', 'columns_of_interest': 20, 'epochs': 10, 'test_size': 0.4, 'accuracy_on_validation_data': 0.9300036662060408, 'accuracy_on_new_data': 71.63604549431322}\n"
     ]
    },
    {
     "name": "stderr",
     "output_type": "stream",
     "text": [
      "/opt/conda/lib/python3.10/site-packages/keras/src/layers/core/dense.py:85: UserWarning: Do not pass an `input_shape`/`input_dim` argument to a layer. When using Sequential models, prefer using an `Input(shape)` object as the first layer in the model instead.\n",
      "  super().__init__(activity_regularizer=activity_regularizer, **kwargs)\n"
     ]
    },
    {
     "name": "stdout",
     "output_type": "stream",
     "text": [
      "{'csv_path': '/kaggle/input/zzzzzz/mendeley_dataset_full.csv', 'columns_of_interest': 20, 'epochs': 10, 'test_size': 0.3, 'accuracy_on_validation_data': 0.9358902049257379, 'accuracy_on_new_data': 73.77952755905511}\n"
     ]
    },
    {
     "name": "stderr",
     "output_type": "stream",
     "text": [
      "/opt/conda/lib/python3.10/site-packages/keras/src/layers/core/dense.py:85: UserWarning: Do not pass an `input_shape`/`input_dim` argument to a layer. When using Sequential models, prefer using an `Input(shape)` object as the first layer in the model instead.\n",
      "  super().__init__(activity_regularizer=activity_regularizer, **kwargs)\n"
     ]
    },
    {
     "name": "stdout",
     "output_type": "stream",
     "text": [
      "{'csv_path': '/kaggle/input/zzzzzz/mendeley_dataset_full.csv', 'columns_of_interest': 20, 'epochs': 10, 'test_size': 0.2, 'accuracy_on_validation_data': 0.9375634517766498, 'accuracy_on_new_data': 72.0209973753281}\n"
     ]
    },
    {
     "name": "stderr",
     "output_type": "stream",
     "text": [
      "/opt/conda/lib/python3.10/site-packages/keras/src/layers/core/dense.py:85: UserWarning: Do not pass an `input_shape`/`input_dim` argument to a layer. When using Sequential models, prefer using an `Input(shape)` object as the first layer in the model instead.\n",
      "  super().__init__(activity_regularizer=activity_regularizer, **kwargs)\n"
     ]
    },
    {
     "name": "stdout",
     "output_type": "stream",
     "text": [
      "{'csv_path': '/kaggle/input/zzzzzz/mendeley_dataset_full.csv', 'columns_of_interest': 20, 'epochs': 20, 'test_size': 0.5, 'accuracy_on_validation_data': 0.9416117678909846, 'accuracy_on_new_data': 77.3753280839895}\n"
     ]
    },
    {
     "name": "stderr",
     "output_type": "stream",
     "text": [
      "/opt/conda/lib/python3.10/site-packages/keras/src/layers/core/dense.py:85: UserWarning: Do not pass an `input_shape`/`input_dim` argument to a layer. When using Sequential models, prefer using an `Input(shape)` object as the first layer in the model instead.\n",
      "  super().__init__(activity_regularizer=activity_regularizer, **kwargs)\n"
     ]
    },
    {
     "name": "stdout",
     "output_type": "stream",
     "text": [
      "{'csv_path': '/kaggle/input/zzzzzz/mendeley_dataset_full.csv', 'columns_of_interest': 20, 'epochs': 20, 'test_size': 0.4, 'accuracy_on_validation_data': 0.943625031726783, 'accuracy_on_new_data': 76.57917760279965}\n"
     ]
    },
    {
     "name": "stderr",
     "output_type": "stream",
     "text": [
      "/opt/conda/lib/python3.10/site-packages/keras/src/layers/core/dense.py:85: UserWarning: Do not pass an `input_shape`/`input_dim` argument to a layer. When using Sequential models, prefer using an `Input(shape)` object as the first layer in the model instead.\n",
      "  super().__init__(activity_regularizer=activity_regularizer, **kwargs)\n"
     ]
    },
    {
     "name": "stdout",
     "output_type": "stream",
     "text": [
      "{'csv_path': '/kaggle/input/zzzzzz/mendeley_dataset_full.csv', 'columns_of_interest': 20, 'epochs': 20, 'test_size': 0.3, 'accuracy_on_validation_data': 0.9433352133859748, 'accuracy_on_new_data': 76.3167104111986}\n"
     ]
    },
    {
     "name": "stderr",
     "output_type": "stream",
     "text": [
      "/opt/conda/lib/python3.10/site-packages/keras/src/layers/core/dense.py:85: UserWarning: Do not pass an `input_shape`/`input_dim` argument to a layer. When using Sequential models, prefer using an `Input(shape)` object as the first layer in the model instead.\n",
      "  super().__init__(activity_regularizer=activity_regularizer, **kwargs)\n"
     ]
    },
    {
     "name": "stdout",
     "output_type": "stream",
     "text": [
      "{'csv_path': '/kaggle/input/zzzzzz/mendeley_dataset_full.csv', 'columns_of_interest': 20, 'epochs': 20, 'test_size': 0.2, 'accuracy_on_validation_data': 0.9437676254935138, 'accuracy_on_new_data': 76.58792650918636}\n"
     ]
    },
    {
     "name": "stderr",
     "output_type": "stream",
     "text": [
      "/opt/conda/lib/python3.10/site-packages/keras/src/layers/core/dense.py:85: UserWarning: Do not pass an `input_shape`/`input_dim` argument to a layer. When using Sequential models, prefer using an `Input(shape)` object as the first layer in the model instead.\n",
      "  super().__init__(activity_regularizer=activity_regularizer, **kwargs)\n"
     ]
    },
    {
     "name": "stdout",
     "output_type": "stream",
     "text": [
      "{'csv_path': '/kaggle/input/zzzzzz/mendeley_dataset_full.csv', 'columns_of_interest': 20, 'epochs': 30, 'test_size': 0.5, 'accuracy_on_validation_data': 0.9455148452305748, 'accuracy_on_new_data': 76.94663167104112}\n"
     ]
    },
    {
     "name": "stderr",
     "output_type": "stream",
     "text": [
      "/opt/conda/lib/python3.10/site-packages/keras/src/layers/core/dense.py:85: UserWarning: Do not pass an `input_shape`/`input_dim` argument to a layer. When using Sequential models, prefer using an `Input(shape)` object as the first layer in the model instead.\n",
      "  super().__init__(activity_regularizer=activity_regularizer, **kwargs)\n"
     ]
    },
    {
     "name": "stdout",
     "output_type": "stream",
     "text": [
      "{'csv_path': '/kaggle/input/zzzzzz/mendeley_dataset_full.csv', 'columns_of_interest': 20, 'epochs': 30, 'test_size': 0.4, 'accuracy_on_validation_data': 0.9423841619899038, 'accuracy_on_new_data': 77.09536307961505}\n"
     ]
    },
    {
     "name": "stderr",
     "output_type": "stream",
     "text": [
      "/opt/conda/lib/python3.10/site-packages/keras/src/layers/core/dense.py:85: UserWarning: Do not pass an `input_shape`/`input_dim` argument to a layer. When using Sequential models, prefer using an `Input(shape)` object as the first layer in the model instead.\n",
      "  super().__init__(activity_regularizer=activity_regularizer, **kwargs)\n"
     ]
    },
    {
     "name": "stdout",
     "output_type": "stream",
     "text": [
      "{'csv_path': '/kaggle/input/zzzzzz/mendeley_dataset_full.csv', 'columns_of_interest': 20, 'epochs': 30, 'test_size': 0.3, 'accuracy_on_validation_data': 0.9458544839255499, 'accuracy_on_new_data': 77.9702537182852}\n"
     ]
    },
    {
     "name": "stderr",
     "output_type": "stream",
     "text": [
      "/opt/conda/lib/python3.10/site-packages/keras/src/layers/core/dense.py:85: UserWarning: Do not pass an `input_shape`/`input_dim` argument to a layer. When using Sequential models, prefer using an `Input(shape)` object as the first layer in the model instead.\n",
      "  super().__init__(activity_regularizer=activity_regularizer, **kwargs)\n"
     ]
    },
    {
     "name": "stdout",
     "output_type": "stream",
     "text": [
      "{'csv_path': '/kaggle/input/zzzzzz/mendeley_dataset_full.csv', 'columns_of_interest': 20, 'epochs': 30, 'test_size': 0.2, 'accuracy_on_validation_data': 0.9486745628877609, 'accuracy_on_new_data': 77.8565179352581}\n"
     ]
    },
    {
     "name": "stderr",
     "output_type": "stream",
     "text": [
      "/opt/conda/lib/python3.10/site-packages/keras/src/layers/core/dense.py:85: UserWarning: Do not pass an `input_shape`/`input_dim` argument to a layer. When using Sequential models, prefer using an `Input(shape)` object as the first layer in the model instead.\n",
      "  super().__init__(activity_regularizer=activity_regularizer, **kwargs)\n"
     ]
    },
    {
     "name": "stdout",
     "output_type": "stream",
     "text": [
      "{'csv_path': '/kaggle/input/zzzzzz/mendeley_dataset_full.csv', 'columns_of_interest': 20, 'epochs': 40, 'test_size': 0.5, 'accuracy_on_validation_data': 0.9486734049273531, 'accuracy_on_new_data': 75.95800524934383}\n"
     ]
    },
    {
     "name": "stderr",
     "output_type": "stream",
     "text": [
      "/opt/conda/lib/python3.10/site-packages/keras/src/layers/core/dense.py:85: UserWarning: Do not pass an `input_shape`/`input_dim` argument to a layer. When using Sequential models, prefer using an `Input(shape)` object as the first layer in the model instead.\n",
      "  super().__init__(activity_regularizer=activity_regularizer, **kwargs)\n"
     ]
    },
    {
     "name": "stdout",
     "output_type": "stream",
     "text": [
      "{'csv_path': '/kaggle/input/zzzzzz/mendeley_dataset_full.csv', 'columns_of_interest': 20, 'epochs': 40, 'test_size': 0.4, 'accuracy_on_validation_data': 0.950196001015257, 'accuracy_on_new_data': 76.08048993875765}\n"
     ]
    },
    {
     "name": "stderr",
     "output_type": "stream",
     "text": [
      "/opt/conda/lib/python3.10/site-packages/keras/src/layers/core/dense.py:85: UserWarning: Do not pass an `input_shape`/`input_dim` argument to a layer. When using Sequential models, prefer using an `Input(shape)` object as the first layer in the model instead.\n",
      "  super().__init__(activity_regularizer=activity_regularizer, **kwargs)\n"
     ]
    },
    {
     "name": "stdout",
     "output_type": "stream",
     "text": [
      "{'csv_path': '/kaggle/input/zzzzzz/mendeley_dataset_full.csv', 'columns_of_interest': 20, 'epochs': 40, 'test_size': 0.3, 'accuracy_on_validation_data': 0.9481857492009776, 'accuracy_on_new_data': 77.74278215223097}\n"
     ]
    },
    {
     "name": "stderr",
     "output_type": "stream",
     "text": [
      "/opt/conda/lib/python3.10/site-packages/keras/src/layers/core/dense.py:85: UserWarning: Do not pass an `input_shape`/`input_dim` argument to a layer. When using Sequential models, prefer using an `Input(shape)` object as the first layer in the model instead.\n",
      "  super().__init__(activity_regularizer=activity_regularizer, **kwargs)\n"
     ]
    },
    {
     "name": "stdout",
     "output_type": "stream",
     "text": [
      "{'csv_path': '/kaggle/input/zzzzzz/mendeley_dataset_full.csv', 'columns_of_interest': 20, 'epochs': 40, 'test_size': 0.2, 'accuracy_on_validation_data': 0.9500846023688664, 'accuracy_on_new_data': 77.80402449693788}\n"
     ]
    },
    {
     "name": "stderr",
     "output_type": "stream",
     "text": [
      "/opt/conda/lib/python3.10/site-packages/keras/src/layers/core/dense.py:85: UserWarning: Do not pass an `input_shape`/`input_dim` argument to a layer. When using Sequential models, prefer using an `Input(shape)` object as the first layer in the model instead.\n",
      "  super().__init__(activity_regularizer=activity_regularizer, **kwargs)\n"
     ]
    },
    {
     "name": "stdout",
     "output_type": "stream",
     "text": [
      "{'csv_path': '/kaggle/input/zzzzzz/mendeley_dataset_full.csv', 'columns_of_interest': 20, 'epochs': 50, 'test_size': 0.5, 'accuracy_on_validation_data': 0.9490343831784135, 'accuracy_on_new_data': 77.13035870516185}\n"
     ]
    },
    {
     "name": "stderr",
     "output_type": "stream",
     "text": [
      "/opt/conda/lib/python3.10/site-packages/keras/src/layers/core/dense.py:85: UserWarning: Do not pass an `input_shape`/`input_dim` argument to a layer. When using Sequential models, prefer using an `Input(shape)` object as the first layer in the model instead.\n",
      "  super().__init__(activity_regularizer=activity_regularizer, **kwargs)\n"
     ]
    },
    {
     "name": "stdout",
     "output_type": "stream",
     "text": [
      "{'csv_path': '/kaggle/input/zzzzzz/mendeley_dataset_full.csv', 'columns_of_interest': 20, 'epochs': 50, 'test_size': 0.4, 'accuracy_on_validation_data': 0.946304182295045, 'accuracy_on_new_data': 77.3665791776028}\n"
     ]
    },
    {
     "name": "stderr",
     "output_type": "stream",
     "text": [
      "/opt/conda/lib/python3.10/site-packages/keras/src/layers/core/dense.py:85: UserWarning: Do not pass an `input_shape`/`input_dim` argument to a layer. When using Sequential models, prefer using an `Input(shape)` object as the first layer in the model instead.\n",
      "  super().__init__(activity_regularizer=activity_regularizer, **kwargs)\n"
     ]
    },
    {
     "name": "stdout",
     "output_type": "stream",
     "text": [
      "{'csv_path': '/kaggle/input/zzzzzz/mendeley_dataset_full.csv', 'columns_of_interest': 20, 'epochs': 50, 'test_size': 0.3, 'accuracy_on_validation_data': 0.9505170144764054, 'accuracy_on_new_data': 77.76902887139107}\n"
     ]
    },
    {
     "name": "stderr",
     "output_type": "stream",
     "text": [
      "/opt/conda/lib/python3.10/site-packages/keras/src/layers/core/dense.py:85: UserWarning: Do not pass an `input_shape`/`input_dim` argument to a layer. When using Sequential models, prefer using an `Input(shape)` object as the first layer in the model instead.\n",
      "  super().__init__(activity_regularizer=activity_regularizer, **kwargs)\n"
     ]
    },
    {
     "name": "stdout",
     "output_type": "stream",
     "text": [
      "{'csv_path': '/kaggle/input/zzzzzz/mendeley_dataset_full.csv', 'columns_of_interest': 20, 'epochs': 50, 'test_size': 0.2, 'accuracy_on_validation_data': 0.9527918781725888, 'accuracy_on_new_data': 78.58267716535433}\n"
     ]
    },
    {
     "name": "stderr",
     "output_type": "stream",
     "text": [
      "/opt/conda/lib/python3.10/site-packages/keras/src/layers/core/dense.py:85: UserWarning: Do not pass an `input_shape`/`input_dim` argument to a layer. When using Sequential models, prefer using an `Input(shape)` object as the first layer in the model instead.\n",
      "  super().__init__(activity_regularizer=activity_regularizer, **kwargs)\n"
     ]
    },
    {
     "name": "stdout",
     "output_type": "stream",
     "text": [
      "{'csv_path': '/kaggle/input/ssssssss/dataset_small.csv', 'columns_of_interest': 14, 'epochs': 10, 'test_size': 0.5, 'accuracy_on_validation_data': 0.8813900351260103, 'accuracy_on_new_data': 69.08136482939634}\n"
     ]
    },
    {
     "name": "stderr",
     "output_type": "stream",
     "text": [
      "/opt/conda/lib/python3.10/site-packages/keras/src/layers/core/dense.py:85: UserWarning: Do not pass an `input_shape`/`input_dim` argument to a layer. When using Sequential models, prefer using an `Input(shape)` object as the first layer in the model instead.\n",
      "  super().__init__(activity_regularizer=activity_regularizer, **kwargs)\n"
     ]
    },
    {
     "name": "stdout",
     "output_type": "stream",
     "text": [
      "{'csv_path': '/kaggle/input/ssssssss/dataset_small.csv', 'columns_of_interest': 14, 'epochs': 10, 'test_size': 0.4, 'accuracy_on_validation_data': 0.8929149970159433, 'accuracy_on_new_data': 72.25721784776903}\n"
     ]
    },
    {
     "name": "stderr",
     "output_type": "stream",
     "text": [
      "/opt/conda/lib/python3.10/site-packages/keras/src/layers/core/dense.py:85: UserWarning: Do not pass an `input_shape`/`input_dim` argument to a layer. When using Sequential models, prefer using an `Input(shape)` object as the first layer in the model instead.\n",
      "  super().__init__(activity_regularizer=activity_regularizer, **kwargs)\n"
     ]
    },
    {
     "name": "stdout",
     "output_type": "stream",
     "text": [
      "{'csv_path': '/kaggle/input/ssssssss/dataset_small.csv', 'columns_of_interest': 14, 'epochs': 10, 'test_size': 0.3, 'accuracy_on_validation_data': 0.898829146299875, 'accuracy_on_new_data': 71.60979877515311}\n"
     ]
    },
    {
     "name": "stderr",
     "output_type": "stream",
     "text": [
      "/opt/conda/lib/python3.10/site-packages/keras/src/layers/core/dense.py:85: UserWarning: Do not pass an `input_shape`/`input_dim` argument to a layer. When using Sequential models, prefer using an `Input(shape)` object as the first layer in the model instead.\n",
      "  super().__init__(activity_regularizer=activity_regularizer, **kwargs)\n"
     ]
    },
    {
     "name": "stdout",
     "output_type": "stream",
     "text": [
      "{'csv_path': '/kaggle/input/ssssssss/dataset_small.csv', 'columns_of_interest': 14, 'epochs': 10, 'test_size': 0.2, 'accuracy_on_validation_data': 0.9012703555290306, 'accuracy_on_new_data': 71.26859142607174}\n"
     ]
    },
    {
     "name": "stderr",
     "output_type": "stream",
     "text": [
      "/opt/conda/lib/python3.10/site-packages/keras/src/layers/core/dense.py:85: UserWarning: Do not pass an `input_shape`/`input_dim` argument to a layer. When using Sequential models, prefer using an `Input(shape)` object as the first layer in the model instead.\n",
      "  super().__init__(activity_regularizer=activity_regularizer, **kwargs)\n"
     ]
    },
    {
     "name": "stdout",
     "output_type": "stream",
     "text": [
      "{'csv_path': '/kaggle/input/ssssssss/dataset_small.csv', 'columns_of_interest': 14, 'epochs': 20, 'test_size': 0.5, 'accuracy_on_validation_data': 0.889301913173959, 'accuracy_on_new_data': 71.77602799650043}\n"
     ]
    },
    {
     "name": "stderr",
     "output_type": "stream",
     "text": [
      "/opt/conda/lib/python3.10/site-packages/keras/src/layers/core/dense.py:85: UserWarning: Do not pass an `input_shape`/`input_dim` argument to a layer. When using Sequential models, prefer using an `Input(shape)` object as the first layer in the model instead.\n",
      "  super().__init__(activity_regularizer=activity_regularizer, **kwargs)\n"
     ]
    },
    {
     "name": "stdout",
     "output_type": "stream",
     "text": [
      "{'csv_path': '/kaggle/input/ssssssss/dataset_small.csv', 'columns_of_interest': 14, 'epochs': 20, 'test_size': 0.4, 'accuracy_on_validation_data': 0.9059169579674311, 'accuracy_on_new_data': 74.2869641294838}\n"
     ]
    },
    {
     "name": "stderr",
     "output_type": "stream",
     "text": [
      "/opt/conda/lib/python3.10/site-packages/keras/src/layers/core/dense.py:85: UserWarning: Do not pass an `input_shape`/`input_dim` argument to a layer. When using Sequential models, prefer using an `Input(shape)` object as the first layer in the model instead.\n",
      "  super().__init__(activity_regularizer=activity_regularizer, **kwargs)\n"
     ]
    },
    {
     "name": "stdout",
     "output_type": "stream",
     "text": [
      "{'csv_path': '/kaggle/input/ssssssss/dataset_small.csv', 'columns_of_interest': 14, 'epochs': 20, 'test_size': 0.3, 'accuracy_on_validation_data': 0.9017278617710583, 'accuracy_on_new_data': 75.44181977252843}\n"
     ]
    },
    {
     "name": "stderr",
     "output_type": "stream",
     "text": [
      "/opt/conda/lib/python3.10/site-packages/keras/src/layers/core/dense.py:85: UserWarning: Do not pass an `input_shape`/`input_dim` argument to a layer. When using Sequential models, prefer using an `Input(shape)` object as the first layer in the model instead.\n",
      "  super().__init__(activity_regularizer=activity_regularizer, **kwargs)\n"
     ]
    },
    {
     "name": "stdout",
     "output_type": "stream",
     "text": [
      "{'csv_path': '/kaggle/input/ssssssss/dataset_small.csv', 'columns_of_interest': 14, 'epochs': 20, 'test_size': 0.2, 'accuracy_on_validation_data': 0.9106488191661694, 'accuracy_on_new_data': 75.7130358705162}\n"
     ]
    },
    {
     "name": "stderr",
     "output_type": "stream",
     "text": [
      "/opt/conda/lib/python3.10/site-packages/keras/src/layers/core/dense.py:85: UserWarning: Do not pass an `input_shape`/`input_dim` argument to a layer. When using Sequential models, prefer using an `Input(shape)` object as the first layer in the model instead.\n",
      "  super().__init__(activity_regularizer=activity_regularizer, **kwargs)\n"
     ]
    },
    {
     "name": "stdout",
     "output_type": "stream",
     "text": [
      "{'csv_path': '/kaggle/input/ssssssss/dataset_small.csv', 'columns_of_interest': 14, 'epochs': 30, 'test_size': 0.5, 'accuracy_on_validation_data': 0.9038297582102787, 'accuracy_on_new_data': 75.7830271216098}\n"
     ]
    },
    {
     "name": "stderr",
     "output_type": "stream",
     "text": [
      "/opt/conda/lib/python3.10/site-packages/keras/src/layers/core/dense.py:85: UserWarning: Do not pass an `input_shape`/`input_dim` argument to a layer. When using Sequential models, prefer using an `Input(shape)` object as the first layer in the model instead.\n",
      "  super().__init__(activity_regularizer=activity_regularizer, **kwargs)\n"
     ]
    },
    {
     "name": "stdout",
     "output_type": "stream",
     "text": [
      "{'csv_path': '/kaggle/input/ssssssss/dataset_small.csv', 'columns_of_interest': 14, 'epochs': 30, 'test_size': 0.4, 'accuracy_on_validation_data': 0.9078779094551965, 'accuracy_on_new_data': 70.95363079615048}\n"
     ]
    },
    {
     "name": "stderr",
     "output_type": "stream",
     "text": [
      "/opt/conda/lib/python3.10/site-packages/keras/src/layers/core/dense.py:85: UserWarning: Do not pass an `input_shape`/`input_dim` argument to a layer. When using Sequential models, prefer using an `Input(shape)` object as the first layer in the model instead.\n",
      "  super().__init__(activity_regularizer=activity_regularizer, **kwargs)\n"
     ]
    },
    {
     "name": "stdout",
     "output_type": "stream",
     "text": [
      "{'csv_path': '/kaggle/input/ssssssss/dataset_small.csv', 'columns_of_interest': 14, 'epochs': 30, 'test_size': 0.3, 'accuracy_on_validation_data': 0.9099693077185405, 'accuracy_on_new_data': 74.65441819772528}\n"
     ]
    },
    {
     "name": "stderr",
     "output_type": "stream",
     "text": [
      "/opt/conda/lib/python3.10/site-packages/keras/src/layers/core/dense.py:85: UserWarning: Do not pass an `input_shape`/`input_dim` argument to a layer. When using Sequential models, prefer using an `Input(shape)` object as the first layer in the model instead.\n",
      "  super().__init__(activity_regularizer=activity_regularizer, **kwargs)\n"
     ]
    },
    {
     "name": "stdout",
     "output_type": "stream",
     "text": [
      "{'csv_path': '/kaggle/input/ssssssss/dataset_small.csv', 'columns_of_interest': 14, 'epochs': 30, 'test_size': 0.2, 'accuracy_on_validation_data': 0.9079205388353654, 'accuracy_on_new_data': 76.19422572178478}\n"
     ]
    },
    {
     "name": "stderr",
     "output_type": "stream",
     "text": [
      "/opt/conda/lib/python3.10/site-packages/keras/src/layers/core/dense.py:85: UserWarning: Do not pass an `input_shape`/`input_dim` argument to a layer. When using Sequential models, prefer using an `Input(shape)` object as the first layer in the model instead.\n",
      "  super().__init__(activity_regularizer=activity_regularizer, **kwargs)\n"
     ]
    },
    {
     "name": "stdout",
     "output_type": "stream",
     "text": [
      "{'csv_path': '/kaggle/input/ssssssss/dataset_small.csv', 'columns_of_interest': 14, 'epochs': 40, 'test_size': 0.5, 'accuracy_on_validation_data': 0.9112300924189203, 'accuracy_on_new_data': 76.95538057742782}\n"
     ]
    },
    {
     "name": "stderr",
     "output_type": "stream",
     "text": [
      "/opt/conda/lib/python3.10/site-packages/keras/src/layers/core/dense.py:85: UserWarning: Do not pass an `input_shape`/`input_dim` argument to a layer. When using Sequential models, prefer using an `Input(shape)` object as the first layer in the model instead.\n",
      "  super().__init__(activity_regularizer=activity_regularizer, **kwargs)\n"
     ]
    },
    {
     "name": "stdout",
     "output_type": "stream",
     "text": [
      "{'csv_path': '/kaggle/input/ssssssss/dataset_small.csv', 'columns_of_interest': 14, 'epochs': 40, 'test_size': 0.4, 'accuracy_on_validation_data': 0.9163185267286214, 'accuracy_on_new_data': 73.92825896762905}\n"
     ]
    },
    {
     "name": "stderr",
     "output_type": "stream",
     "text": [
      "/opt/conda/lib/python3.10/site-packages/keras/src/layers/core/dense.py:85: UserWarning: Do not pass an `input_shape`/`input_dim` argument to a layer. When using Sequential models, prefer using an `Input(shape)` object as the first layer in the model instead.\n",
      "  super().__init__(activity_regularizer=activity_regularizer, **kwargs)\n"
     ]
    },
    {
     "name": "stdout",
     "output_type": "stream",
     "text": [
      "{'csv_path': '/kaggle/input/ssssssss/dataset_small.csv', 'columns_of_interest': 14, 'epochs': 40, 'test_size': 0.3, 'accuracy_on_validation_data': 0.9143457997044447, 'accuracy_on_new_data': 73.63079615048119}\n"
     ]
    },
    {
     "name": "stderr",
     "output_type": "stream",
     "text": [
      "/opt/conda/lib/python3.10/site-packages/keras/src/layers/core/dense.py:85: UserWarning: Do not pass an `input_shape`/`input_dim` argument to a layer. When using Sequential models, prefer using an `Input(shape)` object as the first layer in the model instead.\n",
      "  super().__init__(activity_regularizer=activity_regularizer, **kwargs)\n"
     ]
    },
    {
     "name": "stdout",
     "output_type": "stream",
     "text": [
      "{'csv_path': '/kaggle/input/ssssssss/dataset_small.csv', 'columns_of_interest': 14, 'epochs': 40, 'test_size': 0.2, 'accuracy_on_validation_data': 0.9169579674311535, 'accuracy_on_new_data': 75.51181102362204}\n"
     ]
    },
    {
     "name": "stderr",
     "output_type": "stream",
     "text": [
      "/opt/conda/lib/python3.10/site-packages/keras/src/layers/core/dense.py:85: UserWarning: Do not pass an `input_shape`/`input_dim` argument to a layer. When using Sequential models, prefer using an `Input(shape)` object as the first layer in the model instead.\n",
      "  super().__init__(activity_regularizer=activity_regularizer, **kwargs)\n"
     ]
    },
    {
     "name": "stdout",
     "output_type": "stream",
     "text": [
      "{'csv_path': '/kaggle/input/ssssssss/dataset_small.csv', 'columns_of_interest': 14, 'epochs': 50, 'test_size': 0.5, 'accuracy_on_validation_data': 0.9210517341336153, 'accuracy_on_new_data': 75.45056867891513}\n"
     ]
    },
    {
     "name": "stderr",
     "output_type": "stream",
     "text": [
      "/opt/conda/lib/python3.10/site-packages/keras/src/layers/core/dense.py:85: UserWarning: Do not pass an `input_shape`/`input_dim` argument to a layer. When using Sequential models, prefer using an `Input(shape)` object as the first layer in the model instead.\n",
      "  super().__init__(activity_regularizer=activity_regularizer, **kwargs)\n"
     ]
    },
    {
     "name": "stdout",
     "output_type": "stream",
     "text": [
      "{'csv_path': '/kaggle/input/ssssssss/dataset_small.csv', 'columns_of_interest': 14, 'epochs': 50, 'test_size': 0.4, 'accuracy_on_validation_data': 0.9223718987125927, 'accuracy_on_new_data': 74.53193350831147}\n"
     ]
    },
    {
     "name": "stderr",
     "output_type": "stream",
     "text": [
      "/opt/conda/lib/python3.10/site-packages/keras/src/layers/core/dense.py:85: UserWarning: Do not pass an `input_shape`/`input_dim` argument to a layer. When using Sequential models, prefer using an `Input(shape)` object as the first layer in the model instead.\n",
      "  super().__init__(activity_regularizer=activity_regularizer, **kwargs)\n"
     ]
    },
    {
     "name": "stdout",
     "output_type": "stream",
     "text": [
      "{'csv_path': '/kaggle/input/ssssssss/dataset_small.csv', 'columns_of_interest': 14, 'epochs': 50, 'test_size': 0.3, 'accuracy_on_validation_data': 0.918381266340798, 'accuracy_on_new_data': 74.60192475940507}\n"
     ]
    },
    {
     "name": "stderr",
     "output_type": "stream",
     "text": [
      "/opt/conda/lib/python3.10/site-packages/keras/src/layers/core/dense.py:85: UserWarning: Do not pass an `input_shape`/`input_dim` argument to a layer. When using Sequential models, prefer using an `Input(shape)` object as the first layer in the model instead.\n",
      "  super().__init__(activity_regularizer=activity_regularizer, **kwargs)\n"
     ]
    },
    {
     "name": "stdout",
     "output_type": "stream",
     "text": [
      "{'csv_path': '/kaggle/input/ssssssss/dataset_small.csv', 'columns_of_interest': 14, 'epochs': 50, 'test_size': 0.2, 'accuracy_on_validation_data': 0.9208798704066843, 'accuracy_on_new_data': 75.19685039370079}\n"
     ]
    },
    {
     "name": "stderr",
     "output_type": "stream",
     "text": [
      "/opt/conda/lib/python3.10/site-packages/keras/src/layers/core/dense.py:85: UserWarning: Do not pass an `input_shape`/`input_dim` argument to a layer. When using Sequential models, prefer using an `Input(shape)` object as the first layer in the model instead.\n",
      "  super().__init__(activity_regularizer=activity_regularizer, **kwargs)\n"
     ]
    },
    {
     "name": "stdout",
     "output_type": "stream",
     "text": [
      "{'csv_path': '/kaggle/input/ssssssss/dataset_small.csv', 'columns_of_interest': 15, 'epochs': 10, 'test_size': 0.5, 'accuracy_on_validation_data': 0.8903591037751936, 'accuracy_on_new_data': 71.46106736657917}\n"
     ]
    },
    {
     "name": "stderr",
     "output_type": "stream",
     "text": [
      "/opt/conda/lib/python3.10/site-packages/keras/src/layers/core/dense.py:85: UserWarning: Do not pass an `input_shape`/`input_dim` argument to a layer. When using Sequential models, prefer using an `Input(shape)` object as the first layer in the model instead.\n",
      "  super().__init__(activity_regularizer=activity_regularizer, **kwargs)\n"
     ]
    },
    {
     "name": "stdout",
     "output_type": "stream",
     "text": [
      "{'csv_path': '/kaggle/input/ssssssss/dataset_small.csv', 'columns_of_interest': 15, 'epochs': 10, 'test_size': 0.4, 'accuracy_on_validation_data': 0.9001619916446415, 'accuracy_on_new_data': 70.68241469816273}\n"
     ]
    },
    {
     "name": "stderr",
     "output_type": "stream",
     "text": [
      "/opt/conda/lib/python3.10/site-packages/keras/src/layers/core/dense.py:85: UserWarning: Do not pass an `input_shape`/`input_dim` argument to a layer. When using Sequential models, prefer using an `Input(shape)` object as the first layer in the model instead.\n",
      "  super().__init__(activity_regularizer=activity_regularizer, **kwargs)\n"
     ]
    },
    {
     "name": "stdout",
     "output_type": "stream",
     "text": [
      "{'csv_path': '/kaggle/input/ssssssss/dataset_small.csv', 'columns_of_interest': 15, 'epochs': 10, 'test_size': 0.3, 'accuracy_on_validation_data': 0.8937137660566102, 'accuracy_on_new_data': 73.97200349956256}\n"
     ]
    },
    {
     "name": "stderr",
     "output_type": "stream",
     "text": [
      "/opt/conda/lib/python3.10/site-packages/keras/src/layers/core/dense.py:85: UserWarning: Do not pass an `input_shape`/`input_dim` argument to a layer. When using Sequential models, prefer using an `Input(shape)` object as the first layer in the model instead.\n",
      "  super().__init__(activity_regularizer=activity_regularizer, **kwargs)\n"
     ]
    },
    {
     "name": "stdout",
     "output_type": "stream",
     "text": [
      "{'csv_path': '/kaggle/input/ssssssss/dataset_small.csv', 'columns_of_interest': 15, 'epochs': 10, 'test_size': 0.2, 'accuracy_on_validation_data': 0.8996504390826158, 'accuracy_on_new_data': 71.99475065616798}\n"
     ]
    },
    {
     "name": "stderr",
     "output_type": "stream",
     "text": [
      "/opt/conda/lib/python3.10/site-packages/keras/src/layers/core/dense.py:85: UserWarning: Do not pass an `input_shape`/`input_dim` argument to a layer. When using Sequential models, prefer using an `Input(shape)` object as the first layer in the model instead.\n",
      "  super().__init__(activity_regularizer=activity_regularizer, **kwargs)\n"
     ]
    },
    {
     "name": "stdout",
     "output_type": "stream",
     "text": [
      "{'csv_path': '/kaggle/input/ssssssss/dataset_small.csv', 'columns_of_interest': 15, 'epochs': 20, 'test_size': 0.5, 'accuracy_on_validation_data': 0.8961566006206731, 'accuracy_on_new_data': 66.63167104111986}\n"
     ]
    },
    {
     "name": "stderr",
     "output_type": "stream",
     "text": [
      "/opt/conda/lib/python3.10/site-packages/keras/src/layers/core/dense.py:85: UserWarning: Do not pass an `input_shape`/`input_dim` argument to a layer. When using Sequential models, prefer using an `Input(shape)` object as the first layer in the model instead.\n",
      "  super().__init__(activity_regularizer=activity_regularizer, **kwargs)\n"
     ]
    },
    {
     "name": "stdout",
     "output_type": "stream",
     "text": [
      "{'csv_path': '/kaggle/input/ssssssss/dataset_small.csv', 'columns_of_interest': 15, 'epochs': 20, 'test_size': 0.4, 'accuracy_on_validation_data': 0.908218944496547, 'accuracy_on_new_data': 73.92825896762905}\n"
     ]
    },
    {
     "name": "stderr",
     "output_type": "stream",
     "text": [
      "/opt/conda/lib/python3.10/site-packages/keras/src/layers/core/dense.py:85: UserWarning: Do not pass an `input_shape`/`input_dim` argument to a layer. When using Sequential models, prefer using an `Input(shape)` object as the first layer in the model instead.\n",
      "  super().__init__(activity_regularizer=activity_regularizer, **kwargs)\n"
     ]
    },
    {
     "name": "stdout",
     "output_type": "stream",
     "text": [
      "{'csv_path': '/kaggle/input/ssssssss/dataset_small.csv', 'columns_of_interest': 15, 'epochs': 20, 'test_size': 0.3, 'accuracy_on_validation_data': 0.9098556326020234, 'accuracy_on_new_data': 72.21347331583551}\n"
     ]
    },
    {
     "name": "stderr",
     "output_type": "stream",
     "text": [
      "/opt/conda/lib/python3.10/site-packages/keras/src/layers/core/dense.py:85: UserWarning: Do not pass an `input_shape`/`input_dim` argument to a layer. When using Sequential models, prefer using an `Input(shape)` object as the first layer in the model instead.\n",
      "  super().__init__(activity_regularizer=activity_regularizer, **kwargs)\n"
     ]
    },
    {
     "name": "stdout",
     "output_type": "stream",
     "text": [
      "{'csv_path': '/kaggle/input/ssssssss/dataset_small.csv', 'columns_of_interest': 15, 'epochs': 20, 'test_size': 0.2, 'accuracy_on_validation_data': 0.9120982180919089, 'accuracy_on_new_data': 75.19685039370079}\n"
     ]
    },
    {
     "name": "stderr",
     "output_type": "stream",
     "text": [
      "/opt/conda/lib/python3.10/site-packages/keras/src/layers/core/dense.py:85: UserWarning: Do not pass an `input_shape`/`input_dim` argument to a layer. When using Sequential models, prefer using an `Input(shape)` object as the first layer in the model instead.\n",
      "  super().__init__(activity_regularizer=activity_regularizer, **kwargs)\n"
     ]
    },
    {
     "name": "stdout",
     "output_type": "stream",
     "text": [
      "{'csv_path': '/kaggle/input/ssssssss/dataset_small.csv', 'columns_of_interest': 15, 'epochs': 30, 'test_size': 0.5, 'accuracy_on_validation_data': 0.9070354329366027, 'accuracy_on_new_data': 71.33858267716535}\n"
     ]
    },
    {
     "name": "stderr",
     "output_type": "stream",
     "text": [
      "/opt/conda/lib/python3.10/site-packages/keras/src/layers/core/dense.py:85: UserWarning: Do not pass an `input_shape`/`input_dim` argument to a layer. When using Sequential models, prefer using an `Input(shape)` object as the first layer in the model instead.\n",
      "  super().__init__(activity_regularizer=activity_regularizer, **kwargs)\n"
     ]
    },
    {
     "name": "stdout",
     "output_type": "stream",
     "text": [
      "{'csv_path': '/kaggle/input/ssssssss/dataset_small.csv', 'columns_of_interest': 15, 'epochs': 30, 'test_size': 0.4, 'accuracy_on_validation_data': 0.9149117571830505, 'accuracy_on_new_data': 72.84339457567805}\n"
     ]
    },
    {
     "name": "stderr",
     "output_type": "stream",
     "text": [
      "/opt/conda/lib/python3.10/site-packages/keras/src/layers/core/dense.py:85: UserWarning: Do not pass an `input_shape`/`input_dim` argument to a layer. When using Sequential models, prefer using an `Input(shape)` object as the first layer in the model instead.\n",
      "  super().__init__(activity_regularizer=activity_regularizer, **kwargs)\n"
     ]
    },
    {
     "name": "stdout",
     "output_type": "stream",
     "text": [
      "{'csv_path': '/kaggle/input/ssssssss/dataset_small.csv', 'columns_of_interest': 15, 'epochs': 30, 'test_size': 0.3, 'accuracy_on_validation_data': 0.9205410935546209, 'accuracy_on_new_data': 72.99212598425197}\n"
     ]
    },
    {
     "name": "stderr",
     "output_type": "stream",
     "text": [
      "/opt/conda/lib/python3.10/site-packages/keras/src/layers/core/dense.py:85: UserWarning: Do not pass an `input_shape`/`input_dim` argument to a layer. When using Sequential models, prefer using an `Input(shape)` object as the first layer in the model instead.\n",
      "  super().__init__(activity_regularizer=activity_regularizer, **kwargs)\n"
     ]
    },
    {
     "name": "stdout",
     "output_type": "stream",
     "text": [
      "{'csv_path': '/kaggle/input/ssssssss/dataset_small.csv', 'columns_of_interest': 15, 'epochs': 30, 'test_size': 0.2, 'accuracy_on_validation_data': 0.920027282803308, 'accuracy_on_new_data': 75.21434820647418}\n"
     ]
    },
    {
     "name": "stderr",
     "output_type": "stream",
     "text": [
      "/opt/conda/lib/python3.10/site-packages/keras/src/layers/core/dense.py:85: UserWarning: Do not pass an `input_shape`/`input_dim` argument to a layer. When using Sequential models, prefer using an `Input(shape)` object as the first layer in the model instead.\n",
      "  super().__init__(activity_regularizer=activity_regularizer, **kwargs)\n"
     ]
    },
    {
     "name": "stdout",
     "output_type": "stream",
     "text": [
      "{'csv_path': '/kaggle/input/ssssssss/dataset_small.csv', 'columns_of_interest': 15, 'epochs': 40, 'test_size': 0.5, 'accuracy_on_validation_data': 0.9194147938478328, 'accuracy_on_new_data': 73.75328083989501}\n"
     ]
    },
    {
     "name": "stderr",
     "output_type": "stream",
     "text": [
      "/opt/conda/lib/python3.10/site-packages/keras/src/layers/core/dense.py:85: UserWarning: Do not pass an `input_shape`/`input_dim` argument to a layer. When using Sequential models, prefer using an `Input(shape)` object as the first layer in the model instead.\n",
      "  super().__init__(activity_regularizer=activity_regularizer, **kwargs)\n"
     ]
    },
    {
     "name": "stdout",
     "output_type": "stream",
     "text": [
      "{'csv_path': '/kaggle/input/ssssssss/dataset_small.csv', 'columns_of_interest': 15, 'epochs': 40, 'test_size': 0.4, 'accuracy_on_validation_data': 0.9181515900758803, 'accuracy_on_new_data': 76.36920384951881}\n"
     ]
    },
    {
     "name": "stderr",
     "output_type": "stream",
     "text": [
      "/opt/conda/lib/python3.10/site-packages/keras/src/layers/core/dense.py:85: UserWarning: Do not pass an `input_shape`/`input_dim` argument to a layer. When using Sequential models, prefer using an `Input(shape)` object as the first layer in the model instead.\n",
      "  super().__init__(activity_regularizer=activity_regularizer, **kwargs)\n"
     ]
    },
    {
     "name": "stdout",
     "output_type": "stream",
     "text": [
      "{'csv_path': '/kaggle/input/ssssssss/dataset_small.csv', 'columns_of_interest': 15, 'epochs': 40, 'test_size': 0.3, 'accuracy_on_validation_data': 0.917812890758213, 'accuracy_on_new_data': 74.33945756780402}\n"
     ]
    },
    {
     "name": "stderr",
     "output_type": "stream",
     "text": [
      "/opt/conda/lib/python3.10/site-packages/keras/src/layers/core/dense.py:85: UserWarning: Do not pass an `input_shape`/`input_dim` argument to a layer. When using Sequential models, prefer using an `Input(shape)` object as the first layer in the model instead.\n",
      "  super().__init__(activity_regularizer=activity_regularizer, **kwargs)\n"
     ]
    },
    {
     "name": "stdout",
     "output_type": "stream",
     "text": [
      "{'csv_path': '/kaggle/input/ssssssss/dataset_small.csv', 'columns_of_interest': 15, 'epochs': 40, 'test_size': 0.2, 'accuracy_on_validation_data': 0.9201125415636456, 'accuracy_on_new_data': 76.18547681539808}\n"
     ]
    },
    {
     "name": "stderr",
     "output_type": "stream",
     "text": [
      "/opt/conda/lib/python3.10/site-packages/keras/src/layers/core/dense.py:85: UserWarning: Do not pass an `input_shape`/`input_dim` argument to a layer. When using Sequential models, prefer using an `Input(shape)` object as the first layer in the model instead.\n",
      "  super().__init__(activity_regularizer=activity_regularizer, **kwargs)\n"
     ]
    },
    {
     "name": "stdout",
     "output_type": "stream",
     "text": [
      "{'csv_path': '/kaggle/input/ssssssss/dataset_small.csv', 'columns_of_interest': 15, 'epochs': 50, 'test_size': 0.5, 'accuracy_on_validation_data': 0.9208812195205129, 'accuracy_on_new_data': 75.31058617672791}\n"
     ]
    },
    {
     "name": "stderr",
     "output_type": "stream",
     "text": [
      "/opt/conda/lib/python3.10/site-packages/keras/src/layers/core/dense.py:85: UserWarning: Do not pass an `input_shape`/`input_dim` argument to a layer. When using Sequential models, prefer using an `Input(shape)` object as the first layer in the model instead.\n",
      "  super().__init__(activity_regularizer=activity_regularizer, **kwargs)\n"
     ]
    },
    {
     "name": "stdout",
     "output_type": "stream",
     "text": [
      "{'csv_path': '/kaggle/input/ssssssss/dataset_small.csv', 'columns_of_interest': 15, 'epochs': 50, 'test_size': 0.4, 'accuracy_on_validation_data': 0.9186205132577372, 'accuracy_on_new_data': 68.67016622922135}\n"
     ]
    },
    {
     "name": "stderr",
     "output_type": "stream",
     "text": [
      "/opt/conda/lib/python3.10/site-packages/keras/src/layers/core/dense.py:85: UserWarning: Do not pass an `input_shape`/`input_dim` argument to a layer. When using Sequential models, prefer using an `Input(shape)` object as the first layer in the model instead.\n",
      "  super().__init__(activity_regularizer=activity_regularizer, **kwargs)\n"
     ]
    },
    {
     "name": "stdout",
     "output_type": "stream",
     "text": [
      "{'csv_path': '/kaggle/input/ssssssss/dataset_small.csv', 'columns_of_interest': 15, 'epochs': 50, 'test_size': 0.3, 'accuracy_on_validation_data': 0.9254859611231101, 'accuracy_on_new_data': 75.66054243219598}\n"
     ]
    },
    {
     "name": "stderr",
     "output_type": "stream",
     "text": [
      "/opt/conda/lib/python3.10/site-packages/keras/src/layers/core/dense.py:85: UserWarning: Do not pass an `input_shape`/`input_dim` argument to a layer. When using Sequential models, prefer using an `Input(shape)` object as the first layer in the model instead.\n",
      "  super().__init__(activity_regularizer=activity_regularizer, **kwargs)\n"
     ]
    },
    {
     "name": "stdout",
     "output_type": "stream",
     "text": [
      "{'csv_path': '/kaggle/input/ssssssss/dataset_small.csv', 'columns_of_interest': 15, 'epochs': 50, 'test_size': 0.2, 'accuracy_on_validation_data': 0.9242902208201893, 'accuracy_on_new_data': 76.21172353455819}\n"
     ]
    },
    {
     "name": "stderr",
     "output_type": "stream",
     "text": [
      "/opt/conda/lib/python3.10/site-packages/keras/src/layers/core/dense.py:85: UserWarning: Do not pass an `input_shape`/`input_dim` argument to a layer. When using Sequential models, prefer using an `Input(shape)` object as the first layer in the model instead.\n",
      "  super().__init__(activity_regularizer=activity_regularizer, **kwargs)\n"
     ]
    },
    {
     "name": "stdout",
     "output_type": "stream",
     "text": [
      "{'csv_path': '/kaggle/input/ssssssss/dataset_small.csv', 'columns_of_interest': 16, 'epochs': 10, 'test_size': 0.5, 'accuracy_on_validation_data': 0.8941445281860655, 'accuracy_on_new_data': 72.23097112860893}\n"
     ]
    },
    {
     "name": "stderr",
     "output_type": "stream",
     "text": [
      "/opt/conda/lib/python3.10/site-packages/keras/src/layers/core/dense.py:85: UserWarning: Do not pass an `input_shape`/`input_dim` argument to a layer. When using Sequential models, prefer using an `Input(shape)` object as the first layer in the model instead.\n",
      "  super().__init__(activity_regularizer=activity_regularizer, **kwargs)\n"
     ]
    },
    {
     "name": "stdout",
     "output_type": "stream",
     "text": [
      "{'csv_path': '/kaggle/input/ssssssss/dataset_small.csv', 'columns_of_interest': 16, 'epochs': 10, 'test_size': 0.4, 'accuracy_on_validation_data': 0.9036149714383153, 'accuracy_on_new_data': 73.32458442694663}\n"
     ]
    },
    {
     "name": "stderr",
     "output_type": "stream",
     "text": [
      "/opt/conda/lib/python3.10/site-packages/keras/src/layers/core/dense.py:85: UserWarning: Do not pass an `input_shape`/`input_dim` argument to a layer. When using Sequential models, prefer using an `Input(shape)` object as the first layer in the model instead.\n",
      "  super().__init__(activity_regularizer=activity_regularizer, **kwargs)\n"
     ]
    },
    {
     "name": "stdout",
     "output_type": "stream",
     "text": [
      "{'csv_path': '/kaggle/input/ssssssss/dataset_small.csv', 'columns_of_interest': 16, 'epochs': 10, 'test_size': 0.3, 'accuracy_on_validation_data': 0.898601796066841, 'accuracy_on_new_data': 72.79965004374453}\n"
     ]
    },
    {
     "name": "stderr",
     "output_type": "stream",
     "text": [
      "/opt/conda/lib/python3.10/site-packages/keras/src/layers/core/dense.py:85: UserWarning: Do not pass an `input_shape`/`input_dim` argument to a layer. When using Sequential models, prefer using an `Input(shape)` object as the first layer in the model instead.\n",
      "  super().__init__(activity_regularizer=activity_regularizer, **kwargs)\n"
     ]
    },
    {
     "name": "stdout",
     "output_type": "stream",
     "text": [
      "{'csv_path': '/kaggle/input/ssssssss/dataset_small.csv', 'columns_of_interest': 16, 'epochs': 10, 'test_size': 0.2, 'accuracy_on_validation_data': 0.9033165657771336, 'accuracy_on_new_data': 74.2869641294838}\n"
     ]
    },
    {
     "name": "stderr",
     "output_type": "stream",
     "text": [
      "/opt/conda/lib/python3.10/site-packages/keras/src/layers/core/dense.py:85: UserWarning: Do not pass an `input_shape`/`input_dim` argument to a layer. When using Sequential models, prefer using an `Input(shape)` object as the first layer in the model instead.\n",
      "  super().__init__(activity_regularizer=activity_regularizer, **kwargs)\n"
     ]
    },
    {
     "name": "stdout",
     "output_type": "stream",
     "text": [
      "{'csv_path': '/kaggle/input/ssssssss/dataset_small.csv', 'columns_of_interest': 16, 'epochs': 20, 'test_size': 0.5, 'accuracy_on_validation_data': 0.9049892575793745, 'accuracy_on_new_data': 73.81452318460192}\n"
     ]
    },
    {
     "name": "stderr",
     "output_type": "stream",
     "text": [
      "/opt/conda/lib/python3.10/site-packages/keras/src/layers/core/dense.py:85: UserWarning: Do not pass an `input_shape`/`input_dim` argument to a layer. When using Sequential models, prefer using an `Input(shape)` object as the first layer in the model instead.\n",
      "  super().__init__(activity_regularizer=activity_regularizer, **kwargs)\n"
     ]
    },
    {
     "name": "stdout",
     "output_type": "stream",
     "text": [
      "{'csv_path': '/kaggle/input/ssssssss/dataset_small.csv', 'columns_of_interest': 16, 'epochs': 20, 'test_size': 0.4, 'accuracy_on_validation_data': 0.9103930428851564, 'accuracy_on_new_data': 76.08923884514437}\n"
     ]
    },
    {
     "name": "stderr",
     "output_type": "stream",
     "text": [
      "/opt/conda/lib/python3.10/site-packages/keras/src/layers/core/dense.py:85: UserWarning: Do not pass an `input_shape`/`input_dim` argument to a layer. When using Sequential models, prefer using an `Input(shape)` object as the first layer in the model instead.\n",
      "  super().__init__(activity_regularizer=activity_regularizer, **kwargs)\n"
     ]
    },
    {
     "name": "stdout",
     "output_type": "stream",
     "text": [
      "{'csv_path': '/kaggle/input/ssssssss/dataset_small.csv', 'columns_of_interest': 16, 'epochs': 20, 'test_size': 0.3, 'accuracy_on_validation_data': 0.9100261452767989, 'accuracy_on_new_data': 75.7217847769029}\n"
     ]
    },
    {
     "name": "stderr",
     "output_type": "stream",
     "text": [
      "/opt/conda/lib/python3.10/site-packages/keras/src/layers/core/dense.py:85: UserWarning: Do not pass an `input_shape`/`input_dim` argument to a layer. When using Sequential models, prefer using an `Input(shape)` object as the first layer in the model instead.\n",
      "  super().__init__(activity_regularizer=activity_regularizer, **kwargs)\n"
     ]
    },
    {
     "name": "stdout",
     "output_type": "stream",
     "text": [
      "{'csv_path': '/kaggle/input/ssssssss/dataset_small.csv', 'columns_of_interest': 16, 'epochs': 20, 'test_size': 0.2, 'accuracy_on_validation_data': 0.9132918407366357, 'accuracy_on_new_data': 76.07174103237095}\n"
     ]
    },
    {
     "name": "stderr",
     "output_type": "stream",
     "text": [
      "/opt/conda/lib/python3.10/site-packages/keras/src/layers/core/dense.py:85: UserWarning: Do not pass an `input_shape`/`input_dim` argument to a layer. When using Sequential models, prefer using an `Input(shape)` object as the first layer in the model instead.\n",
      "  super().__init__(activity_regularizer=activity_regularizer, **kwargs)\n"
     ]
    },
    {
     "name": "stdout",
     "output_type": "stream",
     "text": [
      "{'csv_path': '/kaggle/input/ssssssss/dataset_small.csv', 'columns_of_interest': 16, 'epochs': 30, 'test_size': 0.5, 'accuracy_on_validation_data': 0.9144698700678648, 'accuracy_on_new_data': 76.99912510936133}\n"
     ]
    },
    {
     "name": "stderr",
     "output_type": "stream",
     "text": [
      "/opt/conda/lib/python3.10/site-packages/keras/src/layers/core/dense.py:85: UserWarning: Do not pass an `input_shape`/`input_dim` argument to a layer. When using Sequential models, prefer using an `Input(shape)` object as the first layer in the model instead.\n",
      "  super().__init__(activity_regularizer=activity_regularizer, **kwargs)\n"
     ]
    },
    {
     "name": "stdout",
     "output_type": "stream",
     "text": [
      "{'csv_path': '/kaggle/input/ssssssss/dataset_small.csv', 'columns_of_interest': 16, 'epochs': 30, 'test_size': 0.4, 'accuracy_on_validation_data': 0.9210930173075284, 'accuracy_on_new_data': 74.32195975503062}\n"
     ]
    },
    {
     "name": "stderr",
     "output_type": "stream",
     "text": [
      "/opt/conda/lib/python3.10/site-packages/keras/src/layers/core/dense.py:85: UserWarning: Do not pass an `input_shape`/`input_dim` argument to a layer. When using Sequential models, prefer using an `Input(shape)` object as the first layer in the model instead.\n",
      "  super().__init__(activity_regularizer=activity_regularizer, **kwargs)\n"
     ]
    },
    {
     "name": "stdout",
     "output_type": "stream",
     "text": [
      "{'csv_path': '/kaggle/input/ssssssss/dataset_small.csv', 'columns_of_interest': 16, 'epochs': 30, 'test_size': 0.3, 'accuracy_on_validation_data': 0.9208821189041719, 'accuracy_on_new_data': 75.69553805774278}\n"
     ]
    },
    {
     "name": "stderr",
     "output_type": "stream",
     "text": [
      "/opt/conda/lib/python3.10/site-packages/keras/src/layers/core/dense.py:85: UserWarning: Do not pass an `input_shape`/`input_dim` argument to a layer. When using Sequential models, prefer using an `Input(shape)` object as the first layer in the model instead.\n",
      "  super().__init__(activity_regularizer=activity_regularizer, **kwargs)\n"
     ]
    },
    {
     "name": "stdout",
     "output_type": "stream",
     "text": [
      "{'csv_path': '/kaggle/input/ssssssss/dataset_small.csv', 'columns_of_interest': 16, 'epochs': 30, 'test_size': 0.2, 'accuracy_on_validation_data': 0.9197715065222951, 'accuracy_on_new_data': 73.78827646544181}\n"
     ]
    },
    {
     "name": "stderr",
     "output_type": "stream",
     "text": [
      "/opt/conda/lib/python3.10/site-packages/keras/src/layers/core/dense.py:85: UserWarning: Do not pass an `input_shape`/`input_dim` argument to a layer. When using Sequential models, prefer using an `Input(shape)` object as the first layer in the model instead.\n",
      "  super().__init__(activity_regularizer=activity_regularizer, **kwargs)\n"
     ]
    },
    {
     "name": "stdout",
     "output_type": "stream",
     "text": [
      "{'csv_path': '/kaggle/input/ssssssss/dataset_small.csv', 'columns_of_interest': 16, 'epochs': 40, 'test_size': 0.5, 'accuracy_on_validation_data': 0.9192442792347304, 'accuracy_on_new_data': 73.02712160979877}\n"
     ]
    },
    {
     "name": "stderr",
     "output_type": "stream",
     "text": [
      "/opt/conda/lib/python3.10/site-packages/keras/src/layers/core/dense.py:85: UserWarning: Do not pass an `input_shape`/`input_dim` argument to a layer. When using Sequential models, prefer using an `Input(shape)` object as the first layer in the model instead.\n",
      "  super().__init__(activity_regularizer=activity_regularizer, **kwargs)\n"
     ]
    },
    {
     "name": "stdout",
     "output_type": "stream",
     "text": [
      "{'csv_path': '/kaggle/input/ssssssss/dataset_small.csv', 'columns_of_interest': 16, 'epochs': 40, 'test_size': 0.4, 'accuracy_on_validation_data': 0.924332850200358, 'accuracy_on_new_data': 74.79440069991252}\n"
     ]
    },
    {
     "name": "stderr",
     "output_type": "stream",
     "text": [
      "/opt/conda/lib/python3.10/site-packages/keras/src/layers/core/dense.py:85: UserWarning: Do not pass an `input_shape`/`input_dim` argument to a layer. When using Sequential models, prefer using an `Input(shape)` object as the first layer in the model instead.\n",
      "  super().__init__(activity_regularizer=activity_regularizer, **kwargs)\n"
     ]
    },
    {
     "name": "stdout",
     "output_type": "stream",
     "text": [
      "{'csv_path': '/kaggle/input/ssssssss/dataset_small.csv', 'columns_of_interest': 16, 'epochs': 40, 'test_size': 0.3, 'accuracy_on_validation_data': 0.9219051949528249, 'accuracy_on_new_data': 74.69816272965879}\n"
     ]
    },
    {
     "name": "stderr",
     "output_type": "stream",
     "text": [
      "/opt/conda/lib/python3.10/site-packages/keras/src/layers/core/dense.py:85: UserWarning: Do not pass an `input_shape`/`input_dim` argument to a layer. When using Sequential models, prefer using an `Input(shape)` object as the first layer in the model instead.\n",
      "  super().__init__(activity_regularizer=activity_regularizer, **kwargs)\n"
     ]
    },
    {
     "name": "stdout",
     "output_type": "stream",
     "text": [
      "{'csv_path': '/kaggle/input/ssssssss/dataset_small.csv', 'columns_of_interest': 16, 'epochs': 40, 'test_size': 0.2, 'accuracy_on_validation_data': 0.9201978003239832, 'accuracy_on_new_data': 74.29571303587052}\n"
     ]
    },
    {
     "name": "stderr",
     "output_type": "stream",
     "text": [
      "/opt/conda/lib/python3.10/site-packages/keras/src/layers/core/dense.py:85: UserWarning: Do not pass an `input_shape`/`input_dim` argument to a layer. When using Sequential models, prefer using an `Input(shape)` object as the first layer in the model instead.\n",
      "  super().__init__(activity_regularizer=activity_regularizer, **kwargs)\n"
     ]
    },
    {
     "name": "stdout",
     "output_type": "stream",
     "text": [
      "{'csv_path': '/kaggle/input/ssssssss/dataset_small.csv', 'columns_of_interest': 16, 'epochs': 50, 'test_size': 0.5, 'accuracy_on_validation_data': 0.9257920403778603, 'accuracy_on_new_data': 72.23097112860893}\n"
     ]
    },
    {
     "name": "stderr",
     "output_type": "stream",
     "text": [
      "/opt/conda/lib/python3.10/site-packages/keras/src/layers/core/dense.py:85: UserWarning: Do not pass an `input_shape`/`input_dim` argument to a layer. When using Sequential models, prefer using an `Input(shape)` object as the first layer in the model instead.\n",
      "  super().__init__(activity_regularizer=activity_regularizer, **kwargs)\n"
     ]
    },
    {
     "name": "stdout",
     "output_type": "stream",
     "text": [
      "{'csv_path': '/kaggle/input/ssssssss/dataset_small.csv', 'columns_of_interest': 16, 'epochs': 50, 'test_size': 0.4, 'accuracy_on_validation_data': 0.9197288771421264, 'accuracy_on_new_data': 74.96937882764655}\n"
     ]
    },
    {
     "name": "stderr",
     "output_type": "stream",
     "text": [
      "/opt/conda/lib/python3.10/site-packages/keras/src/layers/core/dense.py:85: UserWarning: Do not pass an `input_shape`/`input_dim` argument to a layer. When using Sequential models, prefer using an `Input(shape)` object as the first layer in the model instead.\n",
      "  super().__init__(activity_regularizer=activity_regularizer, **kwargs)\n"
     ]
    },
    {
     "name": "stdout",
     "output_type": "stream",
     "text": [
      "{'csv_path': '/kaggle/input/ssssssss/dataset_small.csv', 'columns_of_interest': 16, 'epochs': 50, 'test_size': 0.3, 'accuracy_on_validation_data': 0.9252586108900762, 'accuracy_on_new_data': 75.87051618547682}\n"
     ]
    },
    {
     "name": "stderr",
     "output_type": "stream",
     "text": [
      "/opt/conda/lib/python3.10/site-packages/keras/src/layers/core/dense.py:85: UserWarning: Do not pass an `input_shape`/`input_dim` argument to a layer. When using Sequential models, prefer using an `Input(shape)` object as the first layer in the model instead.\n",
      "  super().__init__(activity_regularizer=activity_regularizer, **kwargs)\n"
     ]
    },
    {
     "name": "stdout",
     "output_type": "stream",
     "text": [
      "{'csv_path': '/kaggle/input/ssssssss/dataset_small.csv', 'columns_of_interest': 16, 'epochs': 50, 'test_size': 0.2, 'accuracy_on_validation_data': 0.9221587518117487, 'accuracy_on_new_data': 77.00787401574803}\n"
     ]
    },
    {
     "name": "stderr",
     "output_type": "stream",
     "text": [
      "/opt/conda/lib/python3.10/site-packages/keras/src/layers/core/dense.py:85: UserWarning: Do not pass an `input_shape`/`input_dim` argument to a layer. When using Sequential models, prefer using an `Input(shape)` object as the first layer in the model instead.\n",
      "  super().__init__(activity_regularizer=activity_regularizer, **kwargs)\n"
     ]
    },
    {
     "name": "stdout",
     "output_type": "stream",
     "text": [
      "{'csv_path': '/kaggle/input/ssssssss/dataset_small.csv', 'columns_of_interest': 17, 'epochs': 10, 'test_size': 0.5, 'accuracy_on_validation_data': 0.8933260580431743, 'accuracy_on_new_data': 73.1058617672791}\n"
     ]
    },
    {
     "name": "stderr",
     "output_type": "stream",
     "text": [
      "/opt/conda/lib/python3.10/site-packages/keras/src/layers/core/dense.py:85: UserWarning: Do not pass an `input_shape`/`input_dim` argument to a layer. When using Sequential models, prefer using an `Input(shape)` object as the first layer in the model instead.\n",
      "  super().__init__(activity_regularizer=activity_regularizer, **kwargs)\n"
     ]
    },
    {
     "name": "stdout",
     "output_type": "stream",
     "text": [
      "{'csv_path': '/kaggle/input/ssssssss/dataset_small.csv', 'columns_of_interest': 17, 'epochs': 10, 'test_size': 0.4, 'accuracy_on_validation_data': 0.9002046210248102, 'accuracy_on_new_data': 72.98337707786527}\n"
     ]
    },
    {
     "name": "stderr",
     "output_type": "stream",
     "text": [
      "/opt/conda/lib/python3.10/site-packages/keras/src/layers/core/dense.py:85: UserWarning: Do not pass an `input_shape`/`input_dim` argument to a layer. When using Sequential models, prefer using an `Input(shape)` object as the first layer in the model instead.\n",
      "  super().__init__(activity_regularizer=activity_regularizer, **kwargs)\n"
     ]
    },
    {
     "name": "stdout",
     "output_type": "stream",
     "text": [
      "{'csv_path': '/kaggle/input/ssssssss/dataset_small.csv', 'columns_of_interest': 17, 'epochs': 10, 'test_size': 0.3, 'accuracy_on_validation_data': 0.9021825622371263, 'accuracy_on_new_data': 73.44706911636045}\n"
     ]
    },
    {
     "name": "stderr",
     "output_type": "stream",
     "text": [
      "/opt/conda/lib/python3.10/site-packages/keras/src/layers/core/dense.py:85: UserWarning: Do not pass an `input_shape`/`input_dim` argument to a layer. When using Sequential models, prefer using an `Input(shape)` object as the first layer in the model instead.\n",
      "  super().__init__(activity_regularizer=activity_regularizer, **kwargs)\n"
     ]
    },
    {
     "name": "stdout",
     "output_type": "stream",
     "text": [
      "{'csv_path': '/kaggle/input/ssssssss/dataset_small.csv', 'columns_of_interest': 17, 'epochs': 10, 'test_size': 0.2, 'accuracy_on_validation_data': 0.9014408730497059, 'accuracy_on_new_data': 72.92213473315834}\n"
     ]
    },
    {
     "name": "stderr",
     "output_type": "stream",
     "text": [
      "/opt/conda/lib/python3.10/site-packages/keras/src/layers/core/dense.py:85: UserWarning: Do not pass an `input_shape`/`input_dim` argument to a layer. When using Sequential models, prefer using an `Input(shape)` object as the first layer in the model instead.\n",
      "  super().__init__(activity_regularizer=activity_regularizer, **kwargs)\n"
     ]
    },
    {
     "name": "stdout",
     "output_type": "stream",
     "text": [
      "{'csv_path': '/kaggle/input/ssssssss/dataset_small.csv', 'columns_of_interest': 17, 'epochs': 20, 'test_size': 0.5, 'accuracy_on_validation_data': 0.906694403710398, 'accuracy_on_new_data': 74.89063867016623}\n"
     ]
    },
    {
     "name": "stderr",
     "output_type": "stream",
     "text": [
      "/opt/conda/lib/python3.10/site-packages/keras/src/layers/core/dense.py:85: UserWarning: Do not pass an `input_shape`/`input_dim` argument to a layer. When using Sequential models, prefer using an `Input(shape)` object as the first layer in the model instead.\n",
      "  super().__init__(activity_regularizer=activity_regularizer, **kwargs)\n"
     ]
    },
    {
     "name": "stdout",
     "output_type": "stream",
     "text": [
      "{'csv_path': '/kaggle/input/ssssssss/dataset_small.csv', 'columns_of_interest': 17, 'epochs': 20, 'test_size': 0.4, 'accuracy_on_validation_data': 0.9093273083809361, 'accuracy_on_new_data': 72.30971128608924}\n"
     ]
    },
    {
     "name": "stderr",
     "output_type": "stream",
     "text": [
      "/opt/conda/lib/python3.10/site-packages/keras/src/layers/core/dense.py:85: UserWarning: Do not pass an `input_shape`/`input_dim` argument to a layer. When using Sequential models, prefer using an `Input(shape)` object as the first layer in the model instead.\n",
      "  super().__init__(activity_regularizer=activity_regularizer, **kwargs)\n"
     ]
    },
    {
     "name": "stdout",
     "output_type": "stream",
     "text": [
      "{'csv_path': '/kaggle/input/ssssssss/dataset_small.csv', 'columns_of_interest': 17, 'epochs': 20, 'test_size': 0.3, 'accuracy_on_validation_data': 0.9097987950437649, 'accuracy_on_new_data': 76.74540682414698}\n"
     ]
    },
    {
     "name": "stderr",
     "output_type": "stream",
     "text": [
      "/opt/conda/lib/python3.10/site-packages/keras/src/layers/core/dense.py:85: UserWarning: Do not pass an `input_shape`/`input_dim` argument to a layer. When using Sequential models, prefer using an `Input(shape)` object as the first layer in the model instead.\n",
      "  super().__init__(activity_regularizer=activity_regularizer, **kwargs)\n"
     ]
    },
    {
     "name": "stdout",
     "output_type": "stream",
     "text": [
      "{'csv_path': '/kaggle/input/ssssssss/dataset_small.csv', 'columns_of_interest': 17, 'epochs': 20, 'test_size': 0.2, 'accuracy_on_validation_data': 0.9112456304885327, 'accuracy_on_new_data': 74.05949256342957}\n"
     ]
    },
    {
     "name": "stderr",
     "output_type": "stream",
     "text": [
      "/opt/conda/lib/python3.10/site-packages/keras/src/layers/core/dense.py:85: UserWarning: Do not pass an `input_shape`/`input_dim` argument to a layer. When using Sequential models, prefer using an `Input(shape)` object as the first layer in the model instead.\n",
      "  super().__init__(activity_regularizer=activity_regularizer, **kwargs)\n"
     ]
    },
    {
     "name": "stdout",
     "output_type": "stream",
     "text": [
      "{'csv_path': '/kaggle/input/ssssssss/dataset_small.csv', 'columns_of_interest': 17, 'epochs': 30, 'test_size': 0.5, 'accuracy_on_validation_data': 0.9133444736213894, 'accuracy_on_new_data': 77.79527559055119}\n"
     ]
    },
    {
     "name": "stderr",
     "output_type": "stream",
     "text": [
      "/opt/conda/lib/python3.10/site-packages/keras/src/layers/core/dense.py:85: UserWarning: Do not pass an `input_shape`/`input_dim` argument to a layer. When using Sequential models, prefer using an `Input(shape)` object as the first layer in the model instead.\n",
      "  super().__init__(activity_regularizer=activity_regularizer, **kwargs)\n"
     ]
    },
    {
     "name": "stdout",
     "output_type": "stream",
     "text": [
      "{'csv_path': '/kaggle/input/ssssssss/dataset_small.csv', 'columns_of_interest': 17, 'epochs': 30, 'test_size': 0.4, 'accuracy_on_validation_data': 0.9191746951999318, 'accuracy_on_new_data': 75.13560804899387}\n"
     ]
    },
    {
     "name": "stderr",
     "output_type": "stream",
     "text": [
      "/opt/conda/lib/python3.10/site-packages/keras/src/layers/core/dense.py:85: UserWarning: Do not pass an `input_shape`/`input_dim` argument to a layer. When using Sequential models, prefer using an `Input(shape)` object as the first layer in the model instead.\n",
      "  super().__init__(activity_regularizer=activity_regularizer, **kwargs)\n"
     ]
    },
    {
     "name": "stdout",
     "output_type": "stream",
     "text": [
      "{'csv_path': '/kaggle/input/ssssssss/dataset_small.csv', 'columns_of_interest': 17, 'epochs': 30, 'test_size': 0.3, 'accuracy_on_validation_data': 0.9156530635443901, 'accuracy_on_new_data': 76.64041994750657}\n"
     ]
    },
    {
     "name": "stderr",
     "output_type": "stream",
     "text": [
      "/opt/conda/lib/python3.10/site-packages/keras/src/layers/core/dense.py:85: UserWarning: Do not pass an `input_shape`/`input_dim` argument to a layer. When using Sequential models, prefer using an `Input(shape)` object as the first layer in the model instead.\n",
      "  super().__init__(activity_regularizer=activity_regularizer, **kwargs)\n"
     ]
    },
    {
     "name": "stdout",
     "output_type": "stream",
     "text": [
      "{'csv_path': '/kaggle/input/ssssssss/dataset_small.csv', 'columns_of_interest': 17, 'epochs': 30, 'test_size': 0.2, 'accuracy_on_validation_data': 0.9156790860260892, 'accuracy_on_new_data': 75.39807524059493}\n"
     ]
    },
    {
     "name": "stderr",
     "output_type": "stream",
     "text": [
      "/opt/conda/lib/python3.10/site-packages/keras/src/layers/core/dense.py:85: UserWarning: Do not pass an `input_shape`/`input_dim` argument to a layer. When using Sequential models, prefer using an `Input(shape)` object as the first layer in the model instead.\n",
      "  super().__init__(activity_regularizer=activity_regularizer, **kwargs)\n"
     ]
    },
    {
     "name": "stdout",
     "output_type": "stream",
     "text": [
      "{'csv_path': '/kaggle/input/ssssssss/dataset_small.csv', 'columns_of_interest': 17, 'epochs': 40, 'test_size': 0.5, 'accuracy_on_validation_data': 0.9132080619309075, 'accuracy_on_new_data': 77.98775153105862}\n"
     ]
    },
    {
     "name": "stderr",
     "output_type": "stream",
     "text": [
      "/opt/conda/lib/python3.10/site-packages/keras/src/layers/core/dense.py:85: UserWarning: Do not pass an `input_shape`/`input_dim` argument to a layer. When using Sequential models, prefer using an `Input(shape)` object as the first layer in the model instead.\n",
      "  super().__init__(activity_regularizer=activity_regularizer, **kwargs)\n"
     ]
    },
    {
     "name": "stdout",
     "output_type": "stream",
     "text": [
      "{'csv_path': '/kaggle/input/ssssssss/dataset_small.csv', 'columns_of_interest': 17, 'epochs': 40, 'test_size': 0.4, 'accuracy_on_validation_data': 0.9246312558615398, 'accuracy_on_new_data': 74.53193350831147}\n"
     ]
    },
    {
     "name": "stderr",
     "output_type": "stream",
     "text": [
      "/opt/conda/lib/python3.10/site-packages/keras/src/layers/core/dense.py:85: UserWarning: Do not pass an `input_shape`/`input_dim` argument to a layer. When using Sequential models, prefer using an `Input(shape)` object as the first layer in the model instead.\n",
      "  super().__init__(activity_regularizer=activity_regularizer, **kwargs)\n"
     ]
    },
    {
     "name": "stdout",
     "output_type": "stream",
     "text": [
      "{'csv_path': '/kaggle/input/ssssssss/dataset_small.csv', 'columns_of_interest': 17, 'epochs': 40, 'test_size': 0.3, 'accuracy_on_validation_data': 0.9199158804137775, 'accuracy_on_new_data': 76.66666666666667}\n"
     ]
    },
    {
     "name": "stderr",
     "output_type": "stream",
     "text": [
      "/opt/conda/lib/python3.10/site-packages/keras/src/layers/core/dense.py:85: UserWarning: Do not pass an `input_shape`/`input_dim` argument to a layer. When using Sequential models, prefer using an `Input(shape)` object as the first layer in the model instead.\n",
      "  super().__init__(activity_regularizer=activity_regularizer, **kwargs)\n"
     ]
    },
    {
     "name": "stdout",
     "output_type": "stream",
     "text": [
      "{'csv_path': '/kaggle/input/ssssssss/dataset_small.csv', 'columns_of_interest': 17, 'epochs': 40, 'test_size': 0.2, 'accuracy_on_validation_data': 0.9242902208201893, 'accuracy_on_new_data': 74.16447944006998}\n"
     ]
    },
    {
     "name": "stderr",
     "output_type": "stream",
     "text": [
      "/opt/conda/lib/python3.10/site-packages/keras/src/layers/core/dense.py:85: UserWarning: Do not pass an `input_shape`/`input_dim` argument to a layer. When using Sequential models, prefer using an `Input(shape)` object as the first layer in the model instead.\n",
      "  super().__init__(activity_regularizer=activity_regularizer, **kwargs)\n"
     ]
    },
    {
     "name": "stdout",
     "output_type": "stream",
     "text": [
      "{'csv_path': '/kaggle/input/ssssssss/dataset_small.csv', 'columns_of_interest': 17, 'epochs': 50, 'test_size': 0.5, 'accuracy_on_validation_data': 0.9204037786038264, 'accuracy_on_new_data': 75.7305336832896}\n"
     ]
    },
    {
     "name": "stderr",
     "output_type": "stream",
     "text": [
      "/opt/conda/lib/python3.10/site-packages/keras/src/layers/core/dense.py:85: UserWarning: Do not pass an `input_shape`/`input_dim` argument to a layer. When using Sequential models, prefer using an `Input(shape)` object as the first layer in the model instead.\n",
      "  super().__init__(activity_regularizer=activity_regularizer, **kwargs)\n"
     ]
    },
    {
     "name": "stdout",
     "output_type": "stream",
     "text": [
      "{'csv_path': '/kaggle/input/ssssssss/dataset_small.csv', 'columns_of_interest': 17, 'epochs': 50, 'test_size': 0.4, 'accuracy_on_validation_data': 0.9194731008611134, 'accuracy_on_new_data': 70.84864391951005}\n"
     ]
    },
    {
     "name": "stderr",
     "output_type": "stream",
     "text": [
      "/opt/conda/lib/python3.10/site-packages/keras/src/layers/core/dense.py:85: UserWarning: Do not pass an `input_shape`/`input_dim` argument to a layer. When using Sequential models, prefer using an `Input(shape)` object as the first layer in the model instead.\n",
      "  super().__init__(activity_regularizer=activity_regularizer, **kwargs)\n"
     ]
    },
    {
     "name": "stdout",
     "output_type": "stream",
     "text": [
      "{'csv_path': '/kaggle/input/ssssssss/dataset_small.csv', 'columns_of_interest': 17, 'epochs': 50, 'test_size': 0.3, 'accuracy_on_validation_data': 0.9264521996135046, 'accuracy_on_new_data': 74.53193350831147}\n"
     ]
    },
    {
     "name": "stderr",
     "output_type": "stream",
     "text": [
      "/opt/conda/lib/python3.10/site-packages/keras/src/layers/core/dense.py:85: UserWarning: Do not pass an `input_shape`/`input_dim` argument to a layer. When using Sequential models, prefer using an `Input(shape)` object as the first layer in the model instead.\n",
      "  super().__init__(activity_regularizer=activity_regularizer, **kwargs)\n"
     ]
    },
    {
     "name": "stdout",
     "output_type": "stream",
     "text": [
      "{'csv_path': '/kaggle/input/ssssssss/dataset_small.csv', 'columns_of_interest': 17, 'epochs': 50, 'test_size': 0.2, 'accuracy_on_validation_data': 0.9242902208201893, 'accuracy_on_new_data': 74.09448818897638}\n"
     ]
    },
    {
     "name": "stderr",
     "output_type": "stream",
     "text": [
      "/opt/conda/lib/python3.10/site-packages/keras/src/layers/core/dense.py:85: UserWarning: Do not pass an `input_shape`/`input_dim` argument to a layer. When using Sequential models, prefer using an `Input(shape)` object as the first layer in the model instead.\n",
      "  super().__init__(activity_regularizer=activity_regularizer, **kwargs)\n"
     ]
    },
    {
     "name": "stdout",
     "output_type": "stream",
     "text": [
      "{'csv_path': '/kaggle/input/ssssssss/dataset_small.csv', 'columns_of_interest': 18, 'epochs': 10, 'test_size': 0.5, 'accuracy_on_validation_data': 0.889745251168025, 'accuracy_on_new_data': 71.61854768153981}\n"
     ]
    },
    {
     "name": "stderr",
     "output_type": "stream",
     "text": [
      "/opt/conda/lib/python3.10/site-packages/keras/src/layers/core/dense.py:85: UserWarning: Do not pass an `input_shape`/`input_dim` argument to a layer. When using Sequential models, prefer using an `Input(shape)` object as the first layer in the model instead.\n",
      "  super().__init__(activity_regularizer=activity_regularizer, **kwargs)\n"
     ]
    },
    {
     "name": "stdout",
     "output_type": "stream",
     "text": [
      "{'csv_path': '/kaggle/input/ssssssss/dataset_small.csv', 'columns_of_interest': 18, 'epochs': 10, 'test_size': 0.4, 'accuracy_on_validation_data': 0.8990536277602523, 'accuracy_on_new_data': 76.37795275590551}\n"
     ]
    },
    {
     "name": "stderr",
     "output_type": "stream",
     "text": [
      "/opt/conda/lib/python3.10/site-packages/keras/src/layers/core/dense.py:85: UserWarning: Do not pass an `input_shape`/`input_dim` argument to a layer. When using Sequential models, prefer using an `Input(shape)` object as the first layer in the model instead.\n",
      "  super().__init__(activity_regularizer=activity_regularizer, **kwargs)\n"
     ]
    },
    {
     "name": "stdout",
     "output_type": "stream",
     "text": [
      "{'csv_path': '/kaggle/input/ssssssss/dataset_small.csv', 'columns_of_interest': 18, 'epochs': 10, 'test_size': 0.3, 'accuracy_on_validation_data': 0.9034898260770717, 'accuracy_on_new_data': 75.97550306211723}\n"
     ]
    },
    {
     "name": "stderr",
     "output_type": "stream",
     "text": [
      "/opt/conda/lib/python3.10/site-packages/keras/src/layers/core/dense.py:85: UserWarning: Do not pass an `input_shape`/`input_dim` argument to a layer. When using Sequential models, prefer using an `Input(shape)` object as the first layer in the model instead.\n",
      "  super().__init__(activity_regularizer=activity_regularizer, **kwargs)\n"
     ]
    },
    {
     "name": "stdout",
     "output_type": "stream",
     "text": [
      "{'csv_path': '/kaggle/input/ssssssss/dataset_small.csv', 'columns_of_interest': 18, 'epochs': 10, 'test_size': 0.2, 'accuracy_on_validation_data': 0.8972631937931622, 'accuracy_on_new_data': 75.95800524934383}\n"
     ]
    },
    {
     "name": "stderr",
     "output_type": "stream",
     "text": [
      "/opt/conda/lib/python3.10/site-packages/keras/src/layers/core/dense.py:85: UserWarning: Do not pass an `input_shape`/`input_dim` argument to a layer. When using Sequential models, prefer using an `Input(shape)` object as the first layer in the model instead.\n",
      "  super().__init__(activity_regularizer=activity_regularizer, **kwargs)\n"
     ]
    },
    {
     "name": "stdout",
     "output_type": "stream",
     "text": [
      "{'csv_path': '/kaggle/input/ssssssss/dataset_small.csv', 'columns_of_interest': 18, 'epochs': 20, 'test_size': 0.5, 'accuracy_on_validation_data': 0.9069672270913617, 'accuracy_on_new_data': 74.1557305336833}\n"
     ]
    },
    {
     "name": "stderr",
     "output_type": "stream",
     "text": [
      "/opt/conda/lib/python3.10/site-packages/keras/src/layers/core/dense.py:85: UserWarning: Do not pass an `input_shape`/`input_dim` argument to a layer. When using Sequential models, prefer using an `Input(shape)` object as the first layer in the model instead.\n",
      "  super().__init__(activity_regularizer=activity_regularizer, **kwargs)\n"
     ]
    },
    {
     "name": "stdout",
     "output_type": "stream",
     "text": [
      "{'csv_path': '/kaggle/input/ssssssss/dataset_small.csv', 'columns_of_interest': 18, 'epochs': 20, 'test_size': 0.4, 'accuracy_on_validation_data': 0.9111177423480262, 'accuracy_on_new_data': 78.02274715660542}\n"
     ]
    },
    {
     "name": "stderr",
     "output_type": "stream",
     "text": [
      "/opt/conda/lib/python3.10/site-packages/keras/src/layers/core/dense.py:85: UserWarning: Do not pass an `input_shape`/`input_dim` argument to a layer. When using Sequential models, prefer using an `Input(shape)` object as the first layer in the model instead.\n",
      "  super().__init__(activity_regularizer=activity_regularizer, **kwargs)\n"
     ]
    },
    {
     "name": "stdout",
     "output_type": "stream",
     "text": [
      "{'csv_path': '/kaggle/input/ssssssss/dataset_small.csv', 'columns_of_interest': 18, 'epochs': 20, 'test_size': 0.3, 'accuracy_on_validation_data': 0.9075821302716836, 'accuracy_on_new_data': 74.36570428696413}\n"
     ]
    },
    {
     "name": "stderr",
     "output_type": "stream",
     "text": [
      "/opt/conda/lib/python3.10/site-packages/keras/src/layers/core/dense.py:85: UserWarning: Do not pass an `input_shape`/`input_dim` argument to a layer. When using Sequential models, prefer using an `Input(shape)` object as the first layer in the model instead.\n",
      "  super().__init__(activity_regularizer=activity_regularizer, **kwargs)\n"
     ]
    },
    {
     "name": "stdout",
     "output_type": "stream",
     "text": [
      "{'csv_path': '/kaggle/input/ssssssss/dataset_small.csv', 'columns_of_interest': 18, 'epochs': 20, 'test_size': 0.2, 'accuracy_on_validation_data': 0.906641657430301, 'accuracy_on_new_data': 76.60542432195976}\n"
     ]
    },
    {
     "name": "stderr",
     "output_type": "stream",
     "text": [
      "/opt/conda/lib/python3.10/site-packages/keras/src/layers/core/dense.py:85: UserWarning: Do not pass an `input_shape`/`input_dim` argument to a layer. When using Sequential models, prefer using an `Input(shape)` object as the first layer in the model instead.\n",
      "  super().__init__(activity_regularizer=activity_regularizer, **kwargs)\n"
     ]
    },
    {
     "name": "stdout",
     "output_type": "stream",
     "text": [
      "{'csv_path': '/kaggle/input/ssssssss/dataset_small.csv', 'columns_of_interest': 18, 'epochs': 30, 'test_size': 0.5, 'accuracy_on_validation_data': 0.9149814139071718, 'accuracy_on_new_data': 77.8827646544182}\n"
     ]
    },
    {
     "name": "stderr",
     "output_type": "stream",
     "text": [
      "/opt/conda/lib/python3.10/site-packages/keras/src/layers/core/dense.py:85: UserWarning: Do not pass an `input_shape`/`input_dim` argument to a layer. When using Sequential models, prefer using an `Input(shape)` object as the first layer in the model instead.\n",
      "  super().__init__(activity_regularizer=activity_regularizer, **kwargs)\n"
     ]
    },
    {
     "name": "stdout",
     "output_type": "stream",
     "text": [
      "{'csv_path': '/kaggle/input/ssssssss/dataset_small.csv', 'columns_of_interest': 18, 'epochs': 30, 'test_size': 0.4, 'accuracy_on_validation_data': 0.9187910307784125, 'accuracy_on_new_data': 76.47419072615924}\n"
     ]
    },
    {
     "name": "stderr",
     "output_type": "stream",
     "text": [
      "/opt/conda/lib/python3.10/site-packages/keras/src/layers/core/dense.py:85: UserWarning: Do not pass an `input_shape`/`input_dim` argument to a layer. When using Sequential models, prefer using an `Input(shape)` object as the first layer in the model instead.\n",
      "  super().__init__(activity_regularizer=activity_regularizer, **kwargs)\n"
     ]
    },
    {
     "name": "stdout",
     "output_type": "stream",
     "text": [
      "{'csv_path': '/kaggle/input/ssssssss/dataset_small.csv', 'columns_of_interest': 18, 'epochs': 30, 'test_size': 0.3, 'accuracy_on_validation_data': 0.9236103217005798, 'accuracy_on_new_data': 77.63779527559055}\n"
     ]
    },
    {
     "name": "stderr",
     "output_type": "stream",
     "text": [
      "/opt/conda/lib/python3.10/site-packages/keras/src/layers/core/dense.py:85: UserWarning: Do not pass an `input_shape`/`input_dim` argument to a layer. When using Sequential models, prefer using an `Input(shape)` object as the first layer in the model instead.\n",
      "  super().__init__(activity_regularizer=activity_regularizer, **kwargs)\n"
     ]
    },
    {
     "name": "stdout",
     "output_type": "stream",
     "text": [
      "{'csv_path': '/kaggle/input/ssssssss/dataset_small.csv', 'columns_of_interest': 18, 'epochs': 30, 'test_size': 0.2, 'accuracy_on_validation_data': 0.9224997868530992, 'accuracy_on_new_data': 78.75765529308836}\n"
     ]
    },
    {
     "name": "stderr",
     "output_type": "stream",
     "text": [
      "/opt/conda/lib/python3.10/site-packages/keras/src/layers/core/dense.py:85: UserWarning: Do not pass an `input_shape`/`input_dim` argument to a layer. When using Sequential models, prefer using an `Input(shape)` object as the first layer in the model instead.\n",
      "  super().__init__(activity_regularizer=activity_regularizer, **kwargs)\n"
     ]
    },
    {
     "name": "stdout",
     "output_type": "stream",
     "text": [
      "{'csv_path': '/kaggle/input/ssssssss/dataset_small.csv', 'columns_of_interest': 18, 'epochs': 40, 'test_size': 0.5, 'accuracy_on_validation_data': 0.9183576032465982, 'accuracy_on_new_data': 77.77777777777779}\n"
     ]
    },
    {
     "name": "stderr",
     "output_type": "stream",
     "text": [
      "/opt/conda/lib/python3.10/site-packages/keras/src/layers/core/dense.py:85: UserWarning: Do not pass an `input_shape`/`input_dim` argument to a layer. When using Sequential models, prefer using an `Input(shape)` object as the first layer in the model instead.\n",
      "  super().__init__(activity_regularizer=activity_regularizer, **kwargs)\n"
     ]
    },
    {
     "name": "stdout",
     "output_type": "stream",
     "text": [
      "{'csv_path': '/kaggle/input/ssssssss/dataset_small.csv', 'columns_of_interest': 18, 'epochs': 40, 'test_size': 0.4, 'accuracy_on_validation_data': 0.9236934094978259, 'accuracy_on_new_data': 78.55643044619423}\n"
     ]
    },
    {
     "name": "stderr",
     "output_type": "stream",
     "text": [
      "/opt/conda/lib/python3.10/site-packages/keras/src/layers/core/dense.py:85: UserWarning: Do not pass an `input_shape`/`input_dim` argument to a layer. When using Sequential models, prefer using an `Input(shape)` object as the first layer in the model instead.\n",
      "  super().__init__(activity_regularizer=activity_regularizer, **kwargs)\n"
     ]
    },
    {
     "name": "stdout",
     "output_type": "stream",
     "text": [
      "{'csv_path': '/kaggle/input/ssssssss/dataset_small.csv', 'columns_of_interest': 18, 'epochs': 40, 'test_size': 0.3, 'accuracy_on_validation_data': 0.9243492099579402, 'accuracy_on_new_data': 73.92825896762905}\n"
     ]
    },
    {
     "name": "stderr",
     "output_type": "stream",
     "text": [
      "/opt/conda/lib/python3.10/site-packages/keras/src/layers/core/dense.py:85: UserWarning: Do not pass an `input_shape`/`input_dim` argument to a layer. When using Sequential models, prefer using an `Input(shape)` object as the first layer in the model instead.\n",
      "  super().__init__(activity_regularizer=activity_regularizer, **kwargs)\n"
     ]
    },
    {
     "name": "stdout",
     "output_type": "stream",
     "text": [
      "{'csv_path': '/kaggle/input/ssssssss/dataset_small.csv', 'columns_of_interest': 18, 'epochs': 40, 'test_size': 0.2, 'accuracy_on_validation_data': 0.9279563475147071, 'accuracy_on_new_data': 75.11811023622047}\n"
     ]
    },
    {
     "name": "stderr",
     "output_type": "stream",
     "text": [
      "/opt/conda/lib/python3.10/site-packages/keras/src/layers/core/dense.py:85: UserWarning: Do not pass an `input_shape`/`input_dim` argument to a layer. When using Sequential models, prefer using an `Input(shape)` object as the first layer in the model instead.\n",
      "  super().__init__(activity_regularizer=activity_regularizer, **kwargs)\n"
     ]
    },
    {
     "name": "stdout",
     "output_type": "stream",
     "text": [
      "{'csv_path': '/kaggle/input/ssssssss/dataset_small.csv', 'columns_of_interest': 18, 'epochs': 50, 'test_size': 0.5, 'accuracy_on_validation_data': 0.9257238345326194, 'accuracy_on_new_data': 75.29308836395451}\n"
     ]
    },
    {
     "name": "stderr",
     "output_type": "stream",
     "text": [
      "/opt/conda/lib/python3.10/site-packages/keras/src/layers/core/dense.py:85: UserWarning: Do not pass an `input_shape`/`input_dim` argument to a layer. When using Sequential models, prefer using an `Input(shape)` object as the first layer in the model instead.\n",
      "  super().__init__(activity_regularizer=activity_regularizer, **kwargs)\n"
     ]
    },
    {
     "name": "stdout",
     "output_type": "stream",
     "text": [
      "{'csv_path': '/kaggle/input/ssssssss/dataset_small.csv', 'columns_of_interest': 18, 'epochs': 50, 'test_size': 0.4, 'accuracy_on_validation_data': 0.9275726830931879, 'accuracy_on_new_data': 76.53543307086615}\n"
     ]
    },
    {
     "name": "stderr",
     "output_type": "stream",
     "text": [
      "/opt/conda/lib/python3.10/site-packages/keras/src/layers/core/dense.py:85: UserWarning: Do not pass an `input_shape`/`input_dim` argument to a layer. When using Sequential models, prefer using an `Input(shape)` object as the first layer in the model instead.\n",
      "  super().__init__(activity_regularizer=activity_regularizer, **kwargs)\n"
     ]
    },
    {
     "name": "stdout",
     "output_type": "stream",
     "text": [
      "{'csv_path': '/kaggle/input/ssssssss/dataset_small.csv', 'columns_of_interest': 18, 'epochs': 50, 'test_size': 0.3, 'accuracy_on_validation_data': 0.9204842559963624, 'accuracy_on_new_data': 78.15398075240594}\n"
     ]
    },
    {
     "name": "stderr",
     "output_type": "stream",
     "text": [
      "/opt/conda/lib/python3.10/site-packages/keras/src/layers/core/dense.py:85: UserWarning: Do not pass an `input_shape`/`input_dim` argument to a layer. When using Sequential models, prefer using an `Input(shape)` object as the first layer in the model instead.\n",
      "  super().__init__(activity_regularizer=activity_regularizer, **kwargs)\n"
     ]
    },
    {
     "name": "stdout",
     "output_type": "stream",
     "text": [
      "{'csv_path': '/kaggle/input/ssssssss/dataset_small.csv', 'columns_of_interest': 18, 'epochs': 50, 'test_size': 0.2, 'accuracy_on_validation_data': 0.9283826413163953, 'accuracy_on_new_data': 75.83552055993002}\n"
     ]
    },
    {
     "name": "stderr",
     "output_type": "stream",
     "text": [
      "/opt/conda/lib/python3.10/site-packages/keras/src/layers/core/dense.py:85: UserWarning: Do not pass an `input_shape`/`input_dim` argument to a layer. When using Sequential models, prefer using an `Input(shape)` object as the first layer in the model instead.\n",
      "  super().__init__(activity_regularizer=activity_regularizer, **kwargs)\n"
     ]
    },
    {
     "name": "stdout",
     "output_type": "stream",
     "text": [
      "{'csv_path': '/kaggle/input/ssssssss/dataset_small.csv', 'columns_of_interest': 19, 'epochs': 10, 'test_size': 0.5, 'accuracy_on_validation_data': 0.8991917607338948, 'accuracy_on_new_data': 74.70691163604549}\n"
     ]
    },
    {
     "name": "stderr",
     "output_type": "stream",
     "text": [
      "/opt/conda/lib/python3.10/site-packages/keras/src/layers/core/dense.py:85: UserWarning: Do not pass an `input_shape`/`input_dim` argument to a layer. When using Sequential models, prefer using an `Input(shape)` object as the first layer in the model instead.\n",
      "  super().__init__(activity_regularizer=activity_regularizer, **kwargs)\n"
     ]
    },
    {
     "name": "stdout",
     "output_type": "stream",
     "text": [
      "{'csv_path': '/kaggle/input/ssssssss/dataset_small.csv', 'columns_of_interest': 19, 'epochs': 10, 'test_size': 0.4, 'accuracy_on_validation_data': 0.9016966493307187, 'accuracy_on_new_data': 75.34558180227472}\n"
     ]
    },
    {
     "name": "stderr",
     "output_type": "stream",
     "text": [
      "/opt/conda/lib/python3.10/site-packages/keras/src/layers/core/dense.py:85: UserWarning: Do not pass an `input_shape`/`input_dim` argument to a layer. When using Sequential models, prefer using an `Input(shape)` object as the first layer in the model instead.\n",
      "  super().__init__(activity_regularizer=activity_regularizer, **kwargs)\n"
     ]
    },
    {
     "name": "stdout",
     "output_type": "stream",
     "text": [
      "{'csv_path': '/kaggle/input/ssssssss/dataset_small.csv', 'columns_of_interest': 19, 'epochs': 10, 'test_size': 0.3, 'accuracy_on_validation_data': 0.9038876889848813, 'accuracy_on_new_data': 72.33595800524935}\n"
     ]
    },
    {
     "name": "stderr",
     "output_type": "stream",
     "text": [
      "/opt/conda/lib/python3.10/site-packages/keras/src/layers/core/dense.py:85: UserWarning: Do not pass an `input_shape`/`input_dim` argument to a layer. When using Sequential models, prefer using an `Input(shape)` object as the first layer in the model instead.\n",
      "  super().__init__(activity_regularizer=activity_regularizer, **kwargs)\n"
     ]
    },
    {
     "name": "stdout",
     "output_type": "stream",
     "text": [
      "{'csv_path': '/kaggle/input/ssssssss/dataset_small.csv', 'columns_of_interest': 19, 'epochs': 10, 'test_size': 0.2, 'accuracy_on_validation_data': 0.9010998380083554, 'accuracy_on_new_data': 75.7742782152231}\n"
     ]
    },
    {
     "name": "stderr",
     "output_type": "stream",
     "text": [
      "/opt/conda/lib/python3.10/site-packages/keras/src/layers/core/dense.py:85: UserWarning: Do not pass an `input_shape`/`input_dim` argument to a layer. When using Sequential models, prefer using an `Input(shape)` object as the first layer in the model instead.\n",
      "  super().__init__(activity_regularizer=activity_regularizer, **kwargs)\n"
     ]
    },
    {
     "name": "stdout",
     "output_type": "stream",
     "text": [
      "{'csv_path': '/kaggle/input/ssssssss/dataset_small.csv', 'columns_of_interest': 19, 'epochs': 20, 'test_size': 0.5, 'accuracy_on_validation_data': 0.9075810796985302, 'accuracy_on_new_data': 74.55818022747157}\n"
     ]
    },
    {
     "name": "stderr",
     "output_type": "stream",
     "text": [
      "/opt/conda/lib/python3.10/site-packages/keras/src/layers/core/dense.py:85: UserWarning: Do not pass an `input_shape`/`input_dim` argument to a layer. When using Sequential models, prefer using an `Input(shape)` object as the first layer in the model instead.\n",
      "  super().__init__(activity_regularizer=activity_regularizer, **kwargs)\n"
     ]
    },
    {
     "name": "stdout",
     "output_type": "stream",
     "text": [
      "{'csv_path': '/kaggle/input/ssssssss/dataset_small.csv', 'columns_of_interest': 19, 'epochs': 20, 'test_size': 0.4, 'accuracy_on_validation_data': 0.9114587773893768, 'accuracy_on_new_data': 77.69903762029746}\n"
     ]
    },
    {
     "name": "stderr",
     "output_type": "stream",
     "text": [
      "/opt/conda/lib/python3.10/site-packages/keras/src/layers/core/dense.py:85: UserWarning: Do not pass an `input_shape`/`input_dim` argument to a layer. When using Sequential models, prefer using an `Input(shape)` object as the first layer in the model instead.\n",
      "  super().__init__(activity_regularizer=activity_regularizer, **kwargs)\n"
     ]
    },
    {
     "name": "stdout",
     "output_type": "stream",
     "text": [
      "{'csv_path': '/kaggle/input/ssssssss/dataset_small.csv', 'columns_of_interest': 19, 'epochs': 20, 'test_size': 0.3, 'accuracy_on_validation_data': 0.9173013527338866, 'accuracy_on_new_data': 75.18810148731409}\n"
     ]
    },
    {
     "name": "stderr",
     "output_type": "stream",
     "text": [
      "/opt/conda/lib/python3.10/site-packages/keras/src/layers/core/dense.py:85: UserWarning: Do not pass an `input_shape`/`input_dim` argument to a layer. When using Sequential models, prefer using an `Input(shape)` object as the first layer in the model instead.\n",
      "  super().__init__(activity_regularizer=activity_regularizer, **kwargs)\n"
     ]
    },
    {
     "name": "stdout",
     "output_type": "stream",
     "text": [
      "{'csv_path': '/kaggle/input/ssssssss/dataset_small.csv', 'columns_of_interest': 19, 'epochs': 20, 'test_size': 0.2, 'accuracy_on_validation_data': 0.91278028817461, 'accuracy_on_new_data': 75.52055993000874}\n"
     ]
    },
    {
     "name": "stderr",
     "output_type": "stream",
     "text": [
      "/opt/conda/lib/python3.10/site-packages/keras/src/layers/core/dense.py:85: UserWarning: Do not pass an `input_shape`/`input_dim` argument to a layer. When using Sequential models, prefer using an `Input(shape)` object as the first layer in the model instead.\n",
      "  super().__init__(activity_regularizer=activity_regularizer, **kwargs)\n"
     ]
    },
    {
     "name": "stdout",
     "output_type": "stream",
     "text": [
      "{'csv_path': '/kaggle/input/ssssssss/dataset_small.csv', 'columns_of_interest': 19, 'epochs': 30, 'test_size': 0.5, 'accuracy_on_validation_data': 0.9203696756812059, 'accuracy_on_new_data': 77.90026246719161}\n"
     ]
    },
    {
     "name": "stderr",
     "output_type": "stream",
     "text": [
      "/opt/conda/lib/python3.10/site-packages/keras/src/layers/core/dense.py:85: UserWarning: Do not pass an `input_shape`/`input_dim` argument to a layer. When using Sequential models, prefer using an `Input(shape)` object as the first layer in the model instead.\n",
      "  super().__init__(activity_regularizer=activity_regularizer, **kwargs)\n"
     ]
    },
    {
     "name": "stdout",
     "output_type": "stream",
     "text": [
      "{'csv_path': '/kaggle/input/ssssssss/dataset_small.csv', 'columns_of_interest': 19, 'epochs': 30, 'test_size': 0.4, 'accuracy_on_validation_data': 0.9229687100349561, 'accuracy_on_new_data': 73.6745406824147}\n"
     ]
    },
    {
     "name": "stderr",
     "output_type": "stream",
     "text": [
      "/opt/conda/lib/python3.10/site-packages/keras/src/layers/core/dense.py:85: UserWarning: Do not pass an `input_shape`/`input_dim` argument to a layer. When using Sequential models, prefer using an `Input(shape)` object as the first layer in the model instead.\n",
      "  super().__init__(activity_regularizer=activity_regularizer, **kwargs)\n"
     ]
    },
    {
     "name": "stdout",
     "output_type": "stream",
     "text": [
      "{'csv_path': '/kaggle/input/ssssssss/dataset_small.csv', 'columns_of_interest': 19, 'epochs': 30, 'test_size': 0.3, 'accuracy_on_validation_data': 0.9220188700693418, 'accuracy_on_new_data': 79.4313210848644}\n"
     ]
    },
    {
     "name": "stderr",
     "output_type": "stream",
     "text": [
      "/opt/conda/lib/python3.10/site-packages/keras/src/layers/core/dense.py:85: UserWarning: Do not pass an `input_shape`/`input_dim` argument to a layer. When using Sequential models, prefer using an `Input(shape)` object as the first layer in the model instead.\n",
      "  super().__init__(activity_regularizer=activity_regularizer, **kwargs)\n"
     ]
    },
    {
     "name": "stdout",
     "output_type": "stream",
     "text": [
      "{'csv_path': '/kaggle/input/ssssssss/dataset_small.csv', 'columns_of_interest': 19, 'epochs': 30, 'test_size': 0.2, 'accuracy_on_validation_data': 0.9144002046210248, 'accuracy_on_new_data': 75.76552930883639}\n"
     ]
    },
    {
     "name": "stderr",
     "output_type": "stream",
     "text": [
      "/opt/conda/lib/python3.10/site-packages/keras/src/layers/core/dense.py:85: UserWarning: Do not pass an `input_shape`/`input_dim` argument to a layer. When using Sequential models, prefer using an `Input(shape)` object as the first layer in the model instead.\n",
      "  super().__init__(activity_regularizer=activity_regularizer, **kwargs)\n"
     ]
    },
    {
     "name": "stdout",
     "output_type": "stream",
     "text": [
      "{'csv_path': '/kaggle/input/ssssssss/dataset_small.csv', 'columns_of_interest': 19, 'epochs': 40, 'test_size': 0.5, 'accuracy_on_validation_data': 0.9149473109845514, 'accuracy_on_new_data': 78.33770778652669}\n"
     ]
    },
    {
     "name": "stderr",
     "output_type": "stream",
     "text": [
      "/opt/conda/lib/python3.10/site-packages/keras/src/layers/core/dense.py:85: UserWarning: Do not pass an `input_shape`/`input_dim` argument to a layer. When using Sequential models, prefer using an `Input(shape)` object as the first layer in the model instead.\n",
      "  super().__init__(activity_regularizer=activity_regularizer, **kwargs)\n"
     ]
    },
    {
     "name": "stdout",
     "output_type": "stream",
     "text": [
      "{'csv_path': '/kaggle/input/ssssssss/dataset_small.csv', 'columns_of_interest': 19, 'epochs': 40, 'test_size': 0.4, 'accuracy_on_validation_data': 0.9224571574729303, 'accuracy_on_new_data': 78.66141732283465}\n"
     ]
    },
    {
     "name": "stderr",
     "output_type": "stream",
     "text": [
      "/opt/conda/lib/python3.10/site-packages/keras/src/layers/core/dense.py:85: UserWarning: Do not pass an `input_shape`/`input_dim` argument to a layer. When using Sequential models, prefer using an `Input(shape)` object as the first layer in the model instead.\n",
      "  super().__init__(activity_regularizer=activity_regularizer, **kwargs)\n"
     ]
    },
    {
     "name": "stdout",
     "output_type": "stream",
     "text": [
      "{'csv_path': '/kaggle/input/ssssssss/dataset_small.csv', 'columns_of_interest': 19, 'epochs': 40, 'test_size': 0.3, 'accuracy_on_validation_data': 0.9227577583267023, 'accuracy_on_new_data': 77.20034995625547}\n"
     ]
    },
    {
     "name": "stderr",
     "output_type": "stream",
     "text": [
      "/opt/conda/lib/python3.10/site-packages/keras/src/layers/core/dense.py:85: UserWarning: Do not pass an `input_shape`/`input_dim` argument to a layer. When using Sequential models, prefer using an `Input(shape)` object as the first layer in the model instead.\n",
      "  super().__init__(activity_regularizer=activity_regularizer, **kwargs)\n"
     ]
    },
    {
     "name": "stdout",
     "output_type": "stream",
     "text": [
      "{'csv_path': '/kaggle/input/ssssssss/dataset_small.csv', 'columns_of_interest': 19, 'epochs': 40, 'test_size': 0.2, 'accuracy_on_validation_data': 0.9248870321425526, 'accuracy_on_new_data': 77.21784776902886}\n"
     ]
    },
    {
     "name": "stderr",
     "output_type": "stream",
     "text": [
      "/opt/conda/lib/python3.10/site-packages/keras/src/layers/core/dense.py:85: UserWarning: Do not pass an `input_shape`/`input_dim` argument to a layer. When using Sequential models, prefer using an `Input(shape)` object as the first layer in the model instead.\n",
      "  super().__init__(activity_regularizer=activity_regularizer, **kwargs)\n"
     ]
    },
    {
     "name": "stdout",
     "output_type": "stream",
     "text": [
      "{'csv_path': '/kaggle/input/ssssssss/dataset_small.csv', 'columns_of_interest': 19, 'epochs': 50, 'test_size': 0.5, 'accuracy_on_validation_data': 0.9209494253657539, 'accuracy_on_new_data': 78.64391951006124}\n"
     ]
    },
    {
     "name": "stderr",
     "output_type": "stream",
     "text": [
      "/opt/conda/lib/python3.10/site-packages/keras/src/layers/core/dense.py:85: UserWarning: Do not pass an `input_shape`/`input_dim` argument to a layer. When using Sequential models, prefer using an `Input(shape)` object as the first layer in the model instead.\n",
      "  super().__init__(activity_regularizer=activity_regularizer, **kwargs)\n"
     ]
    },
    {
     "name": "stdout",
     "output_type": "stream",
     "text": [
      "{'csv_path': '/kaggle/input/ssssssss/dataset_small.csv', 'columns_of_interest': 19, 'epochs': 50, 'test_size': 0.4, 'accuracy_on_validation_data': 0.9271037599113309, 'accuracy_on_new_data': 75.249343832021}\n"
     ]
    },
    {
     "name": "stderr",
     "output_type": "stream",
     "text": [
      "/opt/conda/lib/python3.10/site-packages/keras/src/layers/core/dense.py:85: UserWarning: Do not pass an `input_shape`/`input_dim` argument to a layer. When using Sequential models, prefer using an `Input(shape)` object as the first layer in the model instead.\n",
      "  super().__init__(activity_regularizer=activity_regularizer, **kwargs)\n"
     ]
    },
    {
     "name": "stdout",
     "output_type": "stream",
     "text": [
      "{'csv_path': '/kaggle/input/ssssssss/dataset_small.csv', 'columns_of_interest': 19, 'epochs': 50, 'test_size': 0.3, 'accuracy_on_validation_data': 0.9270205751960896, 'accuracy_on_new_data': 78.60017497812774}\n"
     ]
    },
    {
     "name": "stderr",
     "output_type": "stream",
     "text": [
      "/opt/conda/lib/python3.10/site-packages/keras/src/layers/core/dense.py:85: UserWarning: Do not pass an `input_shape`/`input_dim` argument to a layer. When using Sequential models, prefer using an `Input(shape)` object as the first layer in the model instead.\n",
      "  super().__init__(activity_regularizer=activity_regularizer, **kwargs)\n"
     ]
    },
    {
     "name": "stdout",
     "output_type": "stream",
     "text": [
      "{'csv_path': '/kaggle/input/ssssssss/dataset_small.csv', 'columns_of_interest': 19, 'epochs': 50, 'test_size': 0.2, 'accuracy_on_validation_data': 0.9259953960269418, 'accuracy_on_new_data': 77.26159230096238}\n"
     ]
    },
    {
     "name": "stderr",
     "output_type": "stream",
     "text": [
      "/opt/conda/lib/python3.10/site-packages/keras/src/layers/core/dense.py:85: UserWarning: Do not pass an `input_shape`/`input_dim` argument to a layer. When using Sequential models, prefer using an `Input(shape)` object as the first layer in the model instead.\n",
      "  super().__init__(activity_regularizer=activity_regularizer, **kwargs)\n"
     ]
    },
    {
     "name": "stdout",
     "output_type": "stream",
     "text": [
      "{'csv_path': '/kaggle/input/ssssssss/dataset_small.csv', 'columns_of_interest': 20, 'epochs': 10, 'test_size': 0.5, 'accuracy_on_validation_data': 0.8947242778706135, 'accuracy_on_new_data': 72.82589676290463}\n"
     ]
    },
    {
     "name": "stderr",
     "output_type": "stream",
     "text": [
      "/opt/conda/lib/python3.10/site-packages/keras/src/layers/core/dense.py:85: UserWarning: Do not pass an `input_shape`/`input_dim` argument to a layer. When using Sequential models, prefer using an `Input(shape)` object as the first layer in the model instead.\n",
      "  super().__init__(activity_regularizer=activity_regularizer, **kwargs)\n"
     ]
    },
    {
     "name": "stdout",
     "output_type": "stream",
     "text": [
      "{'csv_path': '/kaggle/input/ssssssss/dataset_small.csv', 'columns_of_interest': 20, 'epochs': 10, 'test_size': 0.4, 'accuracy_on_validation_data': 0.9002472504049791, 'accuracy_on_new_data': 76.22922134733159}\n"
     ]
    },
    {
     "name": "stderr",
     "output_type": "stream",
     "text": [
      "/opt/conda/lib/python3.10/site-packages/keras/src/layers/core/dense.py:85: UserWarning: Do not pass an `input_shape`/`input_dim` argument to a layer. When using Sequential models, prefer using an `Input(shape)` object as the first layer in the model instead.\n",
      "  super().__init__(activity_regularizer=activity_regularizer, **kwargs)\n"
     ]
    },
    {
     "name": "stdout",
     "output_type": "stream",
     "text": [
      "{'csv_path': '/kaggle/input/ssssssss/dataset_small.csv', 'columns_of_interest': 20, 'epochs': 10, 'test_size': 0.3, 'accuracy_on_validation_data': 0.8998522223485279, 'accuracy_on_new_data': 75.7830271216098}\n"
     ]
    },
    {
     "name": "stderr",
     "output_type": "stream",
     "text": [
      "/opt/conda/lib/python3.10/site-packages/keras/src/layers/core/dense.py:85: UserWarning: Do not pass an `input_shape`/`input_dim` argument to a layer. When using Sequential models, prefer using an `Input(shape)` object as the first layer in the model instead.\n",
      "  super().__init__(activity_regularizer=activity_regularizer, **kwargs)\n"
     ]
    },
    {
     "name": "stdout",
     "output_type": "stream",
     "text": [
      "{'csv_path': '/kaggle/input/ssssssss/dataset_small.csv', 'columns_of_interest': 20, 'epochs': 10, 'test_size': 0.2, 'accuracy_on_validation_data': 0.9010145792480178, 'accuracy_on_new_data': 72.45844269466318}\n"
     ]
    },
    {
     "name": "stderr",
     "output_type": "stream",
     "text": [
      "/opt/conda/lib/python3.10/site-packages/keras/src/layers/core/dense.py:85: UserWarning: Do not pass an `input_shape`/`input_dim` argument to a layer. When using Sequential models, prefer using an `Input(shape)` object as the first layer in the model instead.\n",
      "  super().__init__(activity_regularizer=activity_regularizer, **kwargs)\n"
     ]
    },
    {
     "name": "stdout",
     "output_type": "stream",
     "text": [
      "{'csv_path': '/kaggle/input/ssssssss/dataset_small.csv', 'columns_of_interest': 20, 'epochs': 20, 'test_size': 0.5, 'accuracy_on_validation_data': 0.9027043617638032, 'accuracy_on_new_data': 73.73578302712161}\n"
     ]
    },
    {
     "name": "stderr",
     "output_type": "stream",
     "text": [
      "/opt/conda/lib/python3.10/site-packages/keras/src/layers/core/dense.py:85: UserWarning: Do not pass an `input_shape`/`input_dim` argument to a layer. When using Sequential models, prefer using an `Input(shape)` object as the first layer in the model instead.\n",
      "  super().__init__(activity_regularizer=activity_regularizer, **kwargs)\n"
     ]
    },
    {
     "name": "stdout",
     "output_type": "stream",
     "text": [
      "{'csv_path': '/kaggle/input/ssssssss/dataset_small.csv', 'columns_of_interest': 20, 'epochs': 20, 'test_size': 0.4, 'accuracy_on_validation_data': 0.9123966237530906, 'accuracy_on_new_data': 77.95275590551181}\n"
     ]
    },
    {
     "name": "stderr",
     "output_type": "stream",
     "text": [
      "/opt/conda/lib/python3.10/site-packages/keras/src/layers/core/dense.py:85: UserWarning: Do not pass an `input_shape`/`input_dim` argument to a layer. When using Sequential models, prefer using an `Input(shape)` object as the first layer in the model instead.\n",
      "  super().__init__(activity_regularizer=activity_regularizer, **kwargs)\n"
     ]
    },
    {
     "name": "stdout",
     "output_type": "stream",
     "text": [
      "{'csv_path': '/kaggle/input/ssssssss/dataset_small.csv', 'columns_of_interest': 20, 'epochs': 20, 'test_size': 0.3, 'accuracy_on_validation_data': 0.9137774241218597, 'accuracy_on_new_data': 77.46281714785653}\n"
     ]
    },
    {
     "name": "stderr",
     "output_type": "stream",
     "text": [
      "/opt/conda/lib/python3.10/site-packages/keras/src/layers/core/dense.py:85: UserWarning: Do not pass an `input_shape`/`input_dim` argument to a layer. When using Sequential models, prefer using an `Input(shape)` object as the first layer in the model instead.\n",
      "  super().__init__(activity_regularizer=activity_regularizer, **kwargs)\n"
     ]
    },
    {
     "name": "stdout",
     "output_type": "stream",
     "text": [
      "{'csv_path': '/kaggle/input/ssssssss/dataset_small.csv', 'columns_of_interest': 20, 'epochs': 20, 'test_size': 0.2, 'accuracy_on_validation_data': 0.9173842612328417, 'accuracy_on_new_data': 76.38670166229221}\n"
     ]
    },
    {
     "name": "stderr",
     "output_type": "stream",
     "text": [
      "/opt/conda/lib/python3.10/site-packages/keras/src/layers/core/dense.py:85: UserWarning: Do not pass an `input_shape`/`input_dim` argument to a layer. When using Sequential models, prefer using an `Input(shape)` object as the first layer in the model instead.\n",
      "  super().__init__(activity_regularizer=activity_regularizer, **kwargs)\n"
     ]
    },
    {
     "name": "stdout",
     "output_type": "stream",
     "text": [
      "{'csv_path': '/kaggle/input/ssssssss/dataset_small.csv', 'columns_of_interest': 20, 'epochs': 30, 'test_size': 0.5, 'accuracy_on_validation_data': 0.9174368243358456, 'accuracy_on_new_data': 76.3429571303587}\n"
     ]
    },
    {
     "name": "stderr",
     "output_type": "stream",
     "text": [
      "/opt/conda/lib/python3.10/site-packages/keras/src/layers/core/dense.py:85: UserWarning: Do not pass an `input_shape`/`input_dim` argument to a layer. When using Sequential models, prefer using an `Input(shape)` object as the first layer in the model instead.\n",
      "  super().__init__(activity_regularizer=activity_regularizer, **kwargs)\n"
     ]
    },
    {
     "name": "stdout",
     "output_type": "stream",
     "text": [
      "{'csv_path': '/kaggle/input/ssssssss/dataset_small.csv', 'columns_of_interest': 20, 'epochs': 30, 'test_size': 0.4, 'accuracy_on_validation_data': 0.9224571574729303, 'accuracy_on_new_data': 78.22397200349957}\n"
     ]
    },
    {
     "name": "stderr",
     "output_type": "stream",
     "text": [
      "/opt/conda/lib/python3.10/site-packages/keras/src/layers/core/dense.py:85: UserWarning: Do not pass an `input_shape`/`input_dim` argument to a layer. When using Sequential models, prefer using an `Input(shape)` object as the first layer in the model instead.\n",
      "  super().__init__(activity_regularizer=activity_regularizer, **kwargs)\n"
     ]
    },
    {
     "name": "stdout",
     "output_type": "stream",
     "text": [
      "{'csv_path': '/kaggle/input/ssssssss/dataset_small.csv', 'columns_of_interest': 20, 'epochs': 30, 'test_size': 0.3, 'accuracy_on_validation_data': 0.9159372513356826, 'accuracy_on_new_data': 79.09886264216973}\n"
     ]
    },
    {
     "name": "stderr",
     "output_type": "stream",
     "text": [
      "/opt/conda/lib/python3.10/site-packages/keras/src/layers/core/dense.py:85: UserWarning: Do not pass an `input_shape`/`input_dim` argument to a layer. When using Sequential models, prefer using an `Input(shape)` object as the first layer in the model instead.\n",
      "  super().__init__(activity_regularizer=activity_regularizer, **kwargs)\n"
     ]
    },
    {
     "name": "stdout",
     "output_type": "stream",
     "text": [
      "{'csv_path': '/kaggle/input/ssssssss/dataset_small.csv', 'columns_of_interest': 20, 'epochs': 30, 'test_size': 0.2, 'accuracy_on_validation_data': 0.9210503879273595, 'accuracy_on_new_data': 79.03762029746282}\n"
     ]
    },
    {
     "name": "stderr",
     "output_type": "stream",
     "text": [
      "/opt/conda/lib/python3.10/site-packages/keras/src/layers/core/dense.py:85: UserWarning: Do not pass an `input_shape`/`input_dim` argument to a layer. When using Sequential models, prefer using an `Input(shape)` object as the first layer in the model instead.\n",
      "  super().__init__(activity_regularizer=activity_regularizer, **kwargs)\n"
     ]
    },
    {
     "name": "stdout",
     "output_type": "stream",
     "text": [
      "{'csv_path': '/kaggle/input/ssssssss/dataset_small.csv', 'columns_of_interest': 20, 'epochs': 40, 'test_size': 0.5, 'accuracy_on_validation_data': 0.9101387988950653, 'accuracy_on_new_data': 79.02887139107612}\n"
     ]
    },
    {
     "name": "stderr",
     "output_type": "stream",
     "text": [
      "/opt/conda/lib/python3.10/site-packages/keras/src/layers/core/dense.py:85: UserWarning: Do not pass an `input_shape`/`input_dim` argument to a layer. When using Sequential models, prefer using an `Input(shape)` object as the first layer in the model instead.\n",
      "  super().__init__(activity_regularizer=activity_regularizer, **kwargs)\n"
     ]
    },
    {
     "name": "stdout",
     "output_type": "stream",
     "text": [
      "{'csv_path': '/kaggle/input/ssssssss/dataset_small.csv', 'columns_of_interest': 20, 'epochs': 40, 'test_size': 0.4, 'accuracy_on_validation_data': 0.9228834512746185, 'accuracy_on_new_data': 79.74628171478565}\n"
     ]
    },
    {
     "name": "stderr",
     "output_type": "stream",
     "text": [
      "/opt/conda/lib/python3.10/site-packages/keras/src/layers/core/dense.py:85: UserWarning: Do not pass an `input_shape`/`input_dim` argument to a layer. When using Sequential models, prefer using an `Input(shape)` object as the first layer in the model instead.\n",
      "  super().__init__(activity_regularizer=activity_regularizer, **kwargs)\n"
     ]
    },
    {
     "name": "stdout",
     "output_type": "stream",
     "text": [
      "{'csv_path': '/kaggle/input/ssssssss/dataset_small.csv', 'columns_of_interest': 20, 'epochs': 40, 'test_size': 0.3, 'accuracy_on_validation_data': 0.9229851085597363, 'accuracy_on_new_data': 78.89763779527559}\n"
     ]
    },
    {
     "name": "stderr",
     "output_type": "stream",
     "text": [
      "/opt/conda/lib/python3.10/site-packages/keras/src/layers/core/dense.py:85: UserWarning: Do not pass an `input_shape`/`input_dim` argument to a layer. When using Sequential models, prefer using an `Input(shape)` object as the first layer in the model instead.\n",
      "  super().__init__(activity_regularizer=activity_regularizer, **kwargs)\n"
     ]
    },
    {
     "name": "stdout",
     "output_type": "stream",
     "text": [
      "{'csv_path': '/kaggle/input/ssssssss/dataset_small.csv', 'columns_of_interest': 20, 'epochs': 40, 'test_size': 0.2, 'accuracy_on_validation_data': 0.9207946116463467, 'accuracy_on_new_data': 75.06561679790026}\n"
     ]
    },
    {
     "name": "stderr",
     "output_type": "stream",
     "text": [
      "/opt/conda/lib/python3.10/site-packages/keras/src/layers/core/dense.py:85: UserWarning: Do not pass an `input_shape`/`input_dim` argument to a layer. When using Sequential models, prefer using an `Input(shape)` object as the first layer in the model instead.\n",
      "  super().__init__(activity_regularizer=activity_regularizer, **kwargs)\n"
     ]
    },
    {
     "name": "stdout",
     "output_type": "stream",
     "text": [
      "{'csv_path': '/kaggle/input/ssssssss/dataset_small.csv', 'columns_of_interest': 20, 'epochs': 50, 'test_size': 0.5, 'accuracy_on_validation_data': 0.9265423046755107, 'accuracy_on_new_data': 78.67891513560805}\n"
     ]
    },
    {
     "name": "stderr",
     "output_type": "stream",
     "text": [
      "/opt/conda/lib/python3.10/site-packages/keras/src/layers/core/dense.py:85: UserWarning: Do not pass an `input_shape`/`input_dim` argument to a layer. When using Sequential models, prefer using an `Input(shape)` object as the first layer in the model instead.\n",
      "  super().__init__(activity_regularizer=activity_regularizer, **kwargs)\n"
     ]
    },
    {
     "name": "stdout",
     "output_type": "stream",
     "text": [
      "{'csv_path': '/kaggle/input/ssssssss/dataset_small.csv', 'columns_of_interest': 20, 'epochs': 50, 'test_size': 0.4, 'accuracy_on_validation_data': 0.9257822491260977, 'accuracy_on_new_data': 73.30708661417323}\n"
     ]
    },
    {
     "name": "stderr",
     "output_type": "stream",
     "text": [
      "/opt/conda/lib/python3.10/site-packages/keras/src/layers/core/dense.py:85: UserWarning: Do not pass an `input_shape`/`input_dim` argument to a layer. When using Sequential models, prefer using an `Input(shape)` object as the first layer in the model instead.\n",
      "  super().__init__(activity_regularizer=activity_regularizer, **kwargs)\n"
     ]
    },
    {
     "name": "stdout",
     "output_type": "stream",
     "text": [
      "{'csv_path': '/kaggle/input/ssssssss/dataset_small.csv', 'columns_of_interest': 20, 'epochs': 50, 'test_size': 0.3, 'accuracy_on_validation_data': 0.9307150164828919, 'accuracy_on_new_data': 73.35958005249343}\n"
     ]
    },
    {
     "name": "stderr",
     "output_type": "stream",
     "text": [
      "/opt/conda/lib/python3.10/site-packages/keras/src/layers/core/dense.py:85: UserWarning: Do not pass an `input_shape`/`input_dim` argument to a layer. When using Sequential models, prefer using an `Input(shape)` object as the first layer in the model instead.\n",
      "  super().__init__(activity_regularizer=activity_regularizer, **kwargs)\n"
     ]
    },
    {
     "name": "stdout",
     "output_type": "stream",
     "text": [
      "{'csv_path': '/kaggle/input/ssssssss/dataset_small.csv', 'columns_of_interest': 20, 'epochs': 50, 'test_size': 0.2, 'accuracy_on_validation_data': 0.9270185011509933, 'accuracy_on_new_data': 77.40157480314961}\n",
      "{'csv_path': '/kaggle/input/zzzzzz/mendeley_dataset_full.csv', 'columns_of_interest': 14, 'epochs': 10, 'test_size': 0.5, 'accuracy_on_validation_data': 0.9255256745781066, 'accuracy_on_new_data': 69.39632545931758}\n",
      "{'csv_path': '/kaggle/input/zzzzzz/mendeley_dataset_full.csv', 'columns_of_interest': 14, 'epochs': 10, 'test_size': 0.4, 'accuracy_on_validation_data': 0.9285089822047999, 'accuracy_on_new_data': 71.31233595800525}\n",
      "{'csv_path': '/kaggle/input/zzzzzz/mendeley_dataset_full.csv', 'columns_of_interest': 14, 'epochs': 10, 'test_size': 0.3, 'accuracy_on_validation_data': 0.9305884564767813, 'accuracy_on_new_data': 73.07961504811898}\n",
      "{'csv_path': '/kaggle/input/zzzzzz/mendeley_dataset_full.csv', 'columns_of_interest': 14, 'epochs': 10, 'test_size': 0.2, 'accuracy_on_validation_data': 0.9331077270163565, 'accuracy_on_new_data': 70.64741907261592}\n",
      "{'csv_path': '/kaggle/input/zzzzzz/mendeley_dataset_full.csv', 'columns_of_interest': 14, 'epochs': 20, 'test_size': 0.5, 'accuracy_on_validation_data': 0.931165959750925, 'accuracy_on_new_data': 74.93438320209974}\n",
      "{'csv_path': '/kaggle/input/zzzzzz/mendeley_dataset_full.csv', 'columns_of_interest': 14, 'epochs': 20, 'test_size': 0.4, 'accuracy_on_validation_data': 0.9356439831918554, 'accuracy_on_new_data': 71.67979002624672}\n",
      "{'csv_path': '/kaggle/input/zzzzzz/mendeley_dataset_full.csv', 'columns_of_interest': 14, 'epochs': 20, 'test_size': 0.3, 'accuracy_on_validation_data': 0.9391238954690732, 'accuracy_on_new_data': 73.6832895888014}\n",
      "{'csv_path': '/kaggle/input/zzzzzz/mendeley_dataset_full.csv', 'columns_of_interest': 14, 'epochs': 20, 'test_size': 0.2, 'accuracy_on_validation_data': 0.9385222786238014, 'accuracy_on_new_data': 75.52055993000874}\n",
      "{'csv_path': '/kaggle/input/zzzzzz/mendeley_dataset_full.csv', 'columns_of_interest': 14, 'epochs': 30, 'test_size': 0.5, 'accuracy_on_validation_data': 0.9380922299431459, 'accuracy_on_new_data': 75.31933508311461}\n",
      "{'csv_path': '/kaggle/input/zzzzzz/mendeley_dataset_full.csv', 'columns_of_interest': 14, 'epochs': 30, 'test_size': 0.4, 'accuracy_on_validation_data': 0.9376180941368905, 'accuracy_on_new_data': 72.34470691163605}\n",
      "{'csv_path': '/kaggle/input/zzzzzz/mendeley_dataset_full.csv', 'columns_of_interest': 14, 'epochs': 30, 'test_size': 0.3, 'accuracy_on_validation_data': 0.9380710659898477, 'accuracy_on_new_data': 76.67541557305337}\n",
      "{'csv_path': '/kaggle/input/zzzzzz/mendeley_dataset_full.csv', 'columns_of_interest': 14, 'epochs': 30, 'test_size': 0.2, 'accuracy_on_validation_data': 0.9446700507614213, 'accuracy_on_new_data': 74.50568678915135}\n",
      "{'csv_path': '/kaggle/input/zzzzzz/mendeley_dataset_full.csv', 'columns_of_interest': 14, 'epochs': 40, 'test_size': 0.5, 'accuracy_on_validation_data': 0.9447477664470716, 'accuracy_on_new_data': 72.77340332458444}\n",
      "{'csv_path': '/kaggle/input/zzzzzz/mendeley_dataset_full.csv', 'columns_of_interest': 14, 'epochs': 40, 'test_size': 0.4, 'accuracy_on_validation_data': 0.9432866127076341, 'accuracy_on_new_data': 72.78215223097114}\n",
      "{'csv_path': '/kaggle/input/zzzzzz/mendeley_dataset_full.csv', 'columns_of_interest': 14, 'epochs': 40, 'test_size': 0.3, 'accuracy_on_validation_data': 0.941079150216206, 'accuracy_on_new_data': 74.1819772528434}\n",
      "{'csv_path': '/kaggle/input/zzzzzz/mendeley_dataset_full.csv', 'columns_of_interest': 14, 'epochs': 40, 'test_size': 0.2, 'accuracy_on_validation_data': 0.9429780033840948, 'accuracy_on_new_data': 76.26421697287839}\n",
      "{'csv_path': '/kaggle/input/zzzzzz/mendeley_dataset_full.csv', 'columns_of_interest': 14, 'epochs': 50, 'test_size': 0.5, 'accuracy_on_validation_data': 0.943958126522877, 'accuracy_on_new_data': 72.85214348206475}\n",
      "{'csv_path': '/kaggle/input/zzzzzz/mendeley_dataset_full.csv', 'columns_of_interest': 14, 'epochs': 50, 'test_size': 0.4, 'accuracy_on_validation_data': 0.9430045968583435, 'accuracy_on_new_data': 75.70428696412948}\n",
      "{'csv_path': '/kaggle/input/zzzzzz/mendeley_dataset_full.csv', 'columns_of_interest': 14, 'epochs': 50, 'test_size': 0.3, 'accuracy_on_validation_data': 0.9442376386538823, 'accuracy_on_new_data': 74.750656167979}\n",
      "{'csv_path': '/kaggle/input/zzzzzz/mendeley_dataset_full.csv', 'columns_of_interest': 14, 'epochs': 50, 'test_size': 0.2, 'accuracy_on_validation_data': 0.9429780033840948, 'accuracy_on_new_data': 76.78915135608048}\n",
      "{'csv_path': '/kaggle/input/zzzzzz/mendeley_dataset_full.csv', 'columns_of_interest': 15, 'epochs': 10, 'test_size': 0.5, 'accuracy_on_validation_data': 0.9294287519176969, 'accuracy_on_new_data': 71.41732283464567}\n",
      "{'csv_path': '/kaggle/input/zzzzzz/mendeley_dataset_full.csv', 'columns_of_interest': 15, 'epochs': 10, 'test_size': 0.4, 'accuracy_on_validation_data': 0.9311317296032037, 'accuracy_on_new_data': 73.60454943132109}\n",
      "{'csv_path': '/kaggle/input/zzzzzz/mendeley_dataset_full.csv', 'columns_of_interest': 15, 'epochs': 10, 'test_size': 0.3, 'accuracy_on_validation_data': 0.9310772701635646, 'accuracy_on_new_data': 68.50393700787401}\n",
      "{'csv_path': '/kaggle/input/zzzzzz/mendeley_dataset_full.csv', 'columns_of_interest': 15, 'epochs': 10, 'test_size': 0.2, 'accuracy_on_validation_data': 0.9368302312464749, 'accuracy_on_new_data': 72.75590551181102}\n",
      "{'csv_path': '/kaggle/input/zzzzzz/mendeley_dataset_full.csv', 'columns_of_interest': 15, 'epochs': 20, 'test_size': 0.5, 'accuracy_on_validation_data': 0.9363324609692266, 'accuracy_on_new_data': 73.51706036745406}\n",
      "{'csv_path': '/kaggle/input/zzzzzz/mendeley_dataset_full.csv', 'columns_of_interest': 15, 'epochs': 20, 'test_size': 0.4, 'accuracy_on_validation_data': 0.9346005245494797, 'accuracy_on_new_data': 75.98425196850394}\n",
      "{'csv_path': '/kaggle/input/zzzzzz/mendeley_dataset_full.csv', 'columns_of_interest': 15, 'epochs': 20, 'test_size': 0.3, 'accuracy_on_validation_data': 0.9405903365294228, 'accuracy_on_new_data': 73.27209098862643}\n",
      "{'csv_path': '/kaggle/input/zzzzzz/mendeley_dataset_full.csv', 'columns_of_interest': 15, 'epochs': 20, 'test_size': 0.2, 'accuracy_on_validation_data': 0.9434292160180485, 'accuracy_on_new_data': 75.01312335958005}\n",
      "{'csv_path': '/kaggle/input/zzzzzz/mendeley_dataset_full.csv', 'columns_of_interest': 15, 'epochs': 30, 'test_size': 0.5, 'accuracy_on_validation_data': 0.9440934933670246, 'accuracy_on_new_data': 74.41819772528434}\n",
      "{'csv_path': '/kaggle/input/zzzzzz/mendeley_dataset_full.csv', 'columns_of_interest': 15, 'epochs': 30, 'test_size': 0.4, 'accuracy_on_validation_data': 0.9426097746693364, 'accuracy_on_new_data': 71.89851268591426}\n",
      "{'csv_path': '/kaggle/input/zzzzzz/mendeley_dataset_full.csv', 'columns_of_interest': 15, 'epochs': 30, 'test_size': 0.3, 'accuracy_on_validation_data': 0.94295920285768, 'accuracy_on_new_data': 74.36570428696413}\n",
      "{'csv_path': '/kaggle/input/zzzzzz/mendeley_dataset_full.csv', 'columns_of_interest': 15, 'epochs': 30, 'test_size': 0.2, 'accuracy_on_validation_data': 0.9439932318104907, 'accuracy_on_new_data': 74.85564304461943}\n",
      "{'csv_path': '/kaggle/input/zzzzzz/mendeley_dataset_full.csv', 'columns_of_interest': 15, 'epochs': 40, 'test_size': 0.5, 'accuracy_on_validation_data': 0.9431459254579911, 'accuracy_on_new_data': 74.89938757655294}\n",
      "{'csv_path': '/kaggle/input/zzzzzz/mendeley_dataset_full.csv', 'columns_of_interest': 15, 'epochs': 40, 'test_size': 0.4, 'accuracy_on_validation_data': 0.9452325220677402, 'accuracy_on_new_data': 75.09186351706036}\n",
      "{'csv_path': '/kaggle/input/zzzzzz/mendeley_dataset_full.csv', 'columns_of_interest': 15, 'epochs': 40, 'test_size': 0.3, 'accuracy_on_validation_data': 0.9471329197217522, 'accuracy_on_new_data': 73.87576552930884}\n",
      "{'csv_path': '/kaggle/input/zzzzzz/mendeley_dataset_full.csv', 'columns_of_interest': 15, 'epochs': 40, 'test_size': 0.2, 'accuracy_on_validation_data': 0.9444444444444444, 'accuracy_on_new_data': 74.40069991251093}\n",
      "{'csv_path': '/kaggle/input/zzzzzz/mendeley_dataset_full.csv', 'columns_of_interest': 15, 'epochs': 50, 'test_size': 0.5, 'accuracy_on_validation_data': 0.9461916794513131, 'accuracy_on_new_data': 76.40419947506561}\n",
      "{'csv_path': '/kaggle/input/zzzzzz/mendeley_dataset_full.csv', 'columns_of_interest': 15, 'epochs': 50, 'test_size': 0.4, 'accuracy_on_validation_data': 0.9462195775402578, 'accuracy_on_new_data': 73.6482939632546}\n",
      "{'csv_path': '/kaggle/input/zzzzzz/mendeley_dataset_full.csv', 'columns_of_interest': 15, 'epochs': 50, 'test_size': 0.3, 'accuracy_on_validation_data': 0.9471329197217522, 'accuracy_on_new_data': 76.28171478565179}\n",
      "{'csv_path': '/kaggle/input/zzzzzz/mendeley_dataset_full.csv', 'columns_of_interest': 15, 'epochs': 50, 'test_size': 0.2, 'accuracy_on_validation_data': 0.9473773265651438, 'accuracy_on_new_data': 74.09448818897638}\n",
      "{'csv_path': '/kaggle/input/zzzzzz/mendeley_dataset_full.csv', 'columns_of_interest': 16, 'epochs': 10, 'test_size': 0.5, 'accuracy_on_validation_data': 0.9307372980777908, 'accuracy_on_new_data': 73.06211723534558}\n",
      "{'csv_path': '/kaggle/input/zzzzzz/mendeley_dataset_full.csv', 'columns_of_interest': 16, 'epochs': 10, 'test_size': 0.4, 'accuracy_on_validation_data': 0.9329930342085225, 'accuracy_on_new_data': 71.16360454943133}\n",
      "{'csv_path': '/kaggle/input/zzzzzz/mendeley_dataset_full.csv', 'columns_of_interest': 16, 'epochs': 10, 'test_size': 0.3, 'accuracy_on_validation_data': 0.932054897537131, 'accuracy_on_new_data': 72.58092738407699}\n",
      "{'csv_path': '/kaggle/input/zzzzzz/mendeley_dataset_full.csv', 'columns_of_interest': 16, 'epochs': 10, 'test_size': 0.2, 'accuracy_on_validation_data': 0.9328821206993796, 'accuracy_on_new_data': 70.62117235345582}\n",
      "{'csv_path': '/kaggle/input/zzzzzz/mendeley_dataset_full.csv', 'columns_of_interest': 16, 'epochs': 20, 'test_size': 0.5, 'accuracy_on_validation_data': 0.9363324609692266, 'accuracy_on_new_data': 71.0673665791776}\n",
      "{'csv_path': '/kaggle/input/zzzzzz/mendeley_dataset_full.csv', 'columns_of_interest': 16, 'epochs': 20, 'test_size': 0.4, 'accuracy_on_validation_data': 0.9351081530782029, 'accuracy_on_new_data': 71.15485564304463}\n",
      "{'csv_path': '/kaggle/input/zzzzzz/mendeley_dataset_full.csv', 'columns_of_interest': 16, 'epochs': 20, 'test_size': 0.3, 'accuracy_on_validation_data': 0.9434104154916337, 'accuracy_on_new_data': 73.41207349081364}\n",
      "{'csv_path': '/kaggle/input/zzzzzz/mendeley_dataset_full.csv', 'columns_of_interest': 16, 'epochs': 20, 'test_size': 0.2, 'accuracy_on_validation_data': 0.9407783417935702, 'accuracy_on_new_data': 75.60804899387577}\n",
      "{'csv_path': '/kaggle/input/zzzzzz/mendeley_dataset_full.csv', 'columns_of_interest': 16, 'epochs': 30, 'test_size': 0.5, 'accuracy_on_validation_data': 0.9378440573955419, 'accuracy_on_new_data': 75.02187226596675}\n",
      "{'csv_path': '/kaggle/input/zzzzzz/mendeley_dataset_full.csv', 'columns_of_interest': 16, 'epochs': 30, 'test_size': 0.4, 'accuracy_on_validation_data': 0.944386474519868, 'accuracy_on_new_data': 72.59842519685039}\n",
      "{'csv_path': '/kaggle/input/zzzzzz/mendeley_dataset_full.csv', 'columns_of_interest': 16, 'epochs': 30, 'test_size': 0.3, 'accuracy_on_validation_data': 0.9447264523406655, 'accuracy_on_new_data': 75.41557305336833}\n",
      "{'csv_path': '/kaggle/input/zzzzzz/mendeley_dataset_full.csv', 'columns_of_interest': 16, 'epochs': 30, 'test_size': 0.2, 'accuracy_on_validation_data': 0.9473209249858996, 'accuracy_on_new_data': 75.74803149606299}\n",
      "{'csv_path': '/kaggle/input/zzzzzz/mendeley_dataset_full.csv', 'columns_of_interest': 16, 'epochs': 40, 'test_size': 0.5, 'accuracy_on_validation_data': 0.9428300694883134, 'accuracy_on_new_data': 76.71041119860017}\n",
      "{'csv_path': '/kaggle/input/zzzzzz/mendeley_dataset_full.csv', 'columns_of_interest': 16, 'epochs': 40, 'test_size': 0.4, 'accuracy_on_validation_data': 0.9463323838799741, 'accuracy_on_new_data': 76.91163604549432}\n",
      "{'csv_path': '/kaggle/input/zzzzzz/mendeley_dataset_full.csv', 'columns_of_interest': 16, 'epochs': 40, 'test_size': 0.3, 'accuracy_on_validation_data': 0.9473961270915585, 'accuracy_on_new_data': 75.52055993000874}\n",
      "{'csv_path': '/kaggle/input/zzzzzz/mendeley_dataset_full.csv', 'columns_of_interest': 16, 'epochs': 40, 'test_size': 0.2, 'accuracy_on_validation_data': 0.9477157360406091, 'accuracy_on_new_data': 76.60542432195976}\n",
      "{'csv_path': '/kaggle/input/zzzzzz/mendeley_dataset_full.csv', 'columns_of_interest': 16, 'epochs': 50, 'test_size': 0.5, 'accuracy_on_validation_data': 0.9465075354209909, 'accuracy_on_new_data': 72.30096237970254}\n",
      "{'csv_path': '/kaggle/input/zzzzzz/mendeley_dataset_full.csv', 'columns_of_interest': 16, 'epochs': 50, 'test_size': 0.4, 'accuracy_on_validation_data': 0.9391127781381313, 'accuracy_on_new_data': 70.498687664042}\n",
      "{'csv_path': '/kaggle/input/zzzzzz/mendeley_dataset_full.csv', 'columns_of_interest': 16, 'epochs': 50, 'test_size': 0.3, 'accuracy_on_validation_data': 0.9442000376010529, 'accuracy_on_new_data': 76.59667541557306}\n",
      "{'csv_path': '/kaggle/input/zzzzzz/mendeley_dataset_full.csv', 'columns_of_interest': 16, 'epochs': 50, 'test_size': 0.2, 'accuracy_on_validation_data': 0.9491257755217146, 'accuracy_on_new_data': 76.22047244094489}\n",
      "{'csv_path': '/kaggle/input/zzzzzz/mendeley_dataset_full.csv', 'columns_of_interest': 17, 'epochs': 10, 'test_size': 0.5, 'accuracy_on_validation_data': 0.9292257016514754, 'accuracy_on_new_data': 72.33595800524935}\n",
      "{'csv_path': '/kaggle/input/zzzzzz/mendeley_dataset_full.csv', 'columns_of_interest': 17, 'epochs': 10, 'test_size': 0.4, 'accuracy_on_validation_data': 0.9325982120195155, 'accuracy_on_new_data': 72.09973753280839}\n",
      "{'csv_path': '/kaggle/input/zzzzzz/mendeley_dataset_full.csv', 'columns_of_interest': 17, 'epochs': 10, 'test_size': 0.3, 'accuracy_on_validation_data': 0.9315284827975183, 'accuracy_on_new_data': 71.67979002624672}\n",
      "{'csv_path': '/kaggle/input/zzzzzz/mendeley_dataset_full.csv', 'columns_of_interest': 17, 'epochs': 10, 'test_size': 0.2, 'accuracy_on_validation_data': 0.9362662154540327, 'accuracy_on_new_data': 72.31846019247594}\n",
      "{'csv_path': '/kaggle/input/zzzzzz/mendeley_dataset_full.csv', 'columns_of_interest': 17, 'epochs': 20, 'test_size': 0.5, 'accuracy_on_validation_data': 0.9362873386878441, 'accuracy_on_new_data': 71.84601924759406}\n",
      "{'csv_path': '/kaggle/input/zzzzzz/mendeley_dataset_full.csv', 'columns_of_interest': 17, 'epochs': 20, 'test_size': 0.4, 'accuracy_on_validation_data': 0.9433994190473505, 'accuracy_on_new_data': 72.30971128608924}\n",
      "{'csv_path': '/kaggle/input/zzzzzz/mendeley_dataset_full.csv', 'columns_of_interest': 17, 'epochs': 20, 'test_size': 0.3, 'accuracy_on_validation_data': 0.9380334649370182, 'accuracy_on_new_data': 74.23447069116361}\n",
      "{'csv_path': '/kaggle/input/zzzzzz/mendeley_dataset_full.csv', 'columns_of_interest': 17, 'epochs': 20, 'test_size': 0.2, 'accuracy_on_validation_data': 0.9434292160180485, 'accuracy_on_new_data': 72.29221347331584}\n",
      "{'csv_path': '/kaggle/input/zzzzzz/mendeley_dataset_full.csv', 'columns_of_interest': 17, 'epochs': 30, 'test_size': 0.5, 'accuracy_on_validation_data': 0.9411831062178504, 'accuracy_on_new_data': 76.00174978127734}\n",
      "{'csv_path': '/kaggle/input/zzzzzz/mendeley_dataset_full.csv', 'columns_of_interest': 17, 'epochs': 30, 'test_size': 0.4, 'accuracy_on_validation_data': 0.9449505062184494, 'accuracy_on_new_data': 75.2405949256343}\n",
      "{'csv_path': '/kaggle/input/zzzzzz/mendeley_dataset_full.csv', 'columns_of_interest': 17, 'epochs': 30, 'test_size': 0.3, 'accuracy_on_validation_data': 0.9464937018236511, 'accuracy_on_new_data': 73.1408573928259}\n",
      "{'csv_path': '/kaggle/input/zzzzzz/mendeley_dataset_full.csv', 'columns_of_interest': 17, 'epochs': 30, 'test_size': 0.2, 'accuracy_on_validation_data': 0.941737168640722, 'accuracy_on_new_data': 77.48906386701663}\n",
      "{'csv_path': '/kaggle/input/zzzzzz/mendeley_dataset_full.csv', 'columns_of_interest': 17, 'epochs': 40, 'test_size': 0.5, 'accuracy_on_validation_data': 0.9448605721505279, 'accuracy_on_new_data': 75.92300962379703}\n",
      "{'csv_path': '/kaggle/input/zzzzzz/mendeley_dataset_full.csv', 'columns_of_interest': 17, 'epochs': 40, 'test_size': 0.4, 'accuracy_on_validation_data': 0.9445838856143716, 'accuracy_on_new_data': 75.66054243219598}\n",
      "{'csv_path': '/kaggle/input/zzzzzz/mendeley_dataset_full.csv', 'columns_of_interest': 17, 'epochs': 40, 'test_size': 0.3, 'accuracy_on_validation_data': 0.9448016544463245, 'accuracy_on_new_data': 70.81364829396325}\n",
      "{'csv_path': '/kaggle/input/zzzzzz/mendeley_dataset_full.csv', 'columns_of_interest': 17, 'epochs': 40, 'test_size': 0.2, 'accuracy_on_validation_data': 0.9455724760293288, 'accuracy_on_new_data': 72.85214348206475}\n",
      "{'csv_path': '/kaggle/input/zzzzzz/mendeley_dataset_full.csv', 'columns_of_interest': 17, 'epochs': 50, 'test_size': 0.5, 'accuracy_on_validation_data': 0.9441611767890985, 'accuracy_on_new_data': 71.96850393700788}\n",
      "{'csv_path': '/kaggle/input/zzzzzz/mendeley_dataset_full.csv', 'columns_of_interest': 17, 'epochs': 50, 'test_size': 0.4, 'accuracy_on_validation_data': 0.9485321075044417, 'accuracy_on_new_data': 74.03324584426947}\n",
      "{'csv_path': '/kaggle/input/zzzzzz/mendeley_dataset_full.csv', 'columns_of_interest': 17, 'epochs': 50, 'test_size': 0.3, 'accuracy_on_validation_data': 0.9505170144764054, 'accuracy_on_new_data': 73.43832020997375}\n",
      "{'csv_path': '/kaggle/input/zzzzzz/mendeley_dataset_full.csv', 'columns_of_interest': 17, 'epochs': 50, 'test_size': 0.2, 'accuracy_on_validation_data': 0.9491821771009589, 'accuracy_on_new_data': 71.76727909011373}\n",
      "{'csv_path': '/kaggle/input/zzzzzz/mendeley_dataset_full.csv', 'columns_of_interest': 18, 'epochs': 10, 'test_size': 0.5, 'accuracy_on_validation_data': 0.9262025087988449, 'accuracy_on_new_data': 72.90463692038495}\n",
      "{'csv_path': '/kaggle/input/zzzzzz/mendeley_dataset_full.csv', 'columns_of_interest': 18, 'epochs': 10, 'test_size': 0.4, 'accuracy_on_validation_data': 0.9322315914154375, 'accuracy_on_new_data': 75.50306211723534}\n",
      "{'csv_path': '/kaggle/input/zzzzzz/mendeley_dataset_full.csv', 'columns_of_interest': 18, 'epochs': 10, 'test_size': 0.3, 'accuracy_on_validation_data': 0.9369430344049633, 'accuracy_on_new_data': 73.56080489938758}\n",
      "{'csv_path': '/kaggle/input/zzzzzz/mendeley_dataset_full.csv', 'columns_of_interest': 18, 'epochs': 10, 'test_size': 0.2, 'accuracy_on_validation_data': 0.9358714043993231, 'accuracy_on_new_data': 73.1321084864392}\n",
      "{'csv_path': '/kaggle/input/zzzzzz/mendeley_dataset_full.csv', 'columns_of_interest': 18, 'epochs': 20, 'test_size': 0.5, 'accuracy_on_validation_data': 0.9409123725295551, 'accuracy_on_new_data': 75.8442694663167}\n",
      "{'csv_path': '/kaggle/input/zzzzzz/mendeley_dataset_full.csv', 'columns_of_interest': 18, 'epochs': 20, 'test_size': 0.4, 'accuracy_on_validation_data': 0.9439634507459319, 'accuracy_on_new_data': 75.61679790026247}\n",
      "{'csv_path': '/kaggle/input/zzzzzz/mendeley_dataset_full.csv', 'columns_of_interest': 18, 'epochs': 20, 'test_size': 0.3, 'accuracy_on_validation_data': 0.9445760481293476, 'accuracy_on_new_data': 75.76552930883639}\n",
      "{'csv_path': '/kaggle/input/zzzzzz/mendeley_dataset_full.csv', 'columns_of_interest': 18, 'epochs': 20, 'test_size': 0.2, 'accuracy_on_validation_data': 0.9463620981387478, 'accuracy_on_new_data': 75.8092738407699}\n",
      "{'csv_path': '/kaggle/input/zzzzzz/mendeley_dataset_full.csv', 'columns_of_interest': 18, 'epochs': 30, 'test_size': 0.5, 'accuracy_on_validation_data': 0.9426044580814006, 'accuracy_on_new_data': 74.41819772528434}\n",
      "{'csv_path': '/kaggle/input/zzzzzz/mendeley_dataset_full.csv', 'columns_of_interest': 18, 'epochs': 30, 'test_size': 0.4, 'accuracy_on_validation_data': 0.9470374235032009, 'accuracy_on_new_data': 74.12073490813648}\n",
      "{'csv_path': '/kaggle/input/zzzzzz/mendeley_dataset_full.csv', 'columns_of_interest': 18, 'epochs': 30, 'test_size': 0.3, 'accuracy_on_validation_data': 0.9482609513066366, 'accuracy_on_new_data': 76.20297462817149}\n",
      "{'csv_path': '/kaggle/input/zzzzzz/mendeley_dataset_full.csv', 'columns_of_interest': 18, 'epochs': 30, 'test_size': 0.2, 'accuracy_on_validation_data': 0.950253807106599, 'accuracy_on_new_data': 76.47419072615924}\n",
      "{'csv_path': '/kaggle/input/zzzzzz/mendeley_dataset_full.csv', 'columns_of_interest': 18, 'epochs': 40, 'test_size': 0.5, 'accuracy_on_validation_data': 0.9472069307824204, 'accuracy_on_new_data': 76.40419947506561}\n",
      "{'csv_path': '/kaggle/input/zzzzzz/mendeley_dataset_full.csv', 'columns_of_interest': 18, 'epochs': 40, 'test_size': 0.4, 'accuracy_on_validation_data': 0.9469246171634846, 'accuracy_on_new_data': 76.18547681539808}\n",
      "{'csv_path': '/kaggle/input/zzzzzz/mendeley_dataset_full.csv', 'columns_of_interest': 18, 'epochs': 40, 'test_size': 0.3, 'accuracy_on_validation_data': 0.9456664786614025, 'accuracy_on_new_data': 77.3403324584427}\n",
      "{'csv_path': '/kaggle/input/zzzzzz/mendeley_dataset_full.csv', 'columns_of_interest': 18, 'epochs': 40, 'test_size': 0.2, 'accuracy_on_validation_data': 0.952058657642414, 'accuracy_on_new_data': 77.8740157480315}\n",
      "{'csv_path': '/kaggle/input/zzzzzz/mendeley_dataset_full.csv', 'columns_of_interest': 18, 'epochs': 50, 'test_size': 0.5, 'accuracy_on_validation_data': 0.9488764551935746, 'accuracy_on_new_data': 78.05774278215223}\n",
      "{'csv_path': '/kaggle/input/zzzzzz/mendeley_dataset_full.csv', 'columns_of_interest': 18, 'epochs': 50, 'test_size': 0.4, 'accuracy_on_validation_data': 0.9480808821455766, 'accuracy_on_new_data': 76.54418197725285}\n",
      "{'csv_path': '/kaggle/input/zzzzzz/mendeley_dataset_full.csv', 'columns_of_interest': 18, 'epochs': 50, 'test_size': 0.3, 'accuracy_on_validation_data': 0.9501034028952811, 'accuracy_on_new_data': 77.46281714785653}\n",
      "{'csv_path': '/kaggle/input/zzzzzz/mendeley_dataset_full.csv', 'columns_of_interest': 18, 'epochs': 50, 'test_size': 0.2, 'accuracy_on_validation_data': 0.9529046813310773, 'accuracy_on_new_data': 75.2668416447944}\n",
      "{'csv_path': '/kaggle/input/zzzzzz/mendeley_dataset_full.csv', 'columns_of_interest': 19, 'epochs': 10, 'test_size': 0.5, 'accuracy_on_validation_data': 0.9313013265950727, 'accuracy_on_new_data': 71.44356955380577}\n",
      "{'csv_path': '/kaggle/input/zzzzzz/mendeley_dataset_full.csv', 'columns_of_interest': 19, 'epochs': 10, 'test_size': 0.4, 'accuracy_on_validation_data': 0.9344313150399053, 'accuracy_on_new_data': 75.38932633420823}\n",
      "{'csv_path': '/kaggle/input/zzzzzz/mendeley_dataset_full.csv', 'columns_of_interest': 19, 'epochs': 10, 'test_size': 0.3, 'accuracy_on_validation_data': 0.9358902049257379, 'accuracy_on_new_data': 73.63079615048119}\n",
      "{'csv_path': '/kaggle/input/zzzzzz/mendeley_dataset_full.csv', 'columns_of_interest': 19, 'epochs': 10, 'test_size': 0.2, 'accuracy_on_validation_data': 0.9383530738860688, 'accuracy_on_new_data': 75.53805774278214}\n",
      "{'csv_path': '/kaggle/input/zzzzzz/mendeley_dataset_full.csv', 'columns_of_interest': 19, 'epochs': 20, 'test_size': 0.5, 'accuracy_on_validation_data': 0.9391526035556358, 'accuracy_on_new_data': 74.84689413823273}\n",
      "{'csv_path': '/kaggle/input/zzzzzz/mendeley_dataset_full.csv', 'columns_of_interest': 19, 'epochs': 20, 'test_size': 0.4, 'accuracy_on_validation_data': 0.94128430017767, 'accuracy_on_new_data': 76.43044619422572}\n",
      "{'csv_path': '/kaggle/input/zzzzzz/mendeley_dataset_full.csv', 'columns_of_interest': 19, 'epochs': 20, 'test_size': 0.3, 'accuracy_on_validation_data': 0.9453280691859373, 'accuracy_on_new_data': 74.62817147856518}\n",
      "{'csv_path': '/kaggle/input/zzzzzz/mendeley_dataset_full.csv', 'columns_of_interest': 19, 'epochs': 20, 'test_size': 0.2, 'accuracy_on_validation_data': 0.9418499717992104, 'accuracy_on_new_data': 76.06299212598425}\n",
      "{'csv_path': '/kaggle/input/zzzzzz/mendeley_dataset_full.csv', 'columns_of_interest': 19, 'epochs': 30, 'test_size': 0.5, 'accuracy_on_validation_data': 0.9451538669795145, 'accuracy_on_new_data': 77.65529308836395}\n",
      "{'csv_path': '/kaggle/input/zzzzzz/mendeley_dataset_full.csv', 'columns_of_interest': 19, 'epochs': 30, 'test_size': 0.4, 'accuracy_on_validation_data': 0.9447248935390169, 'accuracy_on_new_data': 75.99300087489064}\n",
      "{'csv_path': '/kaggle/input/zzzzzz/mendeley_dataset_full.csv', 'columns_of_interest': 19, 'epochs': 30, 'test_size': 0.3, 'accuracy_on_validation_data': 0.9458544839255499, 'accuracy_on_new_data': 78.73140857392826}\n",
      "{'csv_path': '/kaggle/input/zzzzzz/mendeley_dataset_full.csv', 'columns_of_interest': 19, 'epochs': 30, 'test_size': 0.2, 'accuracy_on_validation_data': 0.9494641849971799, 'accuracy_on_new_data': 75.20559930008748}\n",
      "{'csv_path': '/kaggle/input/zzzzzz/mendeley_dataset_full.csv', 'columns_of_interest': 19, 'epochs': 40, 'test_size': 0.5, 'accuracy_on_validation_data': 0.9468685136720513, 'accuracy_on_new_data': 76.69291338582677}\n",
      "{'csv_path': '/kaggle/input/zzzzzz/mendeley_dataset_full.csv', 'columns_of_interest': 19, 'epochs': 40, 'test_size': 0.4, 'accuracy_on_validation_data': 0.9437660396514284, 'accuracy_on_new_data': 75.03937007874015}\n",
      "{'csv_path': '/kaggle/input/zzzzzz/mendeley_dataset_full.csv', 'columns_of_interest': 19, 'epochs': 40, 'test_size': 0.3, 'accuracy_on_validation_data': 0.9486369618349314, 'accuracy_on_new_data': 74.82939632545931}\n",
      "{'csv_path': '/kaggle/input/zzzzzz/mendeley_dataset_full.csv', 'columns_of_interest': 19, 'epochs': 40, 'test_size': 0.2, 'accuracy_on_validation_data': 0.9508178228990412, 'accuracy_on_new_data': 75.52930883639544}\n",
      "{'csv_path': '/kaggle/input/zzzzzz/mendeley_dataset_full.csv', 'columns_of_interest': 19, 'epochs': 50, 'test_size': 0.5, 'accuracy_on_validation_data': 0.9477032758776284, 'accuracy_on_new_data': 76.8853893263342}\n",
      "{'csv_path': '/kaggle/input/zzzzzz/mendeley_dataset_full.csv', 'columns_of_interest': 19, 'epochs': 50, 'test_size': 0.4, 'accuracy_on_validation_data': 0.9498293804111791, 'accuracy_on_new_data': 72.44094488188976}\n",
      "{'csv_path': '/kaggle/input/zzzzzz/mendeley_dataset_full.csv', 'columns_of_interest': 19, 'epochs': 50, 'test_size': 0.3, 'accuracy_on_validation_data': 0.9492009776273735, 'accuracy_on_new_data': 74.40944881889764}\n",
      "{'csv_path': '/kaggle/input/zzzzzz/mendeley_dataset_full.csv', 'columns_of_interest': 19, 'epochs': 50, 'test_size': 0.2, 'accuracy_on_validation_data': 0.9510998307952623, 'accuracy_on_new_data': 76.8678915135608}\n",
      "{'csv_path': '/kaggle/input/zzzzzz/mendeley_dataset_full.csv', 'columns_of_interest': 20, 'epochs': 10, 'test_size': 0.5, 'accuracy_on_validation_data': 0.9304665643894955, 'accuracy_on_new_data': 71.44356955380577}\n",
      "{'csv_path': '/kaggle/input/zzzzzz/mendeley_dataset_full.csv', 'columns_of_interest': 20, 'epochs': 10, 'test_size': 0.4, 'accuracy_on_validation_data': 0.9300036662060408, 'accuracy_on_new_data': 71.63604549431322}\n",
      "{'csv_path': '/kaggle/input/zzzzzz/mendeley_dataset_full.csv', 'columns_of_interest': 20, 'epochs': 10, 'test_size': 0.3, 'accuracy_on_validation_data': 0.9358902049257379, 'accuracy_on_new_data': 73.77952755905511}\n",
      "{'csv_path': '/kaggle/input/zzzzzz/mendeley_dataset_full.csv', 'columns_of_interest': 20, 'epochs': 10, 'test_size': 0.2, 'accuracy_on_validation_data': 0.9375634517766498, 'accuracy_on_new_data': 72.0209973753281}\n",
      "{'csv_path': '/kaggle/input/zzzzzz/mendeley_dataset_full.csv', 'columns_of_interest': 20, 'epochs': 20, 'test_size': 0.5, 'accuracy_on_validation_data': 0.9416117678909846, 'accuracy_on_new_data': 77.3753280839895}\n",
      "{'csv_path': '/kaggle/input/zzzzzz/mendeley_dataset_full.csv', 'columns_of_interest': 20, 'epochs': 20, 'test_size': 0.4, 'accuracy_on_validation_data': 0.943625031726783, 'accuracy_on_new_data': 76.57917760279965}\n",
      "{'csv_path': '/kaggle/input/zzzzzz/mendeley_dataset_full.csv', 'columns_of_interest': 20, 'epochs': 20, 'test_size': 0.3, 'accuracy_on_validation_data': 0.9433352133859748, 'accuracy_on_new_data': 76.3167104111986}\n",
      "{'csv_path': '/kaggle/input/zzzzzz/mendeley_dataset_full.csv', 'columns_of_interest': 20, 'epochs': 20, 'test_size': 0.2, 'accuracy_on_validation_data': 0.9437676254935138, 'accuracy_on_new_data': 76.58792650918636}\n",
      "{'csv_path': '/kaggle/input/zzzzzz/mendeley_dataset_full.csv', 'columns_of_interest': 20, 'epochs': 30, 'test_size': 0.5, 'accuracy_on_validation_data': 0.9455148452305748, 'accuracy_on_new_data': 76.94663167104112}\n",
      "{'csv_path': '/kaggle/input/zzzzzz/mendeley_dataset_full.csv', 'columns_of_interest': 20, 'epochs': 30, 'test_size': 0.4, 'accuracy_on_validation_data': 0.9423841619899038, 'accuracy_on_new_data': 77.09536307961505}\n",
      "{'csv_path': '/kaggle/input/zzzzzz/mendeley_dataset_full.csv', 'columns_of_interest': 20, 'epochs': 30, 'test_size': 0.3, 'accuracy_on_validation_data': 0.9458544839255499, 'accuracy_on_new_data': 77.9702537182852}\n",
      "{'csv_path': '/kaggle/input/zzzzzz/mendeley_dataset_full.csv', 'columns_of_interest': 20, 'epochs': 30, 'test_size': 0.2, 'accuracy_on_validation_data': 0.9486745628877609, 'accuracy_on_new_data': 77.8565179352581}\n",
      "{'csv_path': '/kaggle/input/zzzzzz/mendeley_dataset_full.csv', 'columns_of_interest': 20, 'epochs': 40, 'test_size': 0.5, 'accuracy_on_validation_data': 0.9486734049273531, 'accuracy_on_new_data': 75.95800524934383}\n",
      "{'csv_path': '/kaggle/input/zzzzzz/mendeley_dataset_full.csv', 'columns_of_interest': 20, 'epochs': 40, 'test_size': 0.4, 'accuracy_on_validation_data': 0.950196001015257, 'accuracy_on_new_data': 76.08048993875765}\n",
      "{'csv_path': '/kaggle/input/zzzzzz/mendeley_dataset_full.csv', 'columns_of_interest': 20, 'epochs': 40, 'test_size': 0.3, 'accuracy_on_validation_data': 0.9481857492009776, 'accuracy_on_new_data': 77.74278215223097}\n",
      "{'csv_path': '/kaggle/input/zzzzzz/mendeley_dataset_full.csv', 'columns_of_interest': 20, 'epochs': 40, 'test_size': 0.2, 'accuracy_on_validation_data': 0.9500846023688664, 'accuracy_on_new_data': 77.80402449693788}\n",
      "{'csv_path': '/kaggle/input/zzzzzz/mendeley_dataset_full.csv', 'columns_of_interest': 20, 'epochs': 50, 'test_size': 0.5, 'accuracy_on_validation_data': 0.9490343831784135, 'accuracy_on_new_data': 77.13035870516185}\n",
      "{'csv_path': '/kaggle/input/zzzzzz/mendeley_dataset_full.csv', 'columns_of_interest': 20, 'epochs': 50, 'test_size': 0.4, 'accuracy_on_validation_data': 0.946304182295045, 'accuracy_on_new_data': 77.3665791776028}\n",
      "{'csv_path': '/kaggle/input/zzzzzz/mendeley_dataset_full.csv', 'columns_of_interest': 20, 'epochs': 50, 'test_size': 0.3, 'accuracy_on_validation_data': 0.9505170144764054, 'accuracy_on_new_data': 77.76902887139107}\n",
      "{'csv_path': '/kaggle/input/zzzzzz/mendeley_dataset_full.csv', 'columns_of_interest': 20, 'epochs': 50, 'test_size': 0.2, 'accuracy_on_validation_data': 0.9527918781725888, 'accuracy_on_new_data': 78.58267716535433}\n",
      "{'csv_path': '/kaggle/input/ssssssss/dataset_small.csv', 'columns_of_interest': 14, 'epochs': 10, 'test_size': 0.5, 'accuracy_on_validation_data': 0.8813900351260103, 'accuracy_on_new_data': 69.08136482939634}\n",
      "{'csv_path': '/kaggle/input/ssssssss/dataset_small.csv', 'columns_of_interest': 14, 'epochs': 10, 'test_size': 0.4, 'accuracy_on_validation_data': 0.8929149970159433, 'accuracy_on_new_data': 72.25721784776903}\n",
      "{'csv_path': '/kaggle/input/ssssssss/dataset_small.csv', 'columns_of_interest': 14, 'epochs': 10, 'test_size': 0.3, 'accuracy_on_validation_data': 0.898829146299875, 'accuracy_on_new_data': 71.60979877515311}\n",
      "{'csv_path': '/kaggle/input/ssssssss/dataset_small.csv', 'columns_of_interest': 14, 'epochs': 10, 'test_size': 0.2, 'accuracy_on_validation_data': 0.9012703555290306, 'accuracy_on_new_data': 71.26859142607174}\n",
      "{'csv_path': '/kaggle/input/ssssssss/dataset_small.csv', 'columns_of_interest': 14, 'epochs': 20, 'test_size': 0.5, 'accuracy_on_validation_data': 0.889301913173959, 'accuracy_on_new_data': 71.77602799650043}\n",
      "{'csv_path': '/kaggle/input/ssssssss/dataset_small.csv', 'columns_of_interest': 14, 'epochs': 20, 'test_size': 0.4, 'accuracy_on_validation_data': 0.9059169579674311, 'accuracy_on_new_data': 74.2869641294838}\n",
      "{'csv_path': '/kaggle/input/ssssssss/dataset_small.csv', 'columns_of_interest': 14, 'epochs': 20, 'test_size': 0.3, 'accuracy_on_validation_data': 0.9017278617710583, 'accuracy_on_new_data': 75.44181977252843}\n",
      "{'csv_path': '/kaggle/input/ssssssss/dataset_small.csv', 'columns_of_interest': 14, 'epochs': 20, 'test_size': 0.2, 'accuracy_on_validation_data': 0.9106488191661694, 'accuracy_on_new_data': 75.7130358705162}\n",
      "{'csv_path': '/kaggle/input/ssssssss/dataset_small.csv', 'columns_of_interest': 14, 'epochs': 30, 'test_size': 0.5, 'accuracy_on_validation_data': 0.9038297582102787, 'accuracy_on_new_data': 75.7830271216098}\n",
      "{'csv_path': '/kaggle/input/ssssssss/dataset_small.csv', 'columns_of_interest': 14, 'epochs': 30, 'test_size': 0.4, 'accuracy_on_validation_data': 0.9078779094551965, 'accuracy_on_new_data': 70.95363079615048}\n",
      "{'csv_path': '/kaggle/input/ssssssss/dataset_small.csv', 'columns_of_interest': 14, 'epochs': 30, 'test_size': 0.3, 'accuracy_on_validation_data': 0.9099693077185405, 'accuracy_on_new_data': 74.65441819772528}\n",
      "{'csv_path': '/kaggle/input/ssssssss/dataset_small.csv', 'columns_of_interest': 14, 'epochs': 30, 'test_size': 0.2, 'accuracy_on_validation_data': 0.9079205388353654, 'accuracy_on_new_data': 76.19422572178478}\n",
      "{'csv_path': '/kaggle/input/ssssssss/dataset_small.csv', 'columns_of_interest': 14, 'epochs': 40, 'test_size': 0.5, 'accuracy_on_validation_data': 0.9112300924189203, 'accuracy_on_new_data': 76.95538057742782}\n",
      "{'csv_path': '/kaggle/input/ssssssss/dataset_small.csv', 'columns_of_interest': 14, 'epochs': 40, 'test_size': 0.4, 'accuracy_on_validation_data': 0.9163185267286214, 'accuracy_on_new_data': 73.92825896762905}\n",
      "{'csv_path': '/kaggle/input/ssssssss/dataset_small.csv', 'columns_of_interest': 14, 'epochs': 40, 'test_size': 0.3, 'accuracy_on_validation_data': 0.9143457997044447, 'accuracy_on_new_data': 73.63079615048119}\n",
      "{'csv_path': '/kaggle/input/ssssssss/dataset_small.csv', 'columns_of_interest': 14, 'epochs': 40, 'test_size': 0.2, 'accuracy_on_validation_data': 0.9169579674311535, 'accuracy_on_new_data': 75.51181102362204}\n",
      "{'csv_path': '/kaggle/input/ssssssss/dataset_small.csv', 'columns_of_interest': 14, 'epochs': 50, 'test_size': 0.5, 'accuracy_on_validation_data': 0.9210517341336153, 'accuracy_on_new_data': 75.45056867891513}\n",
      "{'csv_path': '/kaggle/input/ssssssss/dataset_small.csv', 'columns_of_interest': 14, 'epochs': 50, 'test_size': 0.4, 'accuracy_on_validation_data': 0.9223718987125927, 'accuracy_on_new_data': 74.53193350831147}\n",
      "{'csv_path': '/kaggle/input/ssssssss/dataset_small.csv', 'columns_of_interest': 14, 'epochs': 50, 'test_size': 0.3, 'accuracy_on_validation_data': 0.918381266340798, 'accuracy_on_new_data': 74.60192475940507}\n",
      "{'csv_path': '/kaggle/input/ssssssss/dataset_small.csv', 'columns_of_interest': 14, 'epochs': 50, 'test_size': 0.2, 'accuracy_on_validation_data': 0.9208798704066843, 'accuracy_on_new_data': 75.19685039370079}\n",
      "{'csv_path': '/kaggle/input/ssssssss/dataset_small.csv', 'columns_of_interest': 15, 'epochs': 10, 'test_size': 0.5, 'accuracy_on_validation_data': 0.8903591037751936, 'accuracy_on_new_data': 71.46106736657917}\n",
      "{'csv_path': '/kaggle/input/ssssssss/dataset_small.csv', 'columns_of_interest': 15, 'epochs': 10, 'test_size': 0.4, 'accuracy_on_validation_data': 0.9001619916446415, 'accuracy_on_new_data': 70.68241469816273}\n",
      "{'csv_path': '/kaggle/input/ssssssss/dataset_small.csv', 'columns_of_interest': 15, 'epochs': 10, 'test_size': 0.3, 'accuracy_on_validation_data': 0.8937137660566102, 'accuracy_on_new_data': 73.97200349956256}\n",
      "{'csv_path': '/kaggle/input/ssssssss/dataset_small.csv', 'columns_of_interest': 15, 'epochs': 10, 'test_size': 0.2, 'accuracy_on_validation_data': 0.8996504390826158, 'accuracy_on_new_data': 71.99475065616798}\n",
      "{'csv_path': '/kaggle/input/ssssssss/dataset_small.csv', 'columns_of_interest': 15, 'epochs': 20, 'test_size': 0.5, 'accuracy_on_validation_data': 0.8961566006206731, 'accuracy_on_new_data': 66.63167104111986}\n",
      "{'csv_path': '/kaggle/input/ssssssss/dataset_small.csv', 'columns_of_interest': 15, 'epochs': 20, 'test_size': 0.4, 'accuracy_on_validation_data': 0.908218944496547, 'accuracy_on_new_data': 73.92825896762905}\n",
      "{'csv_path': '/kaggle/input/ssssssss/dataset_small.csv', 'columns_of_interest': 15, 'epochs': 20, 'test_size': 0.3, 'accuracy_on_validation_data': 0.9098556326020234, 'accuracy_on_new_data': 72.21347331583551}\n",
      "{'csv_path': '/kaggle/input/ssssssss/dataset_small.csv', 'columns_of_interest': 15, 'epochs': 20, 'test_size': 0.2, 'accuracy_on_validation_data': 0.9120982180919089, 'accuracy_on_new_data': 75.19685039370079}\n",
      "{'csv_path': '/kaggle/input/ssssssss/dataset_small.csv', 'columns_of_interest': 15, 'epochs': 30, 'test_size': 0.5, 'accuracy_on_validation_data': 0.9070354329366027, 'accuracy_on_new_data': 71.33858267716535}\n",
      "{'csv_path': '/kaggle/input/ssssssss/dataset_small.csv', 'columns_of_interest': 15, 'epochs': 30, 'test_size': 0.4, 'accuracy_on_validation_data': 0.9149117571830505, 'accuracy_on_new_data': 72.84339457567805}\n",
      "{'csv_path': '/kaggle/input/ssssssss/dataset_small.csv', 'columns_of_interest': 15, 'epochs': 30, 'test_size': 0.3, 'accuracy_on_validation_data': 0.9205410935546209, 'accuracy_on_new_data': 72.99212598425197}\n",
      "{'csv_path': '/kaggle/input/ssssssss/dataset_small.csv', 'columns_of_interest': 15, 'epochs': 30, 'test_size': 0.2, 'accuracy_on_validation_data': 0.920027282803308, 'accuracy_on_new_data': 75.21434820647418}\n",
      "{'csv_path': '/kaggle/input/ssssssss/dataset_small.csv', 'columns_of_interest': 15, 'epochs': 40, 'test_size': 0.5, 'accuracy_on_validation_data': 0.9194147938478328, 'accuracy_on_new_data': 73.75328083989501}\n",
      "{'csv_path': '/kaggle/input/ssssssss/dataset_small.csv', 'columns_of_interest': 15, 'epochs': 40, 'test_size': 0.4, 'accuracy_on_validation_data': 0.9181515900758803, 'accuracy_on_new_data': 76.36920384951881}\n",
      "{'csv_path': '/kaggle/input/ssssssss/dataset_small.csv', 'columns_of_interest': 15, 'epochs': 40, 'test_size': 0.3, 'accuracy_on_validation_data': 0.917812890758213, 'accuracy_on_new_data': 74.33945756780402}\n",
      "{'csv_path': '/kaggle/input/ssssssss/dataset_small.csv', 'columns_of_interest': 15, 'epochs': 40, 'test_size': 0.2, 'accuracy_on_validation_data': 0.9201125415636456, 'accuracy_on_new_data': 76.18547681539808}\n",
      "{'csv_path': '/kaggle/input/ssssssss/dataset_small.csv', 'columns_of_interest': 15, 'epochs': 50, 'test_size': 0.5, 'accuracy_on_validation_data': 0.9208812195205129, 'accuracy_on_new_data': 75.31058617672791}\n",
      "{'csv_path': '/kaggle/input/ssssssss/dataset_small.csv', 'columns_of_interest': 15, 'epochs': 50, 'test_size': 0.4, 'accuracy_on_validation_data': 0.9186205132577372, 'accuracy_on_new_data': 68.67016622922135}\n",
      "{'csv_path': '/kaggle/input/ssssssss/dataset_small.csv', 'columns_of_interest': 15, 'epochs': 50, 'test_size': 0.3, 'accuracy_on_validation_data': 0.9254859611231101, 'accuracy_on_new_data': 75.66054243219598}\n",
      "{'csv_path': '/kaggle/input/ssssssss/dataset_small.csv', 'columns_of_interest': 15, 'epochs': 50, 'test_size': 0.2, 'accuracy_on_validation_data': 0.9242902208201893, 'accuracy_on_new_data': 76.21172353455819}\n",
      "{'csv_path': '/kaggle/input/ssssssss/dataset_small.csv', 'columns_of_interest': 16, 'epochs': 10, 'test_size': 0.5, 'accuracy_on_validation_data': 0.8941445281860655, 'accuracy_on_new_data': 72.23097112860893}\n",
      "{'csv_path': '/kaggle/input/ssssssss/dataset_small.csv', 'columns_of_interest': 16, 'epochs': 10, 'test_size': 0.4, 'accuracy_on_validation_data': 0.9036149714383153, 'accuracy_on_new_data': 73.32458442694663}\n",
      "{'csv_path': '/kaggle/input/ssssssss/dataset_small.csv', 'columns_of_interest': 16, 'epochs': 10, 'test_size': 0.3, 'accuracy_on_validation_data': 0.898601796066841, 'accuracy_on_new_data': 72.79965004374453}\n",
      "{'csv_path': '/kaggle/input/ssssssss/dataset_small.csv', 'columns_of_interest': 16, 'epochs': 10, 'test_size': 0.2, 'accuracy_on_validation_data': 0.9033165657771336, 'accuracy_on_new_data': 74.2869641294838}\n",
      "{'csv_path': '/kaggle/input/ssssssss/dataset_small.csv', 'columns_of_interest': 16, 'epochs': 20, 'test_size': 0.5, 'accuracy_on_validation_data': 0.9049892575793745, 'accuracy_on_new_data': 73.81452318460192}\n",
      "{'csv_path': '/kaggle/input/ssssssss/dataset_small.csv', 'columns_of_interest': 16, 'epochs': 20, 'test_size': 0.4, 'accuracy_on_validation_data': 0.9103930428851564, 'accuracy_on_new_data': 76.08923884514437}\n",
      "{'csv_path': '/kaggle/input/ssssssss/dataset_small.csv', 'columns_of_interest': 16, 'epochs': 20, 'test_size': 0.3, 'accuracy_on_validation_data': 0.9100261452767989, 'accuracy_on_new_data': 75.7217847769029}\n",
      "{'csv_path': '/kaggle/input/ssssssss/dataset_small.csv', 'columns_of_interest': 16, 'epochs': 20, 'test_size': 0.2, 'accuracy_on_validation_data': 0.9132918407366357, 'accuracy_on_new_data': 76.07174103237095}\n",
      "{'csv_path': '/kaggle/input/ssssssss/dataset_small.csv', 'columns_of_interest': 16, 'epochs': 30, 'test_size': 0.5, 'accuracy_on_validation_data': 0.9144698700678648, 'accuracy_on_new_data': 76.99912510936133}\n",
      "{'csv_path': '/kaggle/input/ssssssss/dataset_small.csv', 'columns_of_interest': 16, 'epochs': 30, 'test_size': 0.4, 'accuracy_on_validation_data': 0.9210930173075284, 'accuracy_on_new_data': 74.32195975503062}\n",
      "{'csv_path': '/kaggle/input/ssssssss/dataset_small.csv', 'columns_of_interest': 16, 'epochs': 30, 'test_size': 0.3, 'accuracy_on_validation_data': 0.9208821189041719, 'accuracy_on_new_data': 75.69553805774278}\n",
      "{'csv_path': '/kaggle/input/ssssssss/dataset_small.csv', 'columns_of_interest': 16, 'epochs': 30, 'test_size': 0.2, 'accuracy_on_validation_data': 0.9197715065222951, 'accuracy_on_new_data': 73.78827646544181}\n",
      "{'csv_path': '/kaggle/input/ssssssss/dataset_small.csv', 'columns_of_interest': 16, 'epochs': 40, 'test_size': 0.5, 'accuracy_on_validation_data': 0.9192442792347304, 'accuracy_on_new_data': 73.02712160979877}\n",
      "{'csv_path': '/kaggle/input/ssssssss/dataset_small.csv', 'columns_of_interest': 16, 'epochs': 40, 'test_size': 0.4, 'accuracy_on_validation_data': 0.924332850200358, 'accuracy_on_new_data': 74.79440069991252}\n",
      "{'csv_path': '/kaggle/input/ssssssss/dataset_small.csv', 'columns_of_interest': 16, 'epochs': 40, 'test_size': 0.3, 'accuracy_on_validation_data': 0.9219051949528249, 'accuracy_on_new_data': 74.69816272965879}\n",
      "{'csv_path': '/kaggle/input/ssssssss/dataset_small.csv', 'columns_of_interest': 16, 'epochs': 40, 'test_size': 0.2, 'accuracy_on_validation_data': 0.9201978003239832, 'accuracy_on_new_data': 74.29571303587052}\n",
      "{'csv_path': '/kaggle/input/ssssssss/dataset_small.csv', 'columns_of_interest': 16, 'epochs': 50, 'test_size': 0.5, 'accuracy_on_validation_data': 0.9257920403778603, 'accuracy_on_new_data': 72.23097112860893}\n",
      "{'csv_path': '/kaggle/input/ssssssss/dataset_small.csv', 'columns_of_interest': 16, 'epochs': 50, 'test_size': 0.4, 'accuracy_on_validation_data': 0.9197288771421264, 'accuracy_on_new_data': 74.96937882764655}\n",
      "{'csv_path': '/kaggle/input/ssssssss/dataset_small.csv', 'columns_of_interest': 16, 'epochs': 50, 'test_size': 0.3, 'accuracy_on_validation_data': 0.9252586108900762, 'accuracy_on_new_data': 75.87051618547682}\n",
      "{'csv_path': '/kaggle/input/ssssssss/dataset_small.csv', 'columns_of_interest': 16, 'epochs': 50, 'test_size': 0.2, 'accuracy_on_validation_data': 0.9221587518117487, 'accuracy_on_new_data': 77.00787401574803}\n",
      "{'csv_path': '/kaggle/input/ssssssss/dataset_small.csv', 'columns_of_interest': 17, 'epochs': 10, 'test_size': 0.5, 'accuracy_on_validation_data': 0.8933260580431743, 'accuracy_on_new_data': 73.1058617672791}\n",
      "{'csv_path': '/kaggle/input/ssssssss/dataset_small.csv', 'columns_of_interest': 17, 'epochs': 10, 'test_size': 0.4, 'accuracy_on_validation_data': 0.9002046210248102, 'accuracy_on_new_data': 72.98337707786527}\n",
      "{'csv_path': '/kaggle/input/ssssssss/dataset_small.csv', 'columns_of_interest': 17, 'epochs': 10, 'test_size': 0.3, 'accuracy_on_validation_data': 0.9021825622371263, 'accuracy_on_new_data': 73.44706911636045}\n",
      "{'csv_path': '/kaggle/input/ssssssss/dataset_small.csv', 'columns_of_interest': 17, 'epochs': 10, 'test_size': 0.2, 'accuracy_on_validation_data': 0.9014408730497059, 'accuracy_on_new_data': 72.92213473315834}\n",
      "{'csv_path': '/kaggle/input/ssssssss/dataset_small.csv', 'columns_of_interest': 17, 'epochs': 20, 'test_size': 0.5, 'accuracy_on_validation_data': 0.906694403710398, 'accuracy_on_new_data': 74.89063867016623}\n",
      "{'csv_path': '/kaggle/input/ssssssss/dataset_small.csv', 'columns_of_interest': 17, 'epochs': 20, 'test_size': 0.4, 'accuracy_on_validation_data': 0.9093273083809361, 'accuracy_on_new_data': 72.30971128608924}\n",
      "{'csv_path': '/kaggle/input/ssssssss/dataset_small.csv', 'columns_of_interest': 17, 'epochs': 20, 'test_size': 0.3, 'accuracy_on_validation_data': 0.9097987950437649, 'accuracy_on_new_data': 76.74540682414698}\n",
      "{'csv_path': '/kaggle/input/ssssssss/dataset_small.csv', 'columns_of_interest': 17, 'epochs': 20, 'test_size': 0.2, 'accuracy_on_validation_data': 0.9112456304885327, 'accuracy_on_new_data': 74.05949256342957}\n",
      "{'csv_path': '/kaggle/input/ssssssss/dataset_small.csv', 'columns_of_interest': 17, 'epochs': 30, 'test_size': 0.5, 'accuracy_on_validation_data': 0.9133444736213894, 'accuracy_on_new_data': 77.79527559055119}\n",
      "{'csv_path': '/kaggle/input/ssssssss/dataset_small.csv', 'columns_of_interest': 17, 'epochs': 30, 'test_size': 0.4, 'accuracy_on_validation_data': 0.9191746951999318, 'accuracy_on_new_data': 75.13560804899387}\n",
      "{'csv_path': '/kaggle/input/ssssssss/dataset_small.csv', 'columns_of_interest': 17, 'epochs': 30, 'test_size': 0.3, 'accuracy_on_validation_data': 0.9156530635443901, 'accuracy_on_new_data': 76.64041994750657}\n",
      "{'csv_path': '/kaggle/input/ssssssss/dataset_small.csv', 'columns_of_interest': 17, 'epochs': 30, 'test_size': 0.2, 'accuracy_on_validation_data': 0.9156790860260892, 'accuracy_on_new_data': 75.39807524059493}\n",
      "{'csv_path': '/kaggle/input/ssssssss/dataset_small.csv', 'columns_of_interest': 17, 'epochs': 40, 'test_size': 0.5, 'accuracy_on_validation_data': 0.9132080619309075, 'accuracy_on_new_data': 77.98775153105862}\n",
      "{'csv_path': '/kaggle/input/ssssssss/dataset_small.csv', 'columns_of_interest': 17, 'epochs': 40, 'test_size': 0.4, 'accuracy_on_validation_data': 0.9246312558615398, 'accuracy_on_new_data': 74.53193350831147}\n",
      "{'csv_path': '/kaggle/input/ssssssss/dataset_small.csv', 'columns_of_interest': 17, 'epochs': 40, 'test_size': 0.3, 'accuracy_on_validation_data': 0.9199158804137775, 'accuracy_on_new_data': 76.66666666666667}\n",
      "{'csv_path': '/kaggle/input/ssssssss/dataset_small.csv', 'columns_of_interest': 17, 'epochs': 40, 'test_size': 0.2, 'accuracy_on_validation_data': 0.9242902208201893, 'accuracy_on_new_data': 74.16447944006998}\n",
      "{'csv_path': '/kaggle/input/ssssssss/dataset_small.csv', 'columns_of_interest': 17, 'epochs': 50, 'test_size': 0.5, 'accuracy_on_validation_data': 0.9204037786038264, 'accuracy_on_new_data': 75.7305336832896}\n",
      "{'csv_path': '/kaggle/input/ssssssss/dataset_small.csv', 'columns_of_interest': 17, 'epochs': 50, 'test_size': 0.4, 'accuracy_on_validation_data': 0.9194731008611134, 'accuracy_on_new_data': 70.84864391951005}\n",
      "{'csv_path': '/kaggle/input/ssssssss/dataset_small.csv', 'columns_of_interest': 17, 'epochs': 50, 'test_size': 0.3, 'accuracy_on_validation_data': 0.9264521996135046, 'accuracy_on_new_data': 74.53193350831147}\n",
      "{'csv_path': '/kaggle/input/ssssssss/dataset_small.csv', 'columns_of_interest': 17, 'epochs': 50, 'test_size': 0.2, 'accuracy_on_validation_data': 0.9242902208201893, 'accuracy_on_new_data': 74.09448818897638}\n",
      "{'csv_path': '/kaggle/input/ssssssss/dataset_small.csv', 'columns_of_interest': 18, 'epochs': 10, 'test_size': 0.5, 'accuracy_on_validation_data': 0.889745251168025, 'accuracy_on_new_data': 71.61854768153981}\n",
      "{'csv_path': '/kaggle/input/ssssssss/dataset_small.csv', 'columns_of_interest': 18, 'epochs': 10, 'test_size': 0.4, 'accuracy_on_validation_data': 0.8990536277602523, 'accuracy_on_new_data': 76.37795275590551}\n",
      "{'csv_path': '/kaggle/input/ssssssss/dataset_small.csv', 'columns_of_interest': 18, 'epochs': 10, 'test_size': 0.3, 'accuracy_on_validation_data': 0.9034898260770717, 'accuracy_on_new_data': 75.97550306211723}\n",
      "{'csv_path': '/kaggle/input/ssssssss/dataset_small.csv', 'columns_of_interest': 18, 'epochs': 10, 'test_size': 0.2, 'accuracy_on_validation_data': 0.8972631937931622, 'accuracy_on_new_data': 75.95800524934383}\n",
      "{'csv_path': '/kaggle/input/ssssssss/dataset_small.csv', 'columns_of_interest': 18, 'epochs': 20, 'test_size': 0.5, 'accuracy_on_validation_data': 0.9069672270913617, 'accuracy_on_new_data': 74.1557305336833}\n",
      "{'csv_path': '/kaggle/input/ssssssss/dataset_small.csv', 'columns_of_interest': 18, 'epochs': 20, 'test_size': 0.4, 'accuracy_on_validation_data': 0.9111177423480262, 'accuracy_on_new_data': 78.02274715660542}\n",
      "{'csv_path': '/kaggle/input/ssssssss/dataset_small.csv', 'columns_of_interest': 18, 'epochs': 20, 'test_size': 0.3, 'accuracy_on_validation_data': 0.9075821302716836, 'accuracy_on_new_data': 74.36570428696413}\n",
      "{'csv_path': '/kaggle/input/ssssssss/dataset_small.csv', 'columns_of_interest': 18, 'epochs': 20, 'test_size': 0.2, 'accuracy_on_validation_data': 0.906641657430301, 'accuracy_on_new_data': 76.60542432195976}\n",
      "{'csv_path': '/kaggle/input/ssssssss/dataset_small.csv', 'columns_of_interest': 18, 'epochs': 30, 'test_size': 0.5, 'accuracy_on_validation_data': 0.9149814139071718, 'accuracy_on_new_data': 77.8827646544182}\n",
      "{'csv_path': '/kaggle/input/ssssssss/dataset_small.csv', 'columns_of_interest': 18, 'epochs': 30, 'test_size': 0.4, 'accuracy_on_validation_data': 0.9187910307784125, 'accuracy_on_new_data': 76.47419072615924}\n",
      "{'csv_path': '/kaggle/input/ssssssss/dataset_small.csv', 'columns_of_interest': 18, 'epochs': 30, 'test_size': 0.3, 'accuracy_on_validation_data': 0.9236103217005798, 'accuracy_on_new_data': 77.63779527559055}\n",
      "{'csv_path': '/kaggle/input/ssssssss/dataset_small.csv', 'columns_of_interest': 18, 'epochs': 30, 'test_size': 0.2, 'accuracy_on_validation_data': 0.9224997868530992, 'accuracy_on_new_data': 78.75765529308836}\n",
      "{'csv_path': '/kaggle/input/ssssssss/dataset_small.csv', 'columns_of_interest': 18, 'epochs': 40, 'test_size': 0.5, 'accuracy_on_validation_data': 0.9183576032465982, 'accuracy_on_new_data': 77.77777777777779}\n",
      "{'csv_path': '/kaggle/input/ssssssss/dataset_small.csv', 'columns_of_interest': 18, 'epochs': 40, 'test_size': 0.4, 'accuracy_on_validation_data': 0.9236934094978259, 'accuracy_on_new_data': 78.55643044619423}\n",
      "{'csv_path': '/kaggle/input/ssssssss/dataset_small.csv', 'columns_of_interest': 18, 'epochs': 40, 'test_size': 0.3, 'accuracy_on_validation_data': 0.9243492099579402, 'accuracy_on_new_data': 73.92825896762905}\n",
      "{'csv_path': '/kaggle/input/ssssssss/dataset_small.csv', 'columns_of_interest': 18, 'epochs': 40, 'test_size': 0.2, 'accuracy_on_validation_data': 0.9279563475147071, 'accuracy_on_new_data': 75.11811023622047}\n",
      "{'csv_path': '/kaggle/input/ssssssss/dataset_small.csv', 'columns_of_interest': 18, 'epochs': 50, 'test_size': 0.5, 'accuracy_on_validation_data': 0.9257238345326194, 'accuracy_on_new_data': 75.29308836395451}\n",
      "{'csv_path': '/kaggle/input/ssssssss/dataset_small.csv', 'columns_of_interest': 18, 'epochs': 50, 'test_size': 0.4, 'accuracy_on_validation_data': 0.9275726830931879, 'accuracy_on_new_data': 76.53543307086615}\n",
      "{'csv_path': '/kaggle/input/ssssssss/dataset_small.csv', 'columns_of_interest': 18, 'epochs': 50, 'test_size': 0.3, 'accuracy_on_validation_data': 0.9204842559963624, 'accuracy_on_new_data': 78.15398075240594}\n",
      "{'csv_path': '/kaggle/input/ssssssss/dataset_small.csv', 'columns_of_interest': 18, 'epochs': 50, 'test_size': 0.2, 'accuracy_on_validation_data': 0.9283826413163953, 'accuracy_on_new_data': 75.83552055993002}\n",
      "{'csv_path': '/kaggle/input/ssssssss/dataset_small.csv', 'columns_of_interest': 19, 'epochs': 10, 'test_size': 0.5, 'accuracy_on_validation_data': 0.8991917607338948, 'accuracy_on_new_data': 74.70691163604549}\n",
      "{'csv_path': '/kaggle/input/ssssssss/dataset_small.csv', 'columns_of_interest': 19, 'epochs': 10, 'test_size': 0.4, 'accuracy_on_validation_data': 0.9016966493307187, 'accuracy_on_new_data': 75.34558180227472}\n",
      "{'csv_path': '/kaggle/input/ssssssss/dataset_small.csv', 'columns_of_interest': 19, 'epochs': 10, 'test_size': 0.3, 'accuracy_on_validation_data': 0.9038876889848813, 'accuracy_on_new_data': 72.33595800524935}\n",
      "{'csv_path': '/kaggle/input/ssssssss/dataset_small.csv', 'columns_of_interest': 19, 'epochs': 10, 'test_size': 0.2, 'accuracy_on_validation_data': 0.9010998380083554, 'accuracy_on_new_data': 75.7742782152231}\n",
      "{'csv_path': '/kaggle/input/ssssssss/dataset_small.csv', 'columns_of_interest': 19, 'epochs': 20, 'test_size': 0.5, 'accuracy_on_validation_data': 0.9075810796985302, 'accuracy_on_new_data': 74.55818022747157}\n",
      "{'csv_path': '/kaggle/input/ssssssss/dataset_small.csv', 'columns_of_interest': 19, 'epochs': 20, 'test_size': 0.4, 'accuracy_on_validation_data': 0.9114587773893768, 'accuracy_on_new_data': 77.69903762029746}\n",
      "{'csv_path': '/kaggle/input/ssssssss/dataset_small.csv', 'columns_of_interest': 19, 'epochs': 20, 'test_size': 0.3, 'accuracy_on_validation_data': 0.9173013527338866, 'accuracy_on_new_data': 75.18810148731409}\n",
      "{'csv_path': '/kaggle/input/ssssssss/dataset_small.csv', 'columns_of_interest': 19, 'epochs': 20, 'test_size': 0.2, 'accuracy_on_validation_data': 0.91278028817461, 'accuracy_on_new_data': 75.52055993000874}\n",
      "{'csv_path': '/kaggle/input/ssssssss/dataset_small.csv', 'columns_of_interest': 19, 'epochs': 30, 'test_size': 0.5, 'accuracy_on_validation_data': 0.9203696756812059, 'accuracy_on_new_data': 77.90026246719161}\n",
      "{'csv_path': '/kaggle/input/ssssssss/dataset_small.csv', 'columns_of_interest': 19, 'epochs': 30, 'test_size': 0.4, 'accuracy_on_validation_data': 0.9229687100349561, 'accuracy_on_new_data': 73.6745406824147}\n",
      "{'csv_path': '/kaggle/input/ssssssss/dataset_small.csv', 'columns_of_interest': 19, 'epochs': 30, 'test_size': 0.3, 'accuracy_on_validation_data': 0.9220188700693418, 'accuracy_on_new_data': 79.4313210848644}\n",
      "{'csv_path': '/kaggle/input/ssssssss/dataset_small.csv', 'columns_of_interest': 19, 'epochs': 30, 'test_size': 0.2, 'accuracy_on_validation_data': 0.9144002046210248, 'accuracy_on_new_data': 75.76552930883639}\n",
      "{'csv_path': '/kaggle/input/ssssssss/dataset_small.csv', 'columns_of_interest': 19, 'epochs': 40, 'test_size': 0.5, 'accuracy_on_validation_data': 0.9149473109845514, 'accuracy_on_new_data': 78.33770778652669}\n",
      "{'csv_path': '/kaggle/input/ssssssss/dataset_small.csv', 'columns_of_interest': 19, 'epochs': 40, 'test_size': 0.4, 'accuracy_on_validation_data': 0.9224571574729303, 'accuracy_on_new_data': 78.66141732283465}\n",
      "{'csv_path': '/kaggle/input/ssssssss/dataset_small.csv', 'columns_of_interest': 19, 'epochs': 40, 'test_size': 0.3, 'accuracy_on_validation_data': 0.9227577583267023, 'accuracy_on_new_data': 77.20034995625547}\n",
      "{'csv_path': '/kaggle/input/ssssssss/dataset_small.csv', 'columns_of_interest': 19, 'epochs': 40, 'test_size': 0.2, 'accuracy_on_validation_data': 0.9248870321425526, 'accuracy_on_new_data': 77.21784776902886}\n",
      "{'csv_path': '/kaggle/input/ssssssss/dataset_small.csv', 'columns_of_interest': 19, 'epochs': 50, 'test_size': 0.5, 'accuracy_on_validation_data': 0.9209494253657539, 'accuracy_on_new_data': 78.64391951006124}\n",
      "{'csv_path': '/kaggle/input/ssssssss/dataset_small.csv', 'columns_of_interest': 19, 'epochs': 50, 'test_size': 0.4, 'accuracy_on_validation_data': 0.9271037599113309, 'accuracy_on_new_data': 75.249343832021}\n",
      "{'csv_path': '/kaggle/input/ssssssss/dataset_small.csv', 'columns_of_interest': 19, 'epochs': 50, 'test_size': 0.3, 'accuracy_on_validation_data': 0.9270205751960896, 'accuracy_on_new_data': 78.60017497812774}\n",
      "{'csv_path': '/kaggle/input/ssssssss/dataset_small.csv', 'columns_of_interest': 19, 'epochs': 50, 'test_size': 0.2, 'accuracy_on_validation_data': 0.9259953960269418, 'accuracy_on_new_data': 77.26159230096238}\n",
      "{'csv_path': '/kaggle/input/ssssssss/dataset_small.csv', 'columns_of_interest': 20, 'epochs': 10, 'test_size': 0.5, 'accuracy_on_validation_data': 0.8947242778706135, 'accuracy_on_new_data': 72.82589676290463}\n",
      "{'csv_path': '/kaggle/input/ssssssss/dataset_small.csv', 'columns_of_interest': 20, 'epochs': 10, 'test_size': 0.4, 'accuracy_on_validation_data': 0.9002472504049791, 'accuracy_on_new_data': 76.22922134733159}\n",
      "{'csv_path': '/kaggle/input/ssssssss/dataset_small.csv', 'columns_of_interest': 20, 'epochs': 10, 'test_size': 0.3, 'accuracy_on_validation_data': 0.8998522223485279, 'accuracy_on_new_data': 75.7830271216098}\n",
      "{'csv_path': '/kaggle/input/ssssssss/dataset_small.csv', 'columns_of_interest': 20, 'epochs': 10, 'test_size': 0.2, 'accuracy_on_validation_data': 0.9010145792480178, 'accuracy_on_new_data': 72.45844269466318}\n",
      "{'csv_path': '/kaggle/input/ssssssss/dataset_small.csv', 'columns_of_interest': 20, 'epochs': 20, 'test_size': 0.5, 'accuracy_on_validation_data': 0.9027043617638032, 'accuracy_on_new_data': 73.73578302712161}\n",
      "{'csv_path': '/kaggle/input/ssssssss/dataset_small.csv', 'columns_of_interest': 20, 'epochs': 20, 'test_size': 0.4, 'accuracy_on_validation_data': 0.9123966237530906, 'accuracy_on_new_data': 77.95275590551181}\n",
      "{'csv_path': '/kaggle/input/ssssssss/dataset_small.csv', 'columns_of_interest': 20, 'epochs': 20, 'test_size': 0.3, 'accuracy_on_validation_data': 0.9137774241218597, 'accuracy_on_new_data': 77.46281714785653}\n",
      "{'csv_path': '/kaggle/input/ssssssss/dataset_small.csv', 'columns_of_interest': 20, 'epochs': 20, 'test_size': 0.2, 'accuracy_on_validation_data': 0.9173842612328417, 'accuracy_on_new_data': 76.38670166229221}\n",
      "{'csv_path': '/kaggle/input/ssssssss/dataset_small.csv', 'columns_of_interest': 20, 'epochs': 30, 'test_size': 0.5, 'accuracy_on_validation_data': 0.9174368243358456, 'accuracy_on_new_data': 76.3429571303587}\n",
      "{'csv_path': '/kaggle/input/ssssssss/dataset_small.csv', 'columns_of_interest': 20, 'epochs': 30, 'test_size': 0.4, 'accuracy_on_validation_data': 0.9224571574729303, 'accuracy_on_new_data': 78.22397200349957}\n",
      "{'csv_path': '/kaggle/input/ssssssss/dataset_small.csv', 'columns_of_interest': 20, 'epochs': 30, 'test_size': 0.3, 'accuracy_on_validation_data': 0.9159372513356826, 'accuracy_on_new_data': 79.09886264216973}\n",
      "{'csv_path': '/kaggle/input/ssssssss/dataset_small.csv', 'columns_of_interest': 20, 'epochs': 30, 'test_size': 0.2, 'accuracy_on_validation_data': 0.9210503879273595, 'accuracy_on_new_data': 79.03762029746282}\n",
      "{'csv_path': '/kaggle/input/ssssssss/dataset_small.csv', 'columns_of_interest': 20, 'epochs': 40, 'test_size': 0.5, 'accuracy_on_validation_data': 0.9101387988950653, 'accuracy_on_new_data': 79.02887139107612}\n",
      "{'csv_path': '/kaggle/input/ssssssss/dataset_small.csv', 'columns_of_interest': 20, 'epochs': 40, 'test_size': 0.4, 'accuracy_on_validation_data': 0.9228834512746185, 'accuracy_on_new_data': 79.74628171478565}\n",
      "{'csv_path': '/kaggle/input/ssssssss/dataset_small.csv', 'columns_of_interest': 20, 'epochs': 40, 'test_size': 0.3, 'accuracy_on_validation_data': 0.9229851085597363, 'accuracy_on_new_data': 78.89763779527559}\n",
      "{'csv_path': '/kaggle/input/ssssssss/dataset_small.csv', 'columns_of_interest': 20, 'epochs': 40, 'test_size': 0.2, 'accuracy_on_validation_data': 0.9207946116463467, 'accuracy_on_new_data': 75.06561679790026}\n",
      "{'csv_path': '/kaggle/input/ssssssss/dataset_small.csv', 'columns_of_interest': 20, 'epochs': 50, 'test_size': 0.5, 'accuracy_on_validation_data': 0.9265423046755107, 'accuracy_on_new_data': 78.67891513560805}\n",
      "{'csv_path': '/kaggle/input/ssssssss/dataset_small.csv', 'columns_of_interest': 20, 'epochs': 50, 'test_size': 0.4, 'accuracy_on_validation_data': 0.9257822491260977, 'accuracy_on_new_data': 73.30708661417323}\n",
      "{'csv_path': '/kaggle/input/ssssssss/dataset_small.csv', 'columns_of_interest': 20, 'epochs': 50, 'test_size': 0.3, 'accuracy_on_validation_data': 0.9307150164828919, 'accuracy_on_new_data': 73.35958005249343}\n",
      "{'csv_path': '/kaggle/input/ssssssss/dataset_small.csv', 'columns_of_interest': 20, 'epochs': 50, 'test_size': 0.2, 'accuracy_on_validation_data': 0.9270185011509933, 'accuracy_on_new_data': 77.40157480314961}\n"
     ]
    }
   ],
   "source": [
    "import pandas as pd\n",
    "import numpy as np\n",
    "from sklearn.metrics import accuracy_score\n",
    "from sklearn.preprocessing import MinMaxScaler\n",
    "from sklearn.model_selection import train_test_split\n",
    "from keras.models import Sequential\n",
    "from keras.layers import Dense\n",
    "\n",
    "def preprocess_data(csv_path, columns_of_interest, test_size):\n",
    "    # Read the CSV file into a DataFrame\n",
    "    df = pd.read_csv(csv_path)\n",
    "\n",
    "    # Replace -1 with mean values\n",
    "    for col in df.columns:\n",
    "        if -1 in df[col].unique():\n",
    "            mean_value = int(df[col][df[col] != -1].mean())\n",
    "            df[col] = df[col].replace(-1, mean_value)\n",
    "\n",
    "    target_column = 'phishing'\n",
    "    x = df.drop(target_column, axis=1)\n",
    "    scaler = MinMaxScaler()\n",
    "\n",
    "    # Apply Min-Max scaling to each column\n",
    "    for col in x.columns:\n",
    "        column_values = x[col].values.reshape(-1, 1)\n",
    "        x[col] = scaler.fit_transform(column_values)\n",
    "\n",
    "    df = pd.concat([x, df[target_column]], axis=1)\n",
    "\n",
    "    X = df.drop('phishing', axis=1)\n",
    "    y = df['phishing'].values\n",
    "\n",
    "    selected_columns = X[columns_of_interest].values\n",
    "\n",
    "    # Split the data into training and testing sets\n",
    "    X_train, X_test, y_train, y_test = train_test_split(selected_columns, y, test_size=test_size, random_state=42)\n",
    "\n",
    "    return X_train, X_test, y_train, y_test\n",
    "\n",
    "\n",
    "\n",
    "def train_and_test_model(X_train, y_train, X_test, y_test, epochs, input_dim):\n",
    "    model = create_feedforward_neural_network(input_dim)\n",
    "    model.fit(X_train, y_train, epochs=epochs, batch_size=64,verbose=0)\n",
    "    #print(X_test.shape)\n",
    "    y_pred = model.predict(X_test,verbose=0)\n",
    "    threshold = 0.5\n",
    "\n",
    "    # Calculate metrics\n",
    "    y_pred_binary = (y_pred > threshold).astype(int)\n",
    "    accuracy = accuracy_score(y_test, y_pred_binary)\n",
    "    return accuracy, model\n",
    "\n",
    "def predict_with_model(model, features, actual_results):\n",
    "    features = features.reshape((features.shape[0], features.shape[2]))\n",
    "    #print(features[0])\n",
    "    y_pred_prob = model.predict(features,verbose=0)\n",
    "    \n",
    "    threshold = 0.5\n",
    "    y_pred = (y_pred_prob > threshold).astype(int)\n",
    "\n",
    "    accuracy = calculate_accur(y_pred, actual_results)\n",
    "    return accuracy\n",
    "\n",
    "def grid_hyperparameter_tuning(csv_paths, columns_of_interest_range, epochs_range, testing_sizes):\n",
    "    results = []\n",
    "    for csv_path in csv_paths:\n",
    "        for columns_of_interest_number in range(columns_of_interest_range[0], columns_of_interest_range[1] + 1):\n",
    "            for epochs in epochs_range:\n",
    "                for test_size in testing_sizes:\n",
    "                    X_train, X_test, y_train, y_test = preprocess_data(csv_path, columns_of_interest[:columns_of_interest_number], test_size)\n",
    "                    accuracy, model = train_and_test_model(X_train, y_train, X_test, y_test, epochs, X_train.shape[1])\n",
    "\n",
    "\n",
    "                    ds = pd.read_csv(csv_path)\n",
    "                    V = ds[columns_of_interest[:columns_of_interest_number]]\n",
    "\n",
    "                    mean_values = V.replace(-1, np.nan).mean(axis=0)\n",
    "                    v_copy = dataset.drop('phishing', axis=1).replace(-1, np.nan)\n",
    "                    v_copy.fillna(mean_values, inplace=True)\n",
    "                    v_copy = v_copy.iloc[:, :columns_of_interest_number]\n",
    "                    features = v_copy.values\n",
    "\n",
    "                    min_values = V.replace(-1, np.nan).min(axis=0)\n",
    "                    max_values = V.max(axis=0)\n",
    "                    scaled_features = []\n",
    "\n",
    "                    for row in features:\n",
    "                        filtered_row = row[row != -1]\n",
    "                        scaler = MinMaxScaler()\n",
    "                        scaler.fit([min_values, max_values])\n",
    "                        scaled_row = scaler.transform([filtered_row])\n",
    "                        scaled_features.append(scaled_row)\n",
    "\n",
    "                    scaled_example = np.array(scaled_features)\n",
    "\n",
    "                    accuracy_on_new_data = predict_with_model(model,scaled_example, dataset['phishing'])\n",
    "\n",
    "                    parameters = {\n",
    "                        \"csv_path\": csv_path,\n",
    "                        \"columns_of_interest\": columns_of_interest_number,\n",
    "                        \"epochs\": epochs,\n",
    "                        \"test_size\": test_size,\n",
    "                        \"accuracy_on_validation_data\": accuracy,\n",
    "                        \"accuracy_on_new_data\": accuracy_on_new_data\n",
    "                    }\n",
    "                    print(parameters)\n",
    "                    results.append(parameters)\n",
    "    return results\n",
    "\n",
    "# Define parameters\n",
    "csv_paths = ['/kaggle/input/zzzzzz/mendeley_dataset_full.csv',\n",
    "             '/kaggle/input/ssssssss/dataset_small.csv']\n",
    "columns_of_interest_range = [14, 20]\n",
    "epochs_range = [10, 20, 30, 40, 50]\n",
    "testing_sizes = [0.5, 0.4, 0.3, 0.2]\n",
    "\n",
    "# Perform grid-based hyperparameter tuning\n",
    "results = grid_hyperparameter_tuning(csv_paths, columns_of_interest_range, epochs_range, testing_sizes)\n",
    "# Print results\n",
    "for result in results:\n",
    "    print(result)\n"
   ]
  },
  {
   "cell_type": "code",
   "execution_count": 7,
   "id": "ae55adf0",
   "metadata": {
    "execution": {
     "iopub.execute_input": "2024-03-28T22:58:24.578680Z",
     "iopub.status.busy": "2024-03-28T22:58:24.578297Z",
     "iopub.status.idle": "2024-03-28T22:58:24.586117Z",
     "shell.execute_reply": "2024-03-28T22:58:24.584834Z"
    },
    "id": "us2GDVOzrW97",
    "papermill": {
     "duration": 0.051196,
     "end_time": "2024-03-28T22:58:24.588274",
     "exception": false,
     "start_time": "2024-03-28T22:58:24.537078",
     "status": "completed"
    },
    "tags": []
   },
   "outputs": [
    {
     "name": "stdout",
     "output_type": "stream",
     "text": [
      "Best Result:\n",
      "csv_path: /kaggle/input/ssssssss/dataset_small.csv\n",
      "columns_of_interest: 20\n",
      "epochs: 40\n",
      "test_size: 0.4\n",
      "accuracy_on_validation_data: 0.9228834512746185\n",
      "accuracy_on_new_data: 79.74628171478565\n"
     ]
    }
   ],
   "source": [
    "best_result = max(results, key=lambda x: x['accuracy_on_new_data'])\n",
    "\n",
    "# Print the parameters of the best result\n",
    "print(\"Best Result:\")\n",
    "for key, value in best_result.items():\n",
    "    print(f\"{key}: {value}\")"
   ]
  },
  {
   "cell_type": "code",
   "execution_count": null,
   "id": "a19b72b0",
   "metadata": {
    "executionInfo": {
     "elapsed": 432,
     "status": "error",
     "timestamp": 1711641980003,
     "user": {
      "displayName": "project h",
      "userId": "02799284407731197507"
     },
     "user_tz": -330
    },
    "id": "JyCia1nwrXjI",
    "outputId": "30cc86d1-95a8-4bb6-a082-ccd0091fbe75",
    "papermill": {
     "duration": 0.039019,
     "end_time": "2024-03-28T22:58:24.667702",
     "exception": false,
     "start_time": "2024-03-28T22:58:24.628683",
     "status": "completed"
    },
    "tags": []
   },
   "outputs": [],
   "source": []
  },
  {
   "cell_type": "code",
   "execution_count": null,
   "id": "e35e21f1",
   "metadata": {
    "id": "UpEHHLL0z-Z2",
    "papermill": {
     "duration": 0.039499,
     "end_time": "2024-03-28T22:58:24.747282",
     "exception": false,
     "start_time": "2024-03-28T22:58:24.707783",
     "status": "completed"
    },
    "tags": []
   },
   "outputs": [],
   "source": []
  }
 ],
 "metadata": {
  "kaggle": {
   "accelerator": "none",
   "dataSources": [
    {
     "datasetId": 4687828,
     "sourceId": 7967469,
     "sourceType": "datasetVersion"
    },
    {
     "datasetId": 4687833,
     "sourceId": 7967475,
     "sourceType": "datasetVersion"
    },
    {
     "datasetId": 4687839,
     "sourceId": 7967483,
     "sourceType": "datasetVersion"
    }
   ],
   "isGpuEnabled": false,
   "isInternetEnabled": true,
   "language": "python",
   "sourceType": "notebook"
  },
  "kernelspec": {
   "display_name": "Python 3",
   "language": "python",
   "name": "python3"
  },
  "language_info": {
   "codemirror_mode": {
    "name": "ipython",
    "version": 3
   },
   "file_extension": ".py",
   "mimetype": "text/x-python",
   "name": "python",
   "nbconvert_exporter": "python",
   "pygments_lexer": "ipython3",
   "version": "3.10.13"
  },
  "papermill": {
   "default_parameters": {},
   "duration": 14959.399996,
   "end_time": "2024-03-28T22:58:27.259103",
   "environment_variables": {},
   "exception": null,
   "input_path": "__notebook__.ipynb",
   "output_path": "__notebook__.ipynb",
   "parameters": {},
   "start_time": "2024-03-28T18:49:07.859107",
   "version": "2.5.0"
  }
 },
 "nbformat": 4,
 "nbformat_minor": 5
}
